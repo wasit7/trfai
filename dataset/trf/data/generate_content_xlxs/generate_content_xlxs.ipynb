{
 "cells": [
  {
   "cell_type": "code",
   "execution_count": 20,
   "metadata": {},
   "outputs": [],
   "source": [
    "import json\n",
    "encoding='utf-8'\n",
    "with open('documents_5grams.json',encoding=encoding) as document_file:\n",
    "    data = json.load(document_file)    "
   ]
  },
  {
   "cell_type": "code",
   "execution_count": 21,
   "metadata": {},
   "outputs": [
    {
     "data": {
      "text/plain": [
       "[{'project_id': 'BGJ4380009',\n",
       "  'doc_id': '0',\n",
       "  'sentence_importance': [{'rank': 1,\n",
       "    'sentence': 'ภายใต้สภาวะของการผลิตตามปกติการเลือกเกิดปฏิกิริยาอีพอกซิเดชันค่อนข้างต่ำอันเนื่องจากมีออกซิเจนปกคลุมบนพื้นผิวตัวเร่งปฏิกิริยาน้อย '},\n",
       "   {'rank': 2,\n",
       "    'sentence': 'และปิโตรเคมีจุฬาลงกรณ์มหาวิทยาลัยE-mail Address : siriphong@rocketmail.comระยะเวลาโครงการ : 2 ปี 1 กันยายน 2543 - 31 สิงหาคม 2545 ในปัจจุบันตัวเร่งปฏิกิริยาโลหะเงินถูกใช้สําหรับการผลิตเอธิลีนออกไซด์ '},\n",
       "   {'rank': 3,\n",
       "    'sentence': 'ว่าโลหะเงินบนฐานรองรับไทเทเนียในการเป็นตัวเร่งปฏิกิริยาที่ไม่ดีสําหรับปฏิกิริยาอีพอกซิเดชัน '},\n",
       "   {'rank': 4,\n",
       "    'sentence': 'การเติมโลหะทองบนตัวเร่งปฏิกิริยาโลหะเงิน พบว่า 0.54% ของทองบน 13.18% AgAl2O3 สามารถให้เกิดการเลือกเกิดปฏิกิริยาสูงสุดได้ถึง 90% '},\n",
       "   {'rank': 5,\n",
       "    'sentence': 'คือการศึกษาผลของการใช้ทองเป็นตัวส่งเสริมบนตัวเร่งปฏิกิริยาโลหะเงินบนฐานรองรับ อลูมินา Degussa C Al2O3 '},\n",
       "   {'rank': 6,\n",
       "    'sentence': 'เป็นตัวเร่งปฏิกิริยาที่ดีที่สุดสําหรับปฏิกิริยาอีพอกซิเดชันคําหลัก : เอธิลีนออกไซด์ '},\n",
       "   {'rank': 7,\n",
       "    'sentence': 'และศึกษาผลของการเปลี่ยนฐานรองรับอื่นๆ เช่น ไททาเนีย TiO2 ในงานวิจัยนี้ได้ทําการทดลองศึกษาความสามารถของตัวเร่งปฏิกิริยาสําหรับเอธิลีนอีพอกซิเดชัน '},\n",
       "   {'rank': 8,\n",
       "    'sentence': 'นี้สําหรับตัวเร่งปฏิกิริยาที่เตรียมได้ พบว่า Au-AgAl2O3 '},\n",
       "   {'rank': 9,\n",
       "    'sentence': '-0009ชื่อโครงการ : การเลือกเกิดปฏิกิริยาออกซิเดชันของเอธิลีนบนฐานรองรับที่มีตัวเร่งปฏิกิริยา '},\n",
       "   {'rank': 10,\n",
       "    'sentence': 'สําหรับผลการทดลองของ AgDegussa C Al2O3 พบว่าปริมาณโลหะเงินที่เหมาะสมที่สุดคือ 13.18% '}],\n",
       "  'published_year': '2009',\n",
       "  'keyword': 'สาร,ตัว,จำนวน,กาล,ฐาน,ปฏิกิริยา,สภาพ,หลัก,ผสม,ทําการ,คํา,เงิน,ยับยั้ง,ผิว,จํา,เตรียม,วัตถุประสงค์,ต่ำ,โลหะ,เหมาะสม,สํา,จุฬาลงกรณ์มหาวิทยาลัย,น.น.,เติม,เร่ง,เนื่อง,เผา,พิษ,พื้น,หรับ,เลือก,ทอง,สรุป,ส่งเสริม,ปกติ,ปฏิบัติการ,เตา,ค้ำ,ทดแทน,ออกซิเจน,ส.ค.,แนวโน้ม,ออกซิเดชัน,กันยายน,ดิฟ',\n",
       "  'title': 'การเลือกเกิดปฏิกิริยาออกซิเดชันของเอทิลีนบนฐานรองรับที่มีตัวเร่งปฏิกิริยาเป็นโลหะเงินและโลหะผสมเงิน-ทอง',\n",
       "  'content': 'AbstractProject Code : BGJ43-8-0009Project Title : Selective Oxidation of Ethylene over Supported Ag and Bimetallic Au-Ag CatalystsInvestigator : Mr. Siriphong Roatluechai The Petroleum and Petrochemical College Chulalongkorn UniversityE-mail Address : siriphong@rocketmail.comProject Period : 2 Years 1 September 2000 - 31 August 2002Silver-based catalyst is currently used for production of ethylene oxide since itprovides both adequate activity and selectivity. Under the normal productionconditions the selectivity of epoxidation reaction is relatively low resulted from the lowoxygen surface coverage. In practice a small amount of halogenated hydrocarbon isadded to the gas stream for inhibiting deep oxidation. Therefore it is desirable to findan alternative to replace this toxic compound. The objectives of this research were tostudy the effect of gold as promoter on silver catalyst over Degussa C Al2O3 and alsoto investigate the effect of supports which was TiO2. Catalyst activity experiments forethylene epoxidation were carried out by using a differential reactor. For 13.18% Ag onDegussa C Al2O3 gave the optimum ethylene epoxidation. An addition of 0.54% goldon 13.18% AgAl2O3 maximized the activity with the ethylene oxide selectivity up to90%. In contrast Ag on TiO2 was poor catalysts for ethylene epoxdation. As expectedAuTiO2 gave a good trend for ethylene epoxidation but still obtained a lower yield thanAgAl2O3. Among the prepared catalysts in this research Au-Ag on Al2O3 is the bestcatalyst for ethylene epoxidation.Keywords : Ethylene oxideEthylene oxidationsilvergoldAl2O3 TiO2  CeO2 บทคัดย่อรหัสโครงการ : BGJ43-8-0009ชื่อโครงการ : การเลือกเกิดปฏิกิริยาออกซิเดชันของเอธิลีนบนฐานรองรับที่มีตัวเร่งปฏิกิริยา เป็นโลหะเงินและโลหะผสมเงิน-ทองชื่อนักวิจัย : นายศิริพงษ์ โรจน์ลือชัย วิทยาลัยปิโตรเลียมและปิโตรเคมีจุฬาลงกรณ์มหาวิทยาลัยE-mail Address : siriphong@rocketmail.comระยะเวลาโครงการ : 2 ปี 1 กันยายน 2543 - 31 สิงหาคม 2545 ในปัจจุบันตัวเร่งปฏิกิริยาโลหะเงินถูกใช้สําหรับการผลิตเอธิลีนออกไซด์ เพราะให้ทั้งความสามารถเกิดปฏิกิริยาและการเลือกเกิดปฏิกิริยาที่สูงเพียงพอ ภายใต้สภาวะของการผลิตตามปกติการเลือกเกิดปฏิกิริยาอีพอกซิเดชันค่อนข้างต่ำอันเนื่องจากมีออกซิเจนปกคลุมบนพื้นผิวตัวเร่งปฏิกิริยาน้อย ในทางปฏิบัติการเติมสารฮาโลจิเนทไฮโดรคาร์บอนจํานวนเล็กน้อยในสารตั้งต้นเพื่อยับยั้งปฏิกิริยาการเผาไหม้ ดังนั้นจึงเป็นสิ่งจําเป็นในการหาทางเลือกอื่นเพื่อทดแทนสารประกอบที่เป็นพิษนี้ วัตถุประสงค์ของการวิจัยนี้ คือการศึกษาผลของการใช้ทองเป็นตัวส่งเสริมบนตัวเร่งปฏิกิริยาโลหะเงินบนฐานรองรับ อลูมินา Degussa C Al2O3 และศึกษาผลของการเปลี่ยนฐานรองรับอื่นๆ เช่น ไททาเนีย TiO2 ในงานวิจัยนี้ได้ทําการทดลองศึกษาความสามารถของตัวเร่งปฏิกิริยาสําหรับเอธิลีนอีพอกซิเดชัน โดยใช้เตาปฏิกรแบบดิฟเฟอเรลเชียล สําหรับผลการทดลองของ AgDegussa C Al2O3 พบว่าปริมาณโลหะเงินที่เหมาะสมที่สุดคือ 13.18% โดยน้ำหนัก สําหรับปฏิกิริยาอีพอกซิเดชันของเอธิลีน การเติมโลหะทองบนตัวเร่งปฏิกิริยาโลหะเงิน พบว่า 0.54% ของทองบน 13.18% AgAl2O3 สามารถให้เกิดการเลือกเกิดปฏิกิริยาสูงสุดได้ถึง 90% ในทางกลับกันผลของการศึกษาแสดงให้เห็นว่าโลหะเงินบนฐานรองรับไทเทเนียในการเป็นตัวเร่งปฏิกิริยาที่ไม่ดีสําหรับปฏิกิริยาอีพอกซิเดชัน แต่ พบว่า AuTiO2 ให้แนวโน้มที่ดีในการเป็นตัวเร่งปฏิกิริยาของปฏิกิริยาเอธีลีนอีพอกซิเดชัน โดยสรุปจากผลการทดลองทั้งหมดในงานวิจัยนี้สําหรับตัวเร่งปฏิกิริยาที่เตรียมได้ พบว่า Au-AgAl2O3 เป็นตัวเร่งปฏิกิริยาที่ดีที่สุดสําหรับปฏิกิริยาอีพอกซิเดชันคําหลัก : เอธิลีนออกไซด์ เอธิลีน ออกซิเดชัน เงิน ทอง อลูมินา ไทเทเนีย',\n",
       "  'word': 'เนื่อง,ออกซิเจน,ปฏิบัติการ,ไททาเนีย,พื้น,ตั้งต้น,โลหะ,ปฏิกร,ลีน,คํา,น.น.,อลูมินา,ค้ำ,พอก,ผิว,หรับ,พอกซิเดชัน,ทดแทน,ผสม,หลัก,ทําการ,เตรียม,ปกติ,สรุป,เอธิลีนออกไซด์,สารฮาโลจิเนทไฮโดรคาร์บอน,เตา,สภาพ,ปิโตรเลียม,จุฬาลงกรณ์มหาวิทยาลัย,เติม,เผา,พิษ,จำนวน,ไทเทเนีย,ดิฟ,สาร,ออกซิเดชัน,ซิเดชัน,เอธี,สํา,กันยายน,เร่ง,จํา,ส่งเสริม,แนวโน้ม,เงิน,เฟอเรลเชียล,เอธิลีน,อีพอกซิเดชัน,ทอง,เหมาะสม,ฐาน,กาล,ปฏิกิริยา,ตัว,ปิโตรเคมี,ที่สุดสําหรับ,ส.ค.,ปกคลุม,วัตถุประสงค์,ต่ำ,เลือก,ยับยั้ง'},\n",
       " {'project_id': 'RDG4730023',\n",
       "  'doc_id': '1',\n",
       "  'sentence_importance': [{'rank': 1,\n",
       "    'sentence': 'โดยจําลองสถานะการณ์ของนักวิทยาศาสตร์จริง ฝึกฝนทักษะในการเก็บข้อมูล '},\n",
       "   {'rank': 2,\n",
       "    'sentence': 'การเรียนรู้อย่างนักวิทยาศาสตร์กับสถานีตรวจอากาศอัตโนมัติชื่อนักวิจัย : ฐากูร เกิดแก้ว1 ศรีดา '},\n",
       "   {'rank': 3,\n",
       "    'sentence': 'รวมทั้งการตีพิมพ์ผลงานในรูปเอกสารวิชาการอิเล็กทรอนิกส์ Electronic Journal ผลสําเร็จของโครงการ'},\n",
       "   {'rank': 4,\n",
       "    'sentence': 'ทําให้เกิดนักวิจัยรุ่นเยาว์จํานวน 62 คน ครูที่ปรึกษา 33 คน จาก 19 โรงเรียน '},\n",
       "   {'rank': 5,\n",
       "    'sentence': 'ตันทะอธิพานิช1 ธีรศักดิ์ ท่าหลวง1 อดิเรก พิทักษ์1ฤาชา รักราชการ1 บุษบา คราเมอร์2 พันธุ์ทิพย์ ทิมสุกใส3; '},\n",
       "   {'rank': 6,\n",
       "    'sentence': 'มีผลงานวิจัยของนักเรียนจํานวน 26 ฉบับเนื่องจาก LESA WS เป็นโครงการที่เกิดจากความร่วมมือของครู'},\n",
       "   {'rank': 7,\n",
       "    'sentence': 'และนักเรียนต่างโรงเรียนช่วยเหลือเกื้อกูลแลกเปลี่ยนข้อมูล'},\n",
       "   {'rank': 8,\n",
       "    'sentence': 'เพื่อฝึกทักษะกระบวนการทางวิทยาศาสตร์อย่างครบวงจรให้แก่ครู'},\n",
       "   {'rank': 9, 'sentence': 'ทําให้เกิดองค์ความรู้ทางด้านภูมิอากาศในท้องถิ่น'},\n",
       "   {'rank': 10,\n",
       "    'sentence': 'ศูนย์ทดสอบผลิตภัณฑ์ไฟฟ้าและอิเล็กทรอนิกส์ 3มหาวิทยาลัยราชภัฏนครราชสีมาEmail address :thagoon@kirdkao.orgระยะเวลาโครงการ :มีนาคม 2547 – กุมภาพันธ์ 2548'}],\n",
       "  'published_year': '2009',\n",
       "  'keyword': 'กาล,รัฐ,ข้อมูล,วิเคราะห์,โรง,สภาพ,สินค้า,เรียน,กระบวน,รู้,ไฟฟ้า,ทดสอบ,รูป,จํานวน,องค์,ท้องถิ่น,จําลอง,สํา,จุด,เสนอ,ครู,เนื่อง,บริการ,มิติ,วิชาการ,กทม.,รุ่น,คําหลัก,แก้ว,อากาศ,หลวง,ตัน,ท่า,ทักษะ,เอกสาร,ราชการ,ฉบับ,รัก,มีนาคม,เว็บ,สถานี,ฝึก,เปลี่ยน,การณ์,วิทยาศาสตร์,ดาว,เริ่ม,ช่วย,เร็จ,ที่ปรึกษา,ภูมิภาค,อิเล็กทรอนิกส์,คืน,ภูมิอากาศ,ออก',\n",
       "  'title': 'การเรียนรู้อย่างนักวิทยาศาสตร์กับสถานีตรวจอากาศอัตโนมัติ',\n",
       "  'content': '2บทคัดย่อรหัสโครงการ : RDG4730023ชื่อโครงการ : การเรียนรู้อย่างนักวิทยาศาสตร์กับสถานีตรวจอากาศอัตโนมัติชื่อนักวิจัย : ฐากูร เกิดแก้ว1 ศรีดา ตันทะอธิพานิช1 ธีรศักดิ์ ท่าหลวง1 อดิเรก พิทักษ์1ฤาชา รักราชการ1 บุษบา คราเมอร์2 พันธุ์ทิพย์ ทิมสุกใส3; 1หอดูดาวเกิดแก้ว 2ศูนย์ทดสอบผลิตภัณฑ์ไฟฟ้าและอิเล็กทรอนิกส์ 3มหาวิทยาลัยราชภัฏนครราชสีมาEmail address :thagoon@kirdkao.orgระยะเวลาโครงการ :มีนาคม 2547 – กุมภาพันธ์ 2548เพื่อฝึกทักษะกระบวนการทางวิทยาศาสตร์อย่างครบวงจรให้แก่ครูและนักเรียน โดยการศึกษาข้อมูลอากาศจากสถานีตรวจอากาศ 8 แห่ง ที่ติดตั้งไว้ทั่วประเทศได้แก่ กรุงเทพฯ นนทบุรี กาญจนบุรี สระบุรี นครราชสีมา เชียงใหม่ ทุ่งสง และนครศรีธรรมราช ข้อมูลทั้งหมดถูกรวบรวมให้บริการบนเว็บไซต์www.lesaproject.com และจัดให้มีค่ายวิทยาศาสตร์จํานวน 3 ครั้งๆ ละ 4 วัน 3 คืน ในระหว่างปีการศึกษา 2547 โดยจําลองสถานะการณ์ของนักวิทยาศาสตร์จริง ฝึกฝนทักษะในการเก็บข้อมูล วิเคราะห์ข้อมูลด้วยซอฟต์แวร์ ตลอดจนการนําเสนอผลงานทางวิชาการในรูปเอกสารวิจัยและโปสเตอร์ รวมทั้งการตีพิมพ์ผลงานในรูปเอกสารวิชาการอิเล็กทรอนิกส์ Electronic Journal ผลสําเร็จของโครงการทําให้เกิดนักวิจัยรุ่นเยาว์จํานวน 62 คน ครูที่ปรึกษา 33 คน จาก 19 โรงเรียน มีผลงานวิจัยของนักเรียนจํานวน 26 ฉบับเนื่องจาก LESA WS เป็นโครงการที่เกิดจากความร่วมมือของครูและนักเรียนจากทั่วประเทศในการทํางานวิจัยโดยใช้ข้อมูลอากาศจริง จึงเป็นการเปิดมิติใหม่ในวงการศึกษาไทย ครูและนักเรียนต่างโรงเรียนช่วยเหลือเกื้อกูลแลกเปลี่ยนข้อมูลและมิตรภาพ ทําให้เกิดองค์ความรู้ทางด้านภูมิอากาศในท้องถิ่นและระหว่างภูมิภาค อีกทั้งเป็นจุดเริ่มต้นของโครงการความร่วมมือกับต่างประเทศ เช่น โครงการแลกเปลี่ยนนักเรียนไทย – นิวซีแลนด์ และ NASA CloudSat Education Networkคําหลัก :สถานีตรวจอากาศอัตโนมัติลมฟ้าอากาศภูมิอากาศ 3AbstractProject Code : RDG4730023Project Title : Learning to be a Scientist with Automatic Weather Station LESA WSInvestigators : Kirdkao T.1 Tanta-atipanit S.1 Thaluang T.1 Pitak A.1 Rakrachakarn R.1 KramerB.2 Timsuksai P.3; 1Kirdkao Observatory 2PTEC 3Nakhon Rachasima Rajabhat UniversityEmail Address :thagoon@kirdkao.orgProject Duration :March 2004 – February 2005The main purpose is to increase the ability of the participants to complete a circle of scientificprocedure by studying weather data which can be acquired from eight weather stations aroundthe country. All the data is gathered and is placed on the LESA website www.lesaproject.com. In2004 three scientific camps were set up. The participants students and teachers were trainedto collect data analyze them by using computer software and present their academic reportson posters and research documents as well as on electronic journals. At the end of the projectsixty-two young scientists thirty-three teachers from nineteen schools had been trained andtwenty-six research documents were written. Moreover since the application of the data camefrom different parts of the country the participants understood not only their own climatebut also that of others. This creates a cooperation among the students and teachers around thecountry which is the new educational dimension in Thai society. Above all it is the beginningof an international cooperation namely: The Thai – New Zealand exchange students programand the NASA CloudSat Education Network.Keywords :Automated weather stationWeatherClimate',\n",
       "  'word': 'ติดตั้ง,เนื่อง,อากาศ,วิทยาศาสตร์,รัฐ,กทม.,คืน,รัก,อัตโนมัติ,การณ์,กระบวน,หลวง,ค่าย,เปลี่ยน,วิชาการ,ฝึกฝน,ราชการ,ที่ปรึกษา,องค์,เกื้อกูล,รู้,ทุ่งสง,เริ่ม,นครราชสีมา,ฟ้าอากาศ,เอกสาร,ซอฟต์แวร์,มิติ,รูป,ตัน,นนทบุรี,จํานวน,อิเล็กทรอนิกส์,เกิดแก้ว,มีนาคม,ทักษะ,สภาพ,รุ่น,ฉบับ,เว็บ,ท่า,บริการ,เรียน,กาญจนบุรี,ไฟฟ้า,ช่วย,ภูมิภาค,ถูกรวบรวม,ครบวง,ท้องถิ่น,ฤาชา,ก.พ.,ทะอธิพานิช,ข้อมูล,สินค้า,สํา,เร็จ,ดาว,คําหลัก,วงการ,สระบุรี,ครู,พิทักษ์,หอดู,แก้ว,จําลอง,เยาว์,มิตรภาพ,เสนอ,กาล,นครศรีธรรมราช,นิวซีแลนด์,โปสเตอร์,ออก,โรง,ภูมิอากาศ,ฝึก,ทดสอบ,จุด,สถานี,ฐากูร,วิเคราะห์'},\n",
       " {'project_id': 'RDG4730020',\n",
       "  'doc_id': '2',\n",
       "  'sentence_importance': [{'rank': 1,\n",
       "    'sentence': 'และกล้ามเนื้ออ่อนแรงซึ่งภาวะความกลัวการหกล้มเป็นปัจจัยที่มีอิทธิพลต่อการทรงตัว การศึกษาครั้งนี้เป็นการศึกษาเปรียบเทียบการทรงตัว '},\n",
       "   {'rank': 2,\n",
       "    'sentence': 'ประสิทธิภาพทางกายลดลงส่งผลให้เกิดภาวะกล้ามเนื้ออ่อนแรง '},\n",
       "   {'rank': 3,\n",
       "    'sentence': 'และอิทธิพลความแข็งแรงของกล้ามเนื้อที่ควบคุมข้อเข่า'},\n",
       "   {'rank': 4,\n",
       "    'sentence': 'และความแตกต่างของการทํางานของกล้ามเนื้อขาเพื่อรักษาสมดุลการทรงตัวของร่างกาย'},\n",
       "   {'rank': 5,\n",
       "    'sentence': 'และหกล้มในผู้สูงอายุไทยภาษาอังกฤษ A study in fall and balance in Thai elderly populationชื่อสกุลผู้วิจัย อาจารย์ แดนเนาวรัตน์ จามรจันทร์ ผู้ช่วยศาสตราจารย์ ดร. จิตอนงค์ ก้าวกสิกรรม อาจารย์ สุจิตรา '},\n",
       "   {'rank': 6,\n",
       "    'sentence': 'ประชากรผู้สูงอายุไทยทั้งเพศชายและหญิง อายุระหว่าง 65'},\n",
       "   {'rank': 7,\n",
       "    'sentence': 'โดยวัดค่าของจุดศูนย์กลางแรงกดที่เท้าที่เปลี่ยนไป '},\n",
       "   {'rank': 8,\n",
       "    'sentence': 'เพื่อเพิ่มความแข็งแรงของกล้ามเนื้อที่ควบคุมข้อเข่า'},\n",
       "   {'rank': 9,\n",
       "    'sentence': 'กลุ่มที่ไม่กลัวการหกล้มเพศชายมีความสามารถในการโน้มตัวมาด้านหน้าได้ระยะทางที่เคลื่อนไปได้มากที่สุดมากกว่าทุกกลุ่มทั้งระหว่างเพศ'},\n",
       "   {'rank': 10,\n",
       "    'sentence': 'โดยมีค่าความแตกต่างอย่างมีนัยสําคัญทางสถิติที่ p<0.05 '}],\n",
       "  'published_year': '2009',\n",
       "  'keyword': 'ค่า,ตัว,กาล,วิธี,เกรด,ปัญหา,ไฟฟ้า,วัด,เรื่อง,ทดสอบ,ทําการ,ภาวะ,ควบคุม,ข้อ,แรง,รักษา,จํา,ประสิทธิภาพ,ปัจจัย,สัมพันธ์,ภาษา,วัตถุประสงค์,ต่าง,จุด,ซิก,อายุ,สรุป,เพศ,เปรียบเทียบ,ทํางาน,หน้า,นัยสําคัญ,อาจารย์,ประชากร,ชาย,ป้องกัน,อ่อน,เคลื่อน,ไหว,สาเหตุ,แดน,กล้ามเนื้อ,กัด,อิทธิพล,หญิง,สกุล,ทิศทาง,สถิติ,แข็งแรง,กาย,สูญเสีย,ศูนย์กลาง,เริ่ม,นอน,รบกวน,ตีน,เอน,อังกฤษ',\n",
       "  'title': 'การศึกษาเรื่องการทรงตัวและหกล้มในผู้สูงอายุไทย',\n",
       "  'content': 'iiiชื่อโครงการวิจัยภาษาไทย การศึกษาเรื่องการทรงตัวและหกล้มในผู้สูงอายุไทยภาษาอังกฤษ A study in fall and balance in Thai elderly populationชื่อสกุลผู้วิจัย อาจารย์ แดนเนาวรัตน์ จามรจันทร์ ผู้ช่วยศาสตราจารย์ ดร. จิตอนงค์ ก้าวกสิกรรม อาจารย์ สุจิตรา บุญหยงบทคัดย่อบทนํา การหกล้มเป็นปัญหาที่พบบ่อยในผู้สูงอายุ สาเหตุที่ทําให้หกล้มนั้นส่วนใหญ่เกิดจากการลดลงหรือสูญเสียการทรงตัว การสูญเสียการทรงตัวพบมากในผู้สูงอายุที่กลัวการหกล้มและกล้ามเนื้ออ่อนแรงซึ่งภาวะความกลัวการหกล้มเป็นปัจจัยที่มีอิทธิพลต่อการทรงตัว การศึกษาครั้งนี้เป็นการศึกษาเปรียบเทียบการทรงตัว และความแตกต่างของการทํางานของกล้ามเนื้อขาเพื่อรักษาสมดุลการทรงตัวของร่างกายเมื่อเสียสมดุลทางด้านหน้าขณะยืนในผู้สูงอายุไทยที่มีภาวะความกลัวการหกล้มและไม่มีภาวะความกลัวการหกล้มวัตถุประสงค์ ศึกษาระดับการทรงตัวในผู้สูงอายุ ความสัมพันธ์ระหว่างความกลัวการหกล้มกับการทรงตัวในผู้สูงอายุ และอิทธิพลความแข็งแรงของกล้ามเนื้อที่ควบคุมข้อเข่าและข้อเท้ากับการทรงตัววิธีการศึกษา ประชากรผู้สูงอายุไทยทั้งเพศชายและหญิง อายุระหว่าง 65-80 ปี เพศละ 30 คน แต่ละเพศแบ่งเป็น 2 กลุ่ม คือ กลุ่มที่กลัวการหกล้มและกลุ่มที่ไม่กลัวการหกล้ม กลุ่มละ 15 คน ทําการทดสอบการทรงตัวขณะยืน โดยวัดค่าของจุดศูนย์กลางแรงกดที่เท้าที่เปลี่ยนไป ระยะจํากัดการทรงตัว ขณะโน้มตัวไปด้านหน้าและเอนตัวมาทางด้านหลัง และวัดเวลาเริ่มต้นของการเปลี่ยนแปลงสัญญาณไฟฟ้าที่กล้ามเนื้อtibailis anterior rectus femoris biceps femoris และ gastrocnemius medial head ของขาขวา เมื่อถูกรบกวนให้เสียสมดุลไปด้านหน้าผลการศึกษา กลุ่มที่ไม่กลัวการหกล้มเพศชายมีความสามารถในการโน้มตัวมาด้านหน้าได้ระยะทางที่เคลื่อนไปได้มากที่สุดมากกว่าทุกกลุ่มทั้งระหว่างเพศและในเพศเดียวกัน โดยมีค่าความแตกต่างอย่างมีนัยสําคัญทางสถิติที่ p<0.05 และกลุ่มที่ไม่กลัวการหกล้มทั้ง 2 เพศ สามารถเอนตัวมาด้านหลังได้ระยะทางที่เคลื่อนไปได้มากที่สุดและความสามารถในการควบคุมทิศทางมากกว่ากลุ่มที่กลัวการหกล้ม โดยมีค่าความแตกต่างอย่างมีนัยสําคัญทางสถิติที่ p<0.05 และเมื่อถูกรบกวนสมดุลการทรงตัวขณะยืนพบว่าทุกกลุ่มมีการทํางานของกล้ามเนื้อ tibialis anterior ก่อนกล้ามเนื้อขามัดอื่น โดยที่กลุ่มที่ไม่กลัวการหกล้ม ivกล้ามเนื้อจะทํางานก่อนกลุ่มที่กลัวการหกล้มโดยมีค่าความแตกต่างทางสถิติที่ p<0.05 และกลุ่มที่ไม่กลัวการหกล้มทั้ง 2 เพศไม่มีความแตกต่างกันสรุปผลการศึกษา ภาวะความกลัวการหกล้มเป็นปัจจัยหนึ่งที่ทําให้การเคลื่อนไหวลดลง ประสิทธิภาพทางกายลดลงส่งผลให้เกิดภาวะกล้ามเนื้ออ่อนแรง อันเป็นสาเหตุให้การทรงตัวลดลง และเกิดการหกล้มได้ง่ายขึ้น วิธีหนึ่งในการแก้ไขหรือป้องกันการหกล้มคือการออกกําลังกายเพื่อเพิ่มความแข็งแรงของกล้ามเนื้อที่ควบคุมข้อเข่าและข้อเท้า และเพิ่มประสิทธิภาพในการทรงตัว vProject TitleA study in fall and balance in Thai elderly populationNames of the Investigator Dannaovarat ChamonchantAsst. Prof. Dr. Chitanongk GaogasigamSujitra BoonyongAbstractIntroduction: Fall is a common problem in the elderly. Fall mostly results from impairment or lossof balance. Loss of balance in the elderly is usually accompanied with fear of falling andweakness of lower limb muscles. Fear of falling is a factor influenced on the balance ability.This study investigated the balance ability in Thai elderly with and without fear of falling. Thestudy also compared the activity of lower limb muscles during anterior perturbation.Objectives: To investigate the balance ability in the elderly and the relationship between fear offalling and balance including the influence of the knee and ankle musculatures on balance.Methods: Sixty males and females Thai elderly aged 65-80 years volunteered in this study.They were classified into two main groups; one having a fear of falling FF 15 males and 15females and another without the fear NFF 15 males and 15 females. Balance ability wasevaluated by mean of the measurement of change in center of pressure in term of limit ofstability during postural change to maximal forward and backward leaning on the force platformon which they were standing. The onset time of of the right lower limb muscle activity such astibialis anterior rectus femoris biceps femoris and gastrocnemius medial head was alsodetected during anterior perturbation.Results: There was a statistically significant difference p<0.05 in the value of limit of stabilitymaximum excursion during forward leaning in the male –non fear group comparing with othergroups. The male-non fear group had the greater value of limit of stability. In comparison withthe fear of falling group the non fear group had the greater value of limit of stability maximumexcursion and direction control in backward leaning which was statistically significant differentp<0.05. The tibialis anterior firstly responded to anterior perturbation in order to keep thebalance. The onset time of the tibialis anterior in non fear group was statistically different fromthat of the fear of falling group p<0.05. However there was no difference of the onset time oftibialis anterior between male and female viConclusion: Fear of falling is a factor that diminishes the quality of movement decreases thephysical capability which consequently results in weakening muscles. Fear of falling cancause impairment of balance and therefore can increase the frequency of fall. Strengtheningexercise of knee and ankle musculatures accompanied with balancing exercise can be the wayto alleviate and prevent this problem.',\n",
       "  'word': 'แข็งแรง,ปัจจัย,นอน,สัมพันธ์,ขวา,กําลังกาย,นัยสําคัญ,ไหว,ทิศทาง,หกล้มเพศ,เริ่ม,สกุล,สมดุล,แบ่งเป็น,วิธี,ประชากร,ทําการ,ย่อบทนํา,ล้ม,สถิติ,เพศ,วัด,สูญเสีย,ก้าวกสิกรรม,เข่า,สรุป,ประสิทธิภาพ,ป้องกัน,กล้ามเนื้อ,ภาวะ,ยืน,ทํางาน,กัด,กาย,ทดสอบ,กลัว,ซิก,ไฟฟ้า,ตีน,อ่อน,กล้ามเนื้อที่,อาจารย์,เคลื่อน,อิทธิพล,อายุ,จิตอนงค์,แรง,ค่า,ภาษา,เรื่อง,จํา,หน้า,เกรด,ชาย,แดน,สาเหตุ,หกล้ม,หญิง,ศูนย์กลาง,ปัญหา,รักษา,ข้อ,ควบคุม,โน้ม,กาล,รบกวน,ตัว,มัด,เปรียบเทียบ,อ่อนแรง,วัตถุประสงค์,อังกฤษ,จุด,กล้ามเนื้อขา,ต่าง,เอน'},\n",
       " {'project_id': 'RDG4730019',\n",
       "  'doc_id': '3',\n",
       "  'sentence_importance': [{'rank': 1,\n",
       "    'sentence': 'โดยอาศัยแนวทางการป้องกันเชิงความรู้โดยการจัดกิจกรรมชวนเพื่อนท่องเว็บไซต์ขึ้นโดยแบ่งกลุ่มเป้าหมายของโครงการแบ่งออกเป็น 2 กลุ่ม '},\n",
       "   {'rank': 2,\n",
       "    'sentence': 'โครงการชวนเพื่อนท่องเว็บไซต์จึงเสนอแนวทางการป้องกันสื่อที่ไม่เหมาะสมจากอินเทอร์เน็ต '},\n",
       "   {'rank': 3,\n",
       "    'sentence': 'และมีจํานวนเว็บไซต์ที่แนะนําพร้อมคําอธิบายดังนี้ 1. หมวดสุขภาพอนามัย จํานวนเว็บไซต์ 99 ลิงค์ 2. หมวดดนตรี จํานวนเว็บไซต์ 71 ลิงค์ 3. หมวดวิทยาศาสตร์ '},\n",
       "   {'rank': 4,\n",
       "    'sentence': 'โดยนําข้อมูลการวิเคราะห์เว็บไซต์จากกิจกรรมบนเว็บไซต์ www.Plawan.comFamily มาจัดหมวดหมู่ Web Directory สําหรับเด็ก '},\n",
       "   {'rank': 5,\n",
       "    'sentence': 'เพื่อใช้เป็นเครื่องมือในการติดต่อสื่อสารสําหรับสมาชิกโครงการต่อไป'},\n",
       "   {'rank': 6,\n",
       "    'sentence': 'บทคัดย่อ รหัสโครงการ : RDG4730019 ชื่อโครงการ : ชวนเพื่อนท่องเว็บไซต์ ชื่อนักวิจัย : ณัฐฐยา พรรณพลีวรรณ หน่วยงาน : บริษัท บัณฑิต เซ็นเตอร์ จํากัด E-mail address: nattaya@bunditcenter.com ระยะเวลาโครงการ: 6 เดือน 1 มกราคม 2547 ถึง 30 มิถุนายน 2547 ความสําคัญ'},\n",
       "   {'rank': 7,\n",
       "    'sentence': 'แต่เนื่องจากเว็บไซต์ที่มีอยู่มากมายนั้น ยังมีเนื้อหาที่ไม่เหมาะสมสําหรับเด็กปะปนอยู่ด้วย '},\n",
       "   {'rank': 8,\n",
       "    'sentence': 'ดังนั้น หนทางหนึ่งที่จะส่งเสริมการเรียนรู้ของเด็ก ก็คือการในเด็กลงมือค้นคว้า หัดพินิจพิจารณา '},\n",
       "   {'rank': 9, 'sentence': 'ก็จะเป็นเครื่องมือชี้ทางเลือกให้เด็กได้ด้วย '},\n",
       "   {'rank': 10,\n",
       "    'sentence': 'และทําการวิเคราะห์เว็บไซต์ที่ดีมีประโยชน์สําหรับเด็กเข้ามาทางเว็บไซต์ www.Plawan.comFamily '}],\n",
       "  'published_year': '2009',\n",
       "  'keyword': 'กาล,พวก,ข้อมูล,ฐาน,วิเคราะห์,หน่วย,แหล่ง,รู้,กิจกรรม,สําคัญ,ทําการ,คํา,จํานวน,เดือน,แนวทาง,กระตุ้น,เหมาะสม,เครือข่าย,ประโยชน์,สะสม,เด็ก,เสนอ,ครู,เทคโนโลยี,อายุ,เนื่อง,สอน,อยาก,สื่อ,เป้าหมาย,เลือก,ยช.,อยู่,ชี้,มิ.ย.,ส่งเสริม,บทบาท,รุ่น,สนใจ,แบ่ง,เครื่องมือ,พิจารณา,ป้องกัน,สมาชิก,ปฏิบัติการ,สื่อสาร,ปกครอง,ยุค,สาระ,มือ,อธิบาย,เว็บ,แนะ,ดนตรี,เพื่อน,ฝึก,หมวด,เปลี่ยน,ติดต่อ,จํากัด,จัดทํา,ค้นหา,คิดเห็น',\n",
       "  'title': 'ชวนเพื่อนท่องเว็บไซต์',\n",
       "  'content': 'บทคัดย่อ รหัสโครงการ : RDG4730019 ชื่อโครงการ : ชวนเพื่อนท่องเว็บไซต์ ชื่อนักวิจัย : ณัฐฐยา พรรณพลีวรรณ หน่วยงาน : บริษัท บัณฑิต เซ็นเตอร์ จํากัด E-mail address: nattaya@bunditcenter.com ระยะเวลาโครงการ: 6 เดือน 1 มกราคม 2547 ถึง 30 มิถุนายน 2547 ความสําคัญและที่มาของโครงการ ในยุคของเทคโนโลยีสารสนเทศที่ง่ายต่อการเข้าถึงอินเทอร์เน็ตไม่ว่าเด็กหรือผู้ใหญ่ สิ่งที่ปรารถนาจะให้เกิดขึ้น คือการใช้อินเทอร์เน็ตเพื่อแสวงหาความรู้จากแหล่งต่างๆ แต่เนื่องจากเว็บไซต์ที่มีอยู่มากมายนั้น ยังมีเนื้อหาที่ไม่เหมาะสมสําหรับเด็กปะปนอยู่ด้วย ดังนั้น หนทางหนึ่งที่จะส่งเสริมการเรียนรู้ของเด็ก ก็คือการในเด็กลงมือค้นคว้า หัดพินิจพิจารณา โดยมีครูหรือผู้ปกครองให้คําแนะนํา นอกจากนั้น หากได้มีการรวบรวมรายชื่อเว็บไซต์พร้อมคําแนะนําที่เป็นประโยชน์ ที่สื่อกันได้ระหว่างเด็กด้วยกัน ก็จะเป็นเครื่องมือชี้ทางเลือกให้เด็กได้ด้วย โครงการชวนเพื่อนท่องเว็บไซต์จึงเสนอแนวทางการป้องกันสื่อที่ไม่เหมาะสมจากอินเทอร์เน็ต โดยอาศัยแนวทางการป้องกันเชิงความรู้โดยการจัดกิจกรรมชวนเพื่อนท่องเว็บไซต์ขึ้นโดยแบ่งกลุ่มเป้าหมายของโครงการแบ่งออกเป็น 2 กลุ่ม คือเยาวชนไทยอายุระหว่าง 6-18 ปี และกลุ่มผู้ปกครอง โดยอาศัยเว็บไซต์ www.Plawan.comFamily เป็นเครื่องมือในการรวบรวมสมาชิกเข้าร่วมโครงการ เพื่อเป็นการกระตุ้นให้เกิดเครือข่ายนักวิจัยรุ่นเยาว์บนอินเทอร์เน็ต โดยให้สมาชิกที่เข้าร่วมโครงการจะได้แสดงบทบาทเป็นนักวิจัยรุ่นเยาว์ในการค้นหาและทําการวิเคราะห์เว็บไซต์ที่ดีมีประโยชน์สําหรับเด็กเข้ามาทางเว็บไซต์ www.Plawan.comFamily ทําให้โครงการสามารถรวบรวมข้อมูลของเว็บไซต์ที่ดีและมีประโยชน์และเป็นเว็บไซต์ที่ตรงตามความต้องการของเด็กอย่างแท้จริง เนื่องจากเด็กเป็นผู้วิเคราะห์เว็บไซต์เหล่านั้นด้วยตนเอง จากนั้นกิจกรรมขั้นต่อไปคือการจัดค่ายชวนเพื่อนท่องเว็บไซต์ โดยเป็นการจัดอบรมเชิงปฏิบัติการให้แก่เยาวชนและผู้ปกครองได้ฝึกพิจารณาและวิเคราะห์สื่อรวมทั้งร่วมแลกเปลี่ยนความคิดเห็นระหว่างกลุ่มเยาวชนและสามารถรับฟังคําแนะนําจากกลุ่มผู้ปกครองไปพร้อมกัน โดยนําข้อมูลการวิเคราะห์เว็บไซต์จากกิจกรรมบนเว็บไซต์ www.Plawan.comFamily มาจัดหมวดหมู่ Web Directory สําหรับเด็ก โดยแบ่งหมวดหมู่ตามความสนใจของเยาวชนเป็นจํานวน 5 หมวด และมีจํานวนเว็บไซต์ที่แนะนําพร้อมคําอธิบายดังนี้ 1. หมวดสุขภาพอนามัย จํานวนเว็บไซต์ 99 ลิงค์ 2. หมวดดนตรี จํานวนเว็บไซต์ 71 ลิงค์ 3. หมวดวิทยาศาสตร์ และเทคโนโลยีจํานวนเว็บไซต์ 194 ลิงค์ 4. หมวดกีฬา จํานวนเว็บไซต์ 78 ลิงค์ 5. หมวดงานอดิเรก จํานวนเว็บไซต์ 298 ลิงค์ เมื่อจบโครงการชวนเพื่อนท่องเว็บไซต์มีจํานวนเว็บไซต์ที่เข้าร่วมเป็นพันธมิตรในโครงการจํานวน 100 เว็บไซต์ และมีผู้เข้าร่วมเป็นสมาชิกโครงการจนถึงวันที่ 30 มิถุนายน 2547 รวมทั้งสิ้น 7049 คน นอกจากนี้ทางโครงการยังได้จัดทําเว็บบอร์ด www.plawan.comfamily เพื่อใช้เป็นเครื่องมือในการติดต่อสื่อสารสําหรับสมาชิกโครงการต่อไป Abstract Code: RDG4730019 Program title: Ask friends to surf websites Head of Program: Nattaya Phanpleewan Organization: Bundit Center Co. Ltd. E-mail: nattaya@bunditcenter.com Period: 6 Months from January 1 2004 to June 30 2005 In this era of information technology not only adult but children can easily access to the internet. There is an emerging desire of using internet to get knowledge from various sources. At present there are still a large number of websites which are full of many inappropriate contents for children. One solution is to allow the children searching sources themselves following the advice of parents or teachers. In addition if there is a set of recommended websites with useful advisory declaration it will help children be able to connect among them. It will also be another tool to indicate the right way of accessing internet for children. This program is aimed to propose a way to protect the explicit media out of the internet by using the knowledge-base prevention. Therefore many activities were arranged to achieve that goal. The past activities of ask friends to surf websites were focused to two target groups which are 6-18 years old Thai children and Thai parents. The website of www.plawan.comfamily is the home to host programs members. Moreover another objective is to wake up the network of junior researchers in cyberspace by challenging the young members to find out and analyze then summarize all available and valuable websites. All research results of youngsters were conveyed through the www.plawan.comfamily . According to this procedure this program can finally achieve the goals aiming to have a full list of precious websites which is fit to the need of children because the choose themselves. Then the next activity was to camp the members of ask friends to surf websites together adding the workshop of analyzing and judging media from internet which both children and parents participated. They shared their opinions among childhood group while also got advice from adults. As a result the program can define all websites into 5 categories which are; 1. Health : website number is 99 links 2. Music : website number is 71 links 3. Science and Technology : website number is 194 links 4. Sport : website number is 78 links 5. Hobby : website number is 298 links After the program finished there are 100 websites joining in affiliation and 7049 members counting until June 30 2005. In addition the website www.plawan.com became the hub of communication for members since then.',\n",
       "  'word': 'ดนตรี,ลิงค์,จัดทํา,ท่องเว็บไซต์,รู้,ปะปน,รุ่น,ยช.,คิดเห็น,มิ.ย.,หมวดงาน,เว็บบอร์ด,สนใจ,แสวงหา,ครู,เสนอ,กิจกรรม,หมวด,เซ็นเตอร์,ฝึก,บทบาท,วิเคราะห์,สมาชิก,ติดต่อ,พวก,มกราคม,เทคโนโลยี,ค้นคว้า,ป้องกัน,พินิจพิจารณา,ชวน,ที่มา,หมวดวิทยาศาสตร์,อยู่,เดือน,แนะ,หมวดสุขภาพ,ส่งเสริม,สาระ,พันธมิตร,เยาว์,มือ,เหมาะสม,สื่อสาร,อธิบาย,พิจารณา,เลือก,อดิเรก,เนื่อง,แบ่ง,ปฏิบัติการ,ค่าย,รับฟัง,หมวดหมู่,แหล่ง,พรรณพลีวรรณ,ทําการ,ปรารถนา,หนทาง,เครือข่าย,ปกครอง,หน่วย,อายุ,ข้อมูล,ท่อง,สําคัญ,ฐาน,ค้นหา,คํา,เปลี่ยน,เน็ต,สะสม,หมวดกีฬา,เพื่อน,จํานวน,เว็บ,เป้าหมาย,สอน,แนวทาง,หัด,เครื่องมือ,ชี้,เหมาะสมสําหรับ,จํากัด,สื่อ,อยาก,กาล,ยุค,อนามัย,เด็ก,ประโยชน์,กระตุ้น,ไอที'},\n",
       " {'project_id': 'RDG4730017',\n",
       "  'doc_id': '4',\n",
       "  'sentence_importance': [{'rank': 1,\n",
       "    'sentence': 'สถาบันทรัพย์สินทางปัญญาแห่งจุฬาลงกรณ์มหาวิทยาลัย 4คณะวิศวกรรมศาสตร์ จุฬาลงกรณ์มหาวิทยาลัย 5ศูนย์เทคโนโลยีชีวภาพเกษตร มหาวิทยาลัยเกษตรศาสตร์ 6คณะนิติศาสตร์ จุฬาลงกรณ์มหาวิทยาลัย 7คณะนิติศาสตร์ จุฬาลงกรณ์มหาวิทยาลัย 8คณะวิทยาศาสตร์ จุฬาลงกรณ์มหาวิทยาลัย 9ศูนย์พันธุวิศวกรรมและเทคโนโลยีชีวภาพแห่งชาติ '},\n",
       "   {'rank': 2,\n",
       "    'sentence': '10กลุ่มโรงงานน้ำตาลอีสาน 11สถาบันค้นคว้าและพัฒนาผลิตภัณฑ์อาหาร มหาวิทยาลัยเกษตรศาสตร์ 12สถาบันทรัพย์สินทางปัญญาแห่งจุฬาลงกรณ์มหาวิทยาลัยemail address :prasit@ntc.or.thระยะเวลาโครงการ :ธันวาคม 2546 – สิงหาคม 2548บทคัดย่อทรัพย์สินทางปัญญา '},\n",
       "   {'rank': 3,\n",
       "    'sentence': ':1สํานักงานคณะกรรมการกิจการโทรคมนาคมแห่งชาติ 2คณะวิทยาศาสตร์ จุฬาลงกรณ์มหาวิทยาลัย 3'},\n",
       "   {'rank': 4,\n",
       "    'sentence': 'และไม่มีการจัดทําเป็นแนวทางการพัฒนาทรัพย์สินทางปัญญาของประเทศอย่างเป็นกิจจะลักษณะ '},\n",
       "   {'rank': 5,\n",
       "    'sentence': 'และประชุมระดมความคิดเห็นประมาณ 10 ครั้ง จนได้แนวทางและยุทธศาสตร์ทรัพย์สินทางปัญญาแห่งชาติเป็นแผน 5 ปี '},\n",
       "   {'rank': 6,\n",
       "    'sentence': 'สํานักงานกองทุนสนับสนุนการวิจัย สกว. ตระหนักถึงความสําคัญของการมีแนวทาง'},\n",
       "   {'rank': 7, 'sentence': 'และยุทธศาสตร์ทรัพย์สินทางปัญญาตามที่เสนอแนะ'},\n",
       "   {'rank': 8,\n",
       "    'sentence': 'แต่ไม่ได้ให้ความสําคัญเท่าที่ควรในเรื่องการสร้างทรัพย์สินทางปัญญา '},\n",
       "   {'rank': 9,\n",
       "    'sentence': 'จึงน่าจะเป็นองค์ประกอบสําคัญในการเสริมสร้างขีดความสามารถในการแข่งขันของประเทศได้อย่างดีอนึ่ง '},\n",
       "   {'rank': 10,\n",
       "    'sentence': 'และพัฒนาสู่สังคมที่มีพื้นฐานของทรัพย์สินทางปัญญา '}],\n",
       "  'published_year': '2009',\n",
       "  'keyword': 'กาล,พัฒนา,รัฐ,สร้าง,ฐาน,อาหาร,คณะ,โรง,สถาบัน,สินค้า,หลัก,ลักษณะ,ดํา,เรื่อง,ประเทศไทย,สําคัญ,สังคม,ข้อ,เขต,ทุน,เกษตร,องค์,คณะวิทยาศาสตร์,แนวทาง,แผน,ศก.,สํา,จุฬาลงกรณ์มหาวิทยาลัย,ประโยชน์,เสนอ,เทคโนโลยี,ค้า,น้ำตาล,เนิน,ชีวภาพ,มหาวิทยาลัยเกษตรศาสตร์,สํานักงาน,สรุป,ทรัพยากร,ประเด็น,ประชุม,กฎหมาย,หลากหลาย,สมาชิก,ปฏิบัติการ,คณะวิศวกรรมศาสตร์,พื้นฐาน,ยุทธศาสตร์,ล้า,สิทธิ,อีสาน,ปัญญา,ทิศทาง,สํานัก,แนะ,รบ.,แข่ง,คุ้มครอง,ส.ค.,พาณิชย์,จัดทํา,สร้างสรรค์,คิดเห็น,ธ.ค.,กิจ,เสนอแนะ,เชี่ยวชาญ',\n",
       "  'title': 'Roadmap และยุทธศาสตร์ทรัพย์สินทางปัญญาแห่งชาติ',\n",
       "  'content': '7รหัสโครงการ:RDG4730017ชื่อโครงการ :Roadmap และยุทธศาสตร์ทรัพย์สินทางปัญญาแห่งชาติชื่อนักวิจัย:ประสิทธิ์ ประพิณมงคลการ1 โสภณ เริงสําราญ2 อุษณีย์ ยศยิ่งยวด3วิศณุ ทรัพย์สมพล4 พงศ์เทพ อัครธนกุล5 อรพรรณ พนัสพัฒนา6 ธิติพันธุ์ เชื้อบุญชัย7 เลอสรร ธนสุกาญจน์8 ธนิต ชังถาวร9 สันติ รัตน-สุวรรณ10 ปราโมทย์ ธรรมรัตน์11 วิธพล เจาะจิตต์12:1สํานักงานคณะกรรมการกิจการโทรคมนาคมแห่งชาติ 2คณะวิทยาศาสตร์ จุฬาลงกรณ์มหาวิทยาลัย 3สถาบันทรัพย์สินทางปัญญาแห่งจุฬาลงกรณ์มหาวิทยาลัย 4คณะวิศวกรรมศาสตร์ จุฬาลงกรณ์มหาวิทยาลัย 5ศูนย์เทคโนโลยีชีวภาพเกษตร มหาวิทยาลัยเกษตรศาสตร์ 6คณะนิติศาสตร์ จุฬาลงกรณ์มหาวิทยาลัย 7คณะนิติศาสตร์ จุฬาลงกรณ์มหาวิทยาลัย 8คณะวิทยาศาสตร์ จุฬาลงกรณ์มหาวิทยาลัย 9ศูนย์พันธุวิศวกรรมและเทคโนโลยีชีวภาพแห่งชาติ 10กลุ่มโรงงานน้ำตาลอีสาน 11สถาบันค้นคว้าและพัฒนาผลิตภัณฑ์อาหาร มหาวิทยาลัยเกษตรศาสตร์ 12สถาบันทรัพย์สินทางปัญญาแห่งจุฬาลงกรณ์มหาวิทยาลัยemail address :prasit@ntc.or.thระยะเวลาโครงการ :ธันวาคม 2546 – สิงหาคม 2548บทคัดย่อทรัพย์สินทางปัญญา นับวันจะทวีความสําคัญต่อการพัฒนาเศรษฐกิจของประเทศยิ่งขึ้น ไม่ว่าจะเป็นการเจรจาในกรอบองค์การการค้าโลก การเจรจาเขตการค้าเสรีการพาณิชย์ การผลิตสินค้าต่างๆ และการดํารงชีวิตประจําวัน ตลอดจนงานวรรณกรรมและการบันเทิงต่างๆ มักจะมีการหยิบยกประเด็นของการคุ้มครองสิทธิในทรัพย์สินทางปัญญา ด้วยเหตุนี้ ความสามารถในการพัฒนานวัตกรรมการประดิษฐ์ และการใช้ประโยชน์จากทรัพย์สินทางปัญญาในเชิงพาณิชย์ จึงน่าจะเป็นองค์ประกอบสําคัญในการเสริมสร้างขีดความสามารถในการแข่งขันของประเทศได้อย่างดีอนึ่ง ประเทศไทยให้ความคุ้มครองในทรัพย์สินทางปัญญาเป็นเวลากว่า 100 ปีแล้ว และเข้าเป็นสมาชิกสนธิสัญญาต่างๆ ที่ว่าด้วยทรัพย์สินทางปัญญา โดยในระยะแรกเน้นเรื่องการคุ้มครองสิทธิในทรัพย์สินทางปัญญาและการบังคับสิทธิในกฎหมายทรัพย์สินทางปัญญา แต่ไม่ได้ให้ความสําคัญเท่าที่ควรในเรื่องการสร้างทรัพย์สินทางปัญญา และการนําทรัพย์สินทางปัญญาไปใช้ประโยชน์ในเชิงพาณิชย์ ซึ่งล้วนแต่เป็นองค์ประกอบสําคัญของทรัพย์สินทางปัญญาที่สําคัญมาก 8จะขาดด้านใดด้านหนึ่งไม่ได้ อีกทั้งการพัฒนาทรัพยากรบุคคลให้เกิดความคิดสร้างนวัตกรรม เป็นพื้นฐานสําคัญของประเทศในการก้าวไปเป็นชาติและสังคมที่มีทรัพย์สินทางปัญญาที่ดีอย่างไรก็ตาม การพัฒนาทรัพย์สินทางปัญญาของประเทศไทย มีหลายทิศทางไม่เป็นเอกภาพและไม่มีการจัดทําเป็นแนวทางการพัฒนาทรัพย์สินทางปัญญาของประเทศอย่างเป็นกิจจะลักษณะ สํานักงานกองทุนสนับสนุนการวิจัย สกว. ตระหนักถึงความสําคัญของการมีแนวทางและแผนปฏิบัติการด้านการพัฒนาทรัพย์สินทางปัญญา จึงให้ทุนวิจัยเรื่อง Roadmap และยุทธศาสตร์ทรัพย์สินทางปัญญาแห่งชาติ แก่สถาบันทรัพย์สินทางปัญญาแห่งจุฬาลงกรณ์มหาวิทยาลัย ซึ่งคณะนักวิจัยจะประกอบด้วยนักวิจัยจากสถาบันทรัพย์สินทางปัญญาแห่งจุฬาลงกรณ์มหาวิทยาลัย มหาวิทยาลัย และสถาบันวิจัยต่างๆ และเน้นถึงการได้ความคิดที่หลากหลายและความร่วมมือระหว่างหลายวงการโดยได้เชิญผู้ทรงคุณวุฒิจากที่ต่างๆ มากกว่า 70 คน รวมทั้งผู้เชี่ยวชาญจากต่างประเทศที่เชิญโดยสถาบันคีนันแห่งเอเซีย และประชุมระดมความคิดเห็นประมาณ 10 ครั้ง จนได้แนวทางและยุทธศาสตร์ทรัพย์สินทางปัญญาแห่งชาติเป็นแผน 5 ปี และ 10 ปี ครอบคลุมถึงองค์ประกอบหลัก 4 ประการ คือ การสร้างทรัพย์สินทางปัญญา การนําทรัพย์สินทางปัญญาไปใช้ประโยชน์ในเชิงพาณิชย์ การคุ้มครองสิทธิในทรัพย์สินทางปัญญา และการบังคับสิทธิในกฎหมายทรัพย์สินทางปัญญา นอกจากนี้ ยังได้ให้ข้อเสนอแนะต่างๆ ดังรายละเอียดในบทสรุป อันจะเป็นประโยชน์ต่อการพัฒนาขีดความสามารถในการแข่งขันและพัฒนาสู่สังคมที่มีพื้นฐานของทรัพย์สินทางปัญญา เพื่อคนไทยจะมีนวัตกรรมและสร้างสรรค์ทรัพย์สินทางปัญญาของตนได้ หากรัฐบาลไทยดําเนินการตามแนวทางและยุทธศาสตร์ทรัพย์สินทางปัญญาตามที่เสนอแนะ 9Project Code:RDG4730017Project Title:Roadmap and National Intellectual Property StrategyInvestigators :Prasit Prapinmongkolkarn1 Sophon Roengsumran2 UsaneeYodyingyuad3 Wisanu Subsompon4 Pongthep Akratanakul5Orabhund Panuspatthna6 Tithiphan Chuerboonchai7 LersonTanasugarn8 Tanit Changthavorn9 Santi Rattanasuwan10Pramote Thammarate11 Wittapon Jawjit12:1National Telecommunication Commission of Thailand 2Faculty ofScience Chulalongkorn University 3Chulalongkorn UniversityIntellectual Property Institute 4Faculty of Engineering ChulalongkornUniversity 5Center for Agricultural Biotechnology KasetsartUniversity 6Faculty of Law Chulalongkorn University 7Faculty ofLaw Chulalongkorn University 8Faculty of Science ChulalongkornUniversity 9National Center for Genetic Engineering andBiotechnology 10Northeastern Sugar Factory Group 11Institute of FoodResearch and Product Development 12Chulalongkorn UniversityIntellectual Property Instituteemail address:prasit@ntc.or.thProject Duration :December 2003 – August 2005AbstractIt is generally agreed today that intellectual property plays an important role in economic growth. Intellectual property is referred to in the framework of WTO and FTA negotiations in trade merchandise production and in everyday life as well as in literary works and the entertainment sector. IP protection is a popular issue discussed everywhere and everyday. Thailand has provided legal protection of IP for more than 100 years. It is member of various international agreements and conventions. However the attention was given only to protection of IP rights and IP law enforcement. IP creations and commercialization have so far received very little attention. In fact all the four components are important and interdependent; not a single one can be ignored. Innovation in product inventions and IP commercialization are instrumental to the 10competitiveness of a country. Therefore human resource development in creativity is necessary for it is the basis for the countrys growth.Up until now IP development in Thailand has been carried out in varied scattered directions. The Thailand Research Fund TRF being well aware of the vital need for a national policy and strategic plan in developing an IP-oriented society has funded Chulalongkorn University Intellectual Property Institute CUIPI to do a research on the Roadmap and National IP Strategy. The research focuses on compilation of ideas and experiences of various sectors See attached name list. Approximately 10 brainstorming sessions have been conducted with participants consisting of 70 researchers from CUIPI and other institutes including foreign experts invited through the Kenan Institute Asia. The outcome was a national roadmap and strategies in intellectual property in the form of a 5-year and 10-year plan that covers the main components of IP namely IP creation commercialization rights protection and law enforcement. Recommendations are provided in detail in the concluding section of the research work. It is with fervent hope that the research result will be useful to the development of the nations competitiveness that Thai people will be more innovative-minded and Thailand will progress to become a truly IP society eventually.',\n",
       "  'word': 'สํานักงาน,จัดทํา,คณะวิศวกรรมศาสตร์,หลัก,ธิติพันธุ์,เริง,ปัญญาแห่ง,เอกภาพ,คิดเห็น,น้ำตาล,จิตต์,ประชุม,ปัญญาแห่งชาติ,สนธิสัญญา,คุ้มครอง,ทรัพย์สินทาง,คัญ,แข่ง,สินค้า,เรื่อง,โสภณ,อัครธนกุล,สุวรรณ,วรรณกรรม,บังคับ,เสนอ,ธ.ค.,เลอสรร,โรง,สมาชิก,หลากหลาย,คณะ,มีนวัตกรรม,พัฒนานวัตกรรมการ,องค์,ประจําวัน,สิทธิ,ทิศทาง,กิจ,เทคโนโลยี,สังคม,สรุป,เกษตร,ยศยิ่งยวด,ชาติและ,จุฬาลงกรณ์มหาวิทยาลัย,เนิน,ประสิทธิ์,เสนอแนะ,คณะนิติศาสตร์,สถาบัน,แนะ,คณะกรรมการกิจการ,ล้า,ทุน,เสรี,ส.ค.,คุณวุฒิ,ยุทธศาสตร์,ทรัพยากร,ประเทศไทย,พัฒนา,สถาบันค้นคว้า,ทรัพย์สินทางปัญญา,รัฐ,กองทุนสนับสนุนการวิจัย,ปฏิบัติการ,ระดม,แห่งเอเซีย,ครอบคลุม,พาณิชย์,ประเด็น,วิศณุ,อีสาน,เชี่ยวชาญ,บันเทิง,แผน,สร้าง,มหาวิทยาลัยเกษตรศาสตร์,รบ.,คณะวิทยาศาสตร์,สํานัก,ศก.,สร้างสรรค์,ขีด,ก้าว,ข้อ,ดํา,ฐาน,สําคัญ,ค้า,ชีวภาพ,เขต,สําราญ,ลักษณะ,นําทรัพย์สิน,เจรจา,อุษณีย์,กฎหมาย,เชิญ,โทรคมนาคมแห่งชาติ,ปัญญา,ทวี,พนัสพัฒนา,รายละเอียด,ทรัพย์สิน,แนวทาง,ดีอนึ่ง,พื้นฐาน,สํา,หยิบยก,สถาบันคี,เสริมสร้าง,ตระหนัก,กาล,ดับบลิวทีโอ,อาหาร,ประโยชน์,นัน,นวัตกรรม'},\n",
       " {'project_id': 'RDG4730014',\n",
       "  'doc_id': '5',\n",
       "  'sentence_importance': [{'rank': 1,\n",
       "    'sentence': 'และมาตรการนโยบายสินค้าแบบครบวงจร เกิดขึ้นจากการเคลื่อนไหวของกลุ่มสหภาพการค้ายุโรป กลไก ทั้งสอง รูปแบบมีผลต่อการดําเนินการด้านการลดก๊าซเรือนกระจกในประเทศไทย '},\n",
       "   {'rank': 2,\n",
       "    'sentence': 'ได้เสนอรูปแบบของศูนย์ดําเนินการกลางด้านสภาพภูมิอากาศเปลี่ยนแปลง '},\n",
       "   {'rank': 3,\n",
       "    'sentence': 'ที่ได้กําหนดให้ประเทศต่างๆ ร่วมมือกันในการลดการปลดปล่อยก๊าซเรือนกระจกที่เชื่อว่าเป็นสาเหตุหนึ่งของสภาพภูมิอากาศเปลี่ยนแปลง '},\n",
       "   {'rank': 4,\n",
       "    'sentence': 'และการเตรียมความพร้อมในอนาคตด้วยการวิจัยในเชิงรุกสําหรับมาตรการนโยบายสินค้าครบวงจรนั้นวงจรชีวิตของผลิตภัณฑ์ตามนโยบายสินค้าครบวงจร '},\n",
       "   {'rank': 5,\n",
       "    'sentence': 'มาตรการเชิงนโยบายได้สําหรับการเตรียมความพร้อมของนโยบายสินค้าครบวงจรเป็นเรื่องของการพัฒนำมาตรการลดผลกระทบต่อสิ่งแวดล้อม '},\n",
       "   {'rank': 6,\n",
       "    'sentence': 'เนื่องจากปัญหาด้านความยากจน ยังมีจุดอ่อนด้านการพัฒนาเทคโนโลยีพลังงานทดแทนที่ไม่มีประสิทธิภาพ ทิศทางการพัฒนาอุตสาหกรรม '},\n",
       "   {'rank': 7,\n",
       "    'sentence': 'และอาจส่งผลต่อเนื่องด้านการค้าของประเทศในระยะยาวต่อไปการศึกษาเบื้องต้น ในกรณีของอนุสัญญาการเปลี่ยนแปลงสภาพภูมิอากาศพบว่า '},\n",
       "   {'rank': 8,\n",
       "    'sentence': 'และมาตรการที่เกี่ยวข้องกับการลดก๊าซเรือนกระจกตามมาคือกลไกการพัฒนาที่สะอาด clean development mechanism เกิดขึ้นในพิธีสารเกียวโต ในการประชุมสมัชชาประเทศภาคีอนุสัญญาฯ ครั้งที่ 3 '},\n",
       "   {'rank': 9,\n",
       "    'sentence': 'ดังนั้นการดําเนินการด้าน กลไกการพัฒนาที่สะอาดควรมีการพิจารณาระดับชาติในภาพรวมอย่างรวมทั้งการพิจารณาถึงผลดีผลเสียในระยะยาวทั้งด้านเศรษฐศาสตร์ ความมั่นคงของประเทศ ท่าทีด้านการต่างประเทศและการเจรจาต่อรอง '},\n",
       "   {'rank': 10,\n",
       "    'sentence': 'เพื่อให้เห็นภาพรวมที่สามารถนํามาซึ่งการตัดสินใจในการแลกเปลี่ยนสิทธิการปล่อยก๊าซเรือนกระจกได้ เป็นการจัดระเบียบและเรียบเรียงข้อมูล เป็นฐานในการประเมินการปล่อย '}],\n",
       "  'published_year': '2009',\n",
       "  'keyword': 'สาร,ค่า,ตัว,จำนวน,พัฒนา,รัฐ,ระบบ,บ้าน,เกรด,เชื้อ,สร้าง,ข้อมูล,ฐาน,วิเคราะห์,ปัญหา,สาย,คณะ,ต้น,สภาพ,สถาบัน,สินค้า,หน่วย,โครงสร้าง,เทคนิค,รูปแบบ,กระบวน,รู้,ผสม,ดํา,เรื่อง,กิจกรรม,ประเทศไทย,สําคัญ,เมือง,รูป,ร้อน,ข้อ,ทุน,ชีวิต,กระบวนการ,องค์,ประสิทธิภาพ,ปัจจัย,เตรียม,สัมพันธ์,แนวทาง,กํา,ต่ำ,พลังงาน,แนว,ภาพ,ศก.,สํา,เครือข่าย,แวดล้อม,ประโยชน์,น้ำมัน,เสนอ,เทคโนโลยี,อายุ,ศักยภาพ,แปลง,ค้า,สนับสนุน,ประเมิน,เนื่อง,กลไก,เนิน,หน้าที่,วาง,หรับ,อุตสาหกรรม,เลือก,อุปกรณ์,ปรับปรุง,กลาง,ก่อ,กระทบ,ชี้,บริโภค,กลาย,ส่งเสริม,เคส,รายงาน,ทํางาน,นโยบาย,บรรจุ,ทรัพยากร,บริหาร,ดูแล,แบ่ง,ก๊าซ,เครื่องมือ,ขาย,หนด,พิจารณา,ประชุม,วงจร,กฎหมาย,รุนแรง,โปรแกรม,ไหว,สาเหตุ,สถานการณ์,โลก,กาก,ปลดปล่อย,ลำดับ,ขนส่ง,ดิบ,พื้นฐาน,ตาม,ผูก,ค้ำ,ประสาน,ยั่งยืน,โครง,ยอด,อนาคต,ล้า,ต่อเนื่อง,ทดแทน,เทน,สิทธิ,มั่นคง,ทิศทาง,ดึง,ประชาสัมพันธ์,โฆษณา,เพลิง,แข่ง,สะอาด,โอกาส,ล่าง,เอกชน,มวล,ของ,เปลี่ยน,วิทยาศาสตร์,บีบ,ปล่อย,กระจก,เนินการ,ชัด,มาตรการ,เร็จ,คาด,แนวโน้ม,ทิ้ง,ก้าวหน้า,คิดเห็น,เบื้อง,นึก,ชีวมวล,ใกล้ชิด,ภูมิอากาศ,ปรับ',\n",
       "  'title': 'การศึกษาเบื้องต้นด้านสถานภาพและความพร้อมของประเทศเพื่อรองรับผลกระทบของสนธิสัญญาและมาตรการต่างประเทศที่เกี่ยวข้องกับการลดและแลกเปลี่ยนสิทธิการปล่อยก๊าซเรือนกระจกต่อการค้าและสิ่งแวดล้อมของประเทศไทย',\n",
       "  'content': 'บทคัดย่อในปี พ.ศ. 2535 ในการประชุมสหประชาชาติว่าด้วยสิ่งแวดล้อมและการพัฒนา ณ กรุงริโอ เดอ จาเนโร ประเทศบราซิล ประเทศต่างๆ ได้ลงนามให้การรับรองอนุสัญญาสหประชาชาติว่าด้วยการเปลี่ยนแปลงสภาพภูมิอากาศ United Nations Framework Convention on Climate Change UNFCCC ซึ่งเป็นอนุสัญญาฯที่ได้กําหนดให้ประเทศต่างๆ ร่วมมือกันในการลดการปลดปล่อยก๊าซเรือนกระจกที่เชื่อว่าเป็นสาเหตุหนึ่งของสภาพภูมิอากาศเปลี่ยนแปลง ผลสืบเนื่องมาจากอนุสัญญานี้ทําให้มีกลไกและมาตรการที่เกี่ยวข้องกับการลดก๊าซเรือนกระจกตามมาคือกลไกการพัฒนาที่สะอาด clean development mechanism เกิดขึ้นในพิธีสารเกียวโต ในการประชุมสมัชชาประเทศภาคีอนุสัญญาฯ ครั้งที่ 3 และมาตรการนโยบายสินค้าแบบครบวงจร เกิดขึ้นจากการเคลื่อนไหวของกลุ่มสหภาพการค้ายุโรป กลไก ทั้งสอง รูปแบบมีผลต่อการดําเนินการด้านการลดก๊าซเรือนกระจกในประเทศไทย และอาจส่งผลต่อเนื่องด้านการค้าของประเทศในระยะยาวต่อไปการศึกษาเบื้องต้น ในกรณีของอนุสัญญาการเปลี่ยนแปลงสภาพภูมิอากาศพบว่า ประเทศไทยได้มีการดําเนินการตามพันธกรณีในส่วนประเทศนอกภาคผนวกที่หนึ่ง มีการจัดทําบัญชีการปล่อยก๊าซเรือนกระจก การจัดทํารายงานแห่งชาติการจัดตั้งคณะอนุกรรมการระดับชาติคณะอนุกรรมการอนุสัญญาสหประชาชาติว่าด้วยการเปลี่ยนแปลงสภาพภูมิอากาศขึ้นเพื่อพิจารณาและกํากับดูแลการดําเนินการตามข้อผูกพันและพันธกรณีต่างๆ ที่ระบุไว้ในอนุสัญญาฯ มีหน่วยงานของรัฐทําหน้าที่เป็นศูนย์กลางfocal pointในการดําเนินกิจการระหว่างประเทศภายใต้กรอบอนุสัญญา ฯในด้านการศึกษาวิจัยพบว่ามีการศึกษาและมีความก้าวหน้าในการดําเนินการด้านสภาพภูมิอากาศเปลี่ยนแปลงมากขึ้น มีการตื่นตัวในการดําเนินงานต่าง ๆ ในภาคที่ก่อให้เกิดการปล่อยก๊าซเรือนกระจก ทั้งจากการตระหนักในอนุสัญญาของกิจกรรม การลดก๊าซเรือนกระจก กระแสทางด้านสิ่งแวดล้อมและการบีบบังคับของสถานการณ์เชื้อเพลิงโลก โดยเฉพาะ ในภาคพลังงานซึ่งเน้น การปรับเปลี่ยนนโยบายพลังงานของประเทศให้ใช้เชื้อเพลิงของชีวมวลหรือพลังงานทดแทนอื่นมากขึ้น สําหรับภาคการขนส่งมีการเสนอในการส่งเสริมการใช้เอทานอลผสมในน้ำมันเบนซินเพื่อทดแทนการนําเข้าสาร MTBE และการเสนอโครงการการพัฒนาระบบขนส่งมวลชนโดยรถไฟ ทั้งในเมืองใหญ่และทั่วประเทศ ในภาคอุตสาหกรรมและของเสีย มีการนําเอาเทคโนโลยีสะอาด และการนําก๊าซมีเทนไปใช้ประโยชน์ในเชิงพลังงานมากขึ้นอย่างไรก็ตาม ภายใต้พีธีสารเกียวโต ประเทศไทยสามารถดําเนินการตามกลไกการพัฒนาที่สะอาด CDMได้ ซึ่ง เทคโนโลยีที่ต้องพึ่งพาประเทศพัฒนาแล้วและควรอยู่ในรูปแบบการร่วมวิจัยพัฒนำมากกว่าเป็นการขายอุปกรณ์เพื่อให้เกิดการพัฒนาอย่างยั่งยืนแก่ประเทศไทย ดังนั้นการดําเนินการด้าน กลไกการพัฒนาที่สะอาดควรมีการพิจารณาระดับชาติในภาพรวมอย่างรวมทั้งการพิจารณาถึงผลดีผลเสียในระยะยาวทั้งด้านเศรษฐศาสตร์ ความมั่นคงของประเทศ ท่าทีด้านการต่างประเทศและการเจรจาต่อรอง เพื่อที่จะได้ไม่ให้ถูกเอาเปรียบโดยประเทศพัฒนาแล้วผลกระทบของอนุสัญญาฯต่อการค้านั้นไม่เพียงแต่จะมีผลโดยตรงในด้านการซื้อขายแลกเปลี่ยนสิทธิก๊าซเรือนกระจกเท่านั้นแต่ยังรวมไปถึงผลทางอ้อมในการพัฒนาเทคโนโลยีทั้งเพื่อการลดก๊าซเรือนกระจกและเพื่อการพัฒนาประเทศ เพื่อให้สามารถแข่งขันได้ทางการค้ากับต่างประเทศอีกด้วย รวมถึงการวางนโยบายด้าน พลังงานและสิ่งแวดล้อม การปรับปรุงโครงสร้างพื้นฐานและการศึกษาวิจัยต่อยอดทั้งในเรื่องของการสร้างความรู้พื้นฐานในปัจจุบันและการเตรียมความพร้อมในอนาคตด้วยการวิจัยในเชิงรุกสําหรับมาตรการนโยบายสินค้าครบวงจรนั้นวงจรชีวิตของผลิตภัณฑ์ตามนโยบายสินค้าครบวงจร องค์ประกอบที่เกี่ยวข้องกับนโยบายสินค้าครบวงจรเป็นเรื่องของ แนวคิดการออกแบบและการออกแบบผลิตภัณฑ์สินค้า Product Concept and Design และกระบวนการผลิต Manufacturing Process การใช้ทรัพยากรวัตถุดิบและพลังงาน Material and Energy และ การบรรจุหีบห่อPackagingของผลิตภัณฑ์ ให้มีประสิทธิภาพสูงสุด และให้มีผลกระทบต่อสิ่งแวดล้อมน้อยที่สุด นอกจากนี้ในด้านอุปสงค์ วงจรสินค้าเริ่มจากที่ผู้บริโภคใช้ผลิตภัณฑ์จนกระทั่งสินค้าหมดอายุ หรือจนกว่าผลิตภัณฑ์หรือสินค้านั้น ๆ หมดสภาพเกินกว่าจะซ่อมแซมหรือนํามาใช้ใหม่ กระบวนการดังกล่าวข้างต้นเกือบทั้งหมดล้วนแต่ต้องใช้พลังงานหรือมีการทิ้งกากของเสีย ซึ่งล้วนแต่มีผลกระทบต่อสิ่งแวดล้อมทั้งสิ้น โดยเฉพาะการใช้พลังงานที่ถูกแปลงมาเป็นข้อมูลสิ่งแวดล้อมด้วยปริมาณการปล่อยของก๊าซเรือนกระจก และดัชนีที่ช่วยลดผลกระทบของการทําให้โลกร้อน ซึ่งทําให้นโยบายสินค้าครบวงจรดึงเอาปริมาณและศักยภาพในการลดก๊าซเรือนกระจก เข้ามาสัมพันธ์กับการค้า ถึงแม้ไม่ได้อยู่ในรูปของการค้าหรือแลกเปลี่ยนสิทธิการปล่อยก๊าซเรือนกระจกโดยตรง แต่มีผลต่อการกีดกันทางการค้าและมีความสัมพันธ์กับศักยภาพในการผลิตสินค้าที่จะแข่งขันกับประเทศที่พัฒนาแล้วที่มีเทคโนโลยีใหม่ในการลดก๊าซเรือนกระจก การเพิ่มเทคโนโลยีใหม่นี้ในกระบวนการผลิตของประเทศไทยจะทําให้มีต้นทุนสูงขึ้น และมีผลต่อการค้าและการส่งออก แม้มาตรการนโยบายสินค้าครบวงจรจะอยู่ในระยะการรับฟังข้อคิดเห็น Communication on IPP แต่ในอนาคตอันใกล้อาจกลายเป็นมาตรการด้านการลดก๊าซเรือนกระจก ที่ส่งผลกระทบรุนแรงทางด้านการค้า จึงควรเฝ้าระวังการเคลื่อนไหวอย่างใกล้ชิดจากผลการวิเคราะห์จุดอ่อนจุดแข็งต่อการตั้งรับอนุสัญญาฯและมาตรการด้านสิ่งแวดล้อมพบว่าจุดแข็งของประเทศไทยอยู่ที่ด้านนโยบายด้านพลังงาน ทั้ง นโยบายด้านพลังงานที่เชื่อมโยงกับเศรษฐกิจที่สนับสนุนการลดก๊าซเรือนกระจกอย่างชัดเจนได้แก่ นโยบายส่งเสริมพลังงานทดแทน นโยบายส่งเสริมการใช้พลังงานอย่างมีประสิทธิภาพ นโยบายด้านการคมนาคมขนส่ง เป็นต้น แต่การนํานโยบายไปปฏิบัติให้สัมฤทธิผลนั้นกลับเป็นจุดอ่อนของประเทศ ซึ่งรวมถึง การร่วมมือในการจัดการเชิงสถาบันยังไม่ดีพอ บุคลากรมีน้อยทั้งการปฏิบัติและการเจรจาต่อรอง การสร้างความตระหนักและจิตสํานึกยังอยู่ในระดับต่ำเนื่องจากปัญหาด้านความยากจน ยังมีจุดอ่อนด้านการพัฒนาเทคโนโลยีพลังงานทดแทนที่ไม่มีประสิทธิภาพ ทิศทางการพัฒนาอุตสาหกรรม นําไปสู่อุตสาหกรรมที่ใช้พลังงานมากขึ้นอันเนื่องมาจาก การเจริญเติบโตทางเศรษฐกิจอย่างรวดเร็ว และที่สําคัญขาดข้อมูลด้านเทคนิคและข้อมูลพื้นฐานการวิจัยด้านการลดก๊าซเรือนกระจกในภาคการปล่อยต่างๆจากการวิเคราะห์ข้อมูลที่ศึกษา พบว่าแนวทางในการดําเนินงานของประเทศไทยในอนาคต ควรเป็นแนวทางที่รองรับกลไกหรือมาตรการต่าง ๆ ทั้งที่มีแนวโน้มว่าจะเกิดขึ้นในอนาคตอันใกล้ และมาตรการอื่น ๆ ที่คาดว่าจะมีผลตามมาหากมาตรการในปัจจุบันไม่ประสบผลสําเร็จในการบังคับใช้ การเสนอแนวทางการดําเนินงานเพื่อรองรับความไม่แน่นอนด้านนี้ จึงอยู่บนพื้นฐานของการเตรียมความพร้อม การสร้างและกลไกการสร้างความรู้ การเชื่อมโยงเครือข่ายและการพัฒนาสนับสนุนกระบวนการสร้างองค์ความรู้ เพื่อให้สามารถบรรเทาผลกระทบที่เกิดขึ้นแล้ว รองรับผลกระทบที่เกิดขึ้นและจะเกิดขึ้น ซึ่งแนวทางนี้สามารถปรับใช้ได้ทั้งในเงื่อนไขที่กลไกลดก๊าซเรือนกระจกที่เชื่อมโยงกับการค้า มีผลบังคับใช้ และในเงื่อนไขของกลไกในรูปแบบอื่น ที่จะเข้ามาในรูปแบบใหม่ในอนาคต การเพิ่มศักยภาพของโครงสร้างในประเทศ จึงควรมองให้ครบวงจร และมีการพัฒนาโครง สร้างที่นอกจากจะเพิ่มความแข็งแกร่งแล้วควรสามารถรองรับการเปลี่ยนแปลงที่เกิดขึ้นในอนาคตได้ ดังนั้น จึงได้เสนอแนวทางสองด้านคือ จัดระเบียบของประเทศ และการเตรียมความพร้อม การจัดระเบียบหมายรวมไปถึงการจัดโครงสร้างให้คล่องตัวในการทํางาน สามารถติดตามสถานการณ์ในต่างประเทศ และส่งผ่านข้อมูลสู่ผู้ปฏิบัติตลอดจนนําเสนอข้อมูลให้ผู้บริหารได้พิจารณาเชิงนโยบายได้ ได้เสนอรูปแบบของศูนย์ดําเนินการกลางด้านสภาพภูมิอากาศเปลี่ยนแปลง โดยที่การทํางานของศูนย์ฯนี้อยู่ภายใต้การกํากับดูแลของคณะอนุกรรมการ อนุสัญญาสหประชาชาติว่าด้วยการเปลี่ยนแปลงสภาพภูมิอากาศ หรือคณะกรรมการแห่งชาติที่ทําหน้าที่ในการกํากับดูแลด้านสภาพภูมิอากาศเปลี่ยนแปลงโดยตรง ศูนย์ฯทําหน้าที่ในการเป็น focal point ในการปฏิบัติภารกิจด้านต่างประเทศ และประสานงานกับหน่วยงานของรัฐและเอกชนที่เกี่ยวข้องทั้งในส่วนของการดําเนินงานตามนโยบายและแผน การประเมินและวิเคราะห์ผลทั้งเชิงวิทยาศาสตร์และเทคนิค ตลอดจนด้านการประชาสัมพันธ์และการเผยแพร่ความรู้สู่ระดับล่าง โดยแบ่งหน่วยงานออกเป็น สามฝ่าย ได้แก่ 1. โปรแกรมด้านวิทยาศาสตร์ Science Program 2. โปรแกรมด้านผลกระทบ การปรับตัวและความล่อแหลม Impact Adaptation and Vulnerability program และ 3. โปรแกรมด้าน นโยบายและการค้า Mitigation Policy and Trade Programในด้านการเตรียมความพร้อมนั้น เนื่องจากการลดและการแลกเปลี่ยนสิทธิการปล่อยก๊าซเรือนกระจกเกี่ยวข้องกับคาร์บอนเครดิตซึ่งมีความสัมพันธ์กับการปล่อยและลดก๊าซเรือนกระจกโดยตรง ดังนั้นควรมีข้อมูล ที่เน้น ความชัดเจนของการปลดปล่อยก๊าซเรือนกระจกในแต่ละภาค โอกาสและศักยภาพและทางเลือกที่คุ้มค่าในการลดก๊าซเรือนกระจก เพื่อให้เห็นภาพรวมที่สามารถนํามาซึ่งการตัดสินใจในการแลกเปลี่ยนสิทธิการปล่อยก๊าซเรือนกระจกได้ เป็นการจัดระเบียบและเรียบเรียงข้อมูล เป็นฐานในการประเมินการปล่อย การลดก๊าซเรือนกระจกเพื่อให้สามารถสนับสนุนการกําหนดทิศทาง มาตรการเชิงนโยบายได้สําหรับการเตรียมความพร้อมของนโยบายสินค้าครบวงจรเป็นเรื่องของการพัฒนำมาตรการลดผลกระทบต่อสิ่งแวดล้อม ซึ่งเป็นแนวคิดที่ประเทศไทยต้องเตรียมตัวในการตั้งรับ ดังนั้น โครงการวิจัยจึงเน้นการศึกษาเครื่องมือที่ใช้ในการ implement นโยบาย และการศึกษาความพร้อมของประเทศไทยทั้งด้านกฎหมายและการนําไปใช้จริง AbstractAt the United Nations Conference on Environment and Development in 1992 in Rio deJaneiro Brazil the United Nations Framework Convention on Climate Change UNFCCC wasratified. The Convention sets an ultimate objective of stabilizing greenhouse gas emissions at alevel that would prevent dangerous anthropogenic interference with the climate system. Consequently at the Third Conference of the Parties held in Kyoto a Protocol to the UNFCCC wasadopted in 1997 known as Kyoto protocol or KP. One of the mechanisms initiated under KP toachieve the greenhouse gas GHG emission reduction goals under UNFCCC is Clean DevelopmentMechanism CDM. In the meantime the European Community EU initiated the so-calledIntegrated Products Policy IPP with aims of imposing various measures and obligations to achieveenvironment-friendly production systems. These two measures UNFCCC-KP and IPP have onething in common; they promote the reduction of greenhouse gas emission. For IPP there is thepossibility that IPP regulations will be imposed to EU trading partner. Thus this unavoidably affectsall issues related to GHG emission and manufacture in Thailand since Thailand may be forced tocomply with IPP regulation. As a result effects of these measures on trading between Thailand andthe EU has emerged and become an issue of concerns.Study of UNFCCC implementation reveals that Thailand has fulfilled the voluntarycommitment as a member of non-Annex I country. These include the submission of NationalCommunication on GHG Inventory establishment of National Committee on UNFCCC and climatechange to oversee the implementation of UNFCCC in Thailand and establishment of the focal pointfor international cooperation within the scope of UNFCCC.Since the time of ratifying UNFCCC scientific research activity in Thailand on GHGemission has been progressed substantially. Raising public awareness is one of the achievements.There is also more interest on activities leading to GHG emission reduction environmental protectionand the situation of world oil supply. This is true especially in energy sector. National policies onutilizing biomass and other renewable energy have been adopted and partly implemented. In thetransport sector use of bio-ethanol has been promoted to reduce fossil fuel import. Mass transitsystem using trains has been proposed countrywide. In industry and waste sectors clean technologyand utilization of biogas methane have been introduced.Under KP Thailand can cooperate to reduce GHG emission through participating in CDMproject. However in CDM Thailand should emphasize the cooperation with the developed countriesto develop the greenhouse gas emission reduction technology per se rather than importing orbuying the finished technology from them. This scheme of CDM will help promote sustainabledevelopment in Thailand. Thus implementation of CDM project should consider the overall effectson Thailand well-beings as well as on the long-term advantages and disadvantages of CDM onfuture economy and security. It is also important that Thailand sets the appropriate negotiationtactics for not being exploited by the developed countries while maintaining the appropriate Thailandpositions in eyes of the world community.Implementation of UNFCCC not only directly affects greenhouse gas trading but alsoindirectly affects technology development for reducing greenhouse gas emission. To effectivelyparticipating in trading and developing new technology while Thai competitiveness in world market ismaintained certain measures and policies need to be streamlined and implemented. These includepolicy on energy and environment improving infrastructure and scientific research both to establishknowledge database at present and to establish readiness for coping with future changes.In case of IPP the study reveals that the life cycle of a product supply side consideredunder IPP encompasses the aspects of product concept and design manufacturing processmaterial and energy consumption and packaging. In all aspects the issues of maximizing overallefficiency and minimizing the effects on environments are emphasized. The life cycle on demandside starts from the consumer en route to the end of the product lifetime or until the time that suchproduct cannot be re-cycled or reused. All of these processes consume energy and generatewastes that affects to environment quality. The effects of energy consumption on environment canbe seen clearly when the amount of energy consumed is directly converted into the amount ofgreenhouse gases generated and the global warming potential index. Thus this necessitates thelinks between IPP greenhouse gas emission reduction potential and trading. Although greenhousegas emission is not directly concerned with trading but it could be considered as the reason forimposing trade barriers. Therefore this will affect the potential for Thailand to compete in the worldmarket especially with the EU countries that already have more advance technology for GHGreduction. If enforced to adopt such technology in Thai manufacturing system it may unavoidablyincrease the capital cost thus reduce the competitiveness for Thai products in the world market. Although implementation of IPP in EU countries is currently at the communication step in the nearfuture it may be applied as one of the measures to reduce GHG emission and may have significantconsequences on Thai foreign trading. Thus a close observation on its implementation isnecessary.Analysis results of strength and weakness for Thailand to counteract with UNFCCC and IPPreveal that the strength for Thailand lies in the robust energy policy. The energy policies such aspromoting the domestic production and utilization of renewable energy promoting the efficientutilization of energy the policy to improve transport infrastructure all are in line with moving towardsreducing greenhouse gas emission in the future. However how to fully and effectively implementthese policies to fulfill the objectives is the main weakness. The weakness also includes insufficientcooperation among organizations lack of skilled staffs at implementation as well as at negotiationlevels low level of awareness and understanding among public due to poverty inefficientdevelopment for renewable technology more energy consumption-prone of industry in the future dueto rapid economic growth and lack of database and basic research to support greenhouse gasemission reduction in various sectors.Literature reviews and analysis imply that strategic approach in the future should focus onpreparing the country to counteract with the implementations of foreign measures both those arealready in place and are to be coming into effects. To cope with the uncertainty the approach mustbe based on thorough preparations and planning effective networking and cooperation amongorganizations. This will help reduce risk and buffer the adverse effects that might occur. Suchapproaches should be applicable for the purpose of reducing greenhouse gas emission associatedwith the existing foreign measures as well as with the new ones that will emerge. To increasepotential of domestic organizations for counteracting such foreign measures it is important to bethorough. There should be the process that in addition to strengthen the existing network andorganization should help cope with any changes and developments in the future. To achieve thisthe current study proposes to proceed through two main approaches. The first approach aims to re-structure the domestic organizations and the second one aims to help prepare for managing risk anduncertainty in the future.For plans and actions to be executed efficiently organization structuring is needed.Accordingly this study proposes to establish the Climate Change Center. The Center should beunder The Committee for UNFCCC or the specific National Committee that is directly in charge ofclimate change issues. This Center will be a focal point in executing policy involving foreigncountries cooperating with official and private organizations involved in implementation ofgovernment policies performing scientific and technical evaluation and analysis of issues managingpublic relations and communication and transferring relevant information and knowledge to public.The organization is divided into three units including 1 Science Program 2 Impact Adaptationand Vulnerability Program and 3 Mitigation Policy and Trade Program.Due to greenhouse gas emission reduction and exchange of emission right is directly linkedto emission characteristics of sources and in order to support with uncertainty management in thefuture it is necessary to have good and reliable database for individual economic sector. Suchdatabase should enable the identification of opportunity and appropriate approaches that lead togreenhouse gas emission reduction. The database should provide the overall figure of countryemission inventory in order to support policymakers in making decision on issues related togreenhouse gas emission. This could also help facilitate the evaluation of current as well as futureemission baseline that supports future emission reduction scenarios and policymaking.To be ready for IPP implementation and other issues associated with IPP measuredevelopments of policy that leads to reducing environmental impacts are proposed. Suchapproaches should be well-established before or at the time when IPP is coming into effects.Especially emphasis should be placed on developing the tools for counteracting the IPPimplementation. Such may include the issues of having proper and timely legislation processes andimplementation.',\n",
       "  'word': 'อุปสงค์,เทน,คาร์บอนเครดิต,เอทาน,ระเบียบหมาย,รู้,สนับสนุน,ทดแทน,เตรียม,กระทบ,กลาย,อุปกรณ์,ยั่งยืน,ภารกิจ,แนว,พีธีสาร,จำนวน,คิดเห็น,รุนแรง,ประชุม,กลาง,ก้าวหน้า,แข็งแกร่ง,พึ่งพา,กีดกัน,รถไฟ,บรรเทา,สถานการณ์,แข่ง,กลไก,สินค้า,เรื่อง,กระบวนการ,เร็จ,คุ้ม,ประสิทธิภาพ,พลังงาน,วิจัยพัฒ,กระจก,ภาพ,สมัชชา,รุก,บังคับ,ของ,ปัญหา,ท่าที,กิจกรรม,เสนอ,ศูนย์ฯ,ทํางาน,เฝ้า,วิเคราะห์,ปัจจัย,ซื้อขาย,อนาคต,กรรมการแห่ง,คณะ,โครง,องค์,หรับ,ยุโรป,สิทธิ,นํานโยบาย,ทิศทาง,พัฒ,สะอาด,เทคโนโลยี,บุคลา,รูป,ปล่อย,สภาพ,เนิน,โปรแกรม,ประชาสัมพันธ์,สาร,สถาบัน,บริหาร,ค่า,ชีวิต,กิจการ,ต่อรอง,ชีวมวล,ล่าง,ตื่นตัว,มั่นคง,ลำดับ,เกรด,ล้า,ส่งเสริม,โลก,สาเหตุ,ทุน,ระวัง,จุดอ่อน,หนด,ซ่อมแซม,รูปแบบ,ตัว,พิจารณา,ต่ำ,เลือก,ทรัพยากร,ระบุ,ตัดสินใจ,ประเทศไทย,และแผน,พัฒนา,เนื่อง,เอกชน,แบ่ง,มาตรการ,รัฐ,แห่งชาติการ,ก่อ,ระบบ,ศักยภาพ,สัมพันธ์,เบื้อง,เนินการ,วิทยาศาสตร์,รับฟัง,กาก,ไหว,ภาคีอนุสัญญา,ผสม,เคส,บริโภค,ล่อแหลม,บราซิล,ปรับปรุง,ผนวก,สร้าง,เครือข่าย,ทิ้ง,อ้อม,นโยบาย,เมือง,เบนซิน,หน่วย,อายุ,คมนาคม,คาด,ข้อมูล,เกียวโต,ประเมิน,คล่อง,แนวโน้ม,ปรับ,ศก.,กรุงริโอ,บีบ,ก๊าซ,ข้อ,นึก,ดํา,ฐาน,สําคัญ,ยอด,ค้า,ภูมิอากาศ,เกียว,ชัด,สัมฤทธิ,สหภาพ,ให้การ,โฆษณา,ดีผล,อุตสาหกรรม,บรรจุ,ผูกพัน,เปลี่ยน,กระบวน,ดิบ,เทคนิค,ขาย,หน้าที่,ค้ำ,เจรจา,กฎหมาย,เพลิง,แปลง,เศรษฐศาสตร์,บ้าน,ประสาน,มวล,เชื้อ,จิตสํา,ดึง,วงจร,สาย,ขนส่ง,น้ำมัน,วาง,จัดทําบัญชี,ยูเอ็น,โอกาส,แวดล้อม,จุดแข็ง,ก๊าซเรือน,ภาคพลังงาน,แนวทาง,ต้น,แน่นอน,เครื่องมือ,เอาเปรียบ,ร้อน,ชี้,ปลดปล่อย,พื้นฐาน,สํา,โครงสร้าง,พันธกรณี,อนุสัญญา,ดูแล,ต่อเนื่อง,ตระหนัก,ส่งเสริมการ,รายงาน,ประโยชน์,ผูก,กํา,อนุกรรมการ,ใกล้ชิด,ตาม'},\n",
       " {'project_id': 'RDG4730012',\n",
       "  'doc_id': '6',\n",
       "  'sentence_importance': [{'rank': 1,\n",
       "    'sentence': 'และร่างรายงานผลการวิจัยข้อเสนอกรอบการวิจัยเรื่องการค้าบริการที่เกี่ยวเนื่องกับสุขภาพ มี4 ด้านคือ1. ศึกษาสถานการณ์และแนวโน้มการค้าบริการที่เกี่ยวเนื่องกับสุขภาพทั้ง 4 รูปแบบการค้าบริการ '},\n",
       "   {'rank': 2,\n",
       "    'sentence': 'เพื่อเตรียมการเจรจาข้อตกลงทวิภาคีกับประเทศคู่ค้าที่สําคัญ ได้แก่ สหรัฐอเมริกา อินเดีย จีน ออสเตรเลีย บาห์เรน '},\n",
       "   {'rank': 3,\n",
       "    'sentence': 'และนโยบายที่เกี่ยวกับการค้าบริการที่เกี่ยวเนื่องกับสุขภาพทั้ง 4 รูปแบบ3. ศึกษาผลกระทบของการค้าบริการโดยเฉพาะผลกระทบต่อระบบบริการสุขภาพของคนไทย '},\n",
       "   {'rank': 4,\n",
       "    'sentence': 'และแนวทางในการลดผลกระทบ4. ศึกษาศักยภาพของไทยในการให้บริการ ความสามารถในการแข่งขัน '},\n",
       "   {'rank': 5,\n",
       "    'sentence': 'โดยมีกรณีศึกษาการมีข้อตกลง Mutual Recognition ระหว่างประเทศในสหภาพยุโรป6. ศึกษาศักยภาพของประเทศไทยในการให้บริการทางไกลข้ามพรมแดน '},\n",
       "   {'rank': 6,\n",
       "    'sentence': 'และประเทศที่ไทยควรให้ความสําคัญในการส่งออกบริการจากกรอบการวิจัยข้างต้น ในช่วง 3 ปีข้างหน้านี้ '},\n",
       "   {'rank': 7,\n",
       "    'sentence': 'และข้อมูลอื่นๆที่เกี่ยวข้องกับการค้าบริการที่เกี่ยวเนื่องกับสุขภาพ'},\n",
       "   {'rank': 8,\n",
       "    'sentence': 'ทําให้การค้าบริการด้านนี้มีแนวโน้มขยายตัวเพิ่มมากขึ้น '},\n",
       "   {'rank': 9,\n",
       "    'sentence': 'ซึ่งอาจส่งผลกระทบต่อการให้บริการสุขภาพแก่คนไทยตามนโยบายการประกันสุขภาพได้ '},\n",
       "   {'rank': 10,\n",
       "    'sentence': 'ขณะเดียวกัน มีนโยบายในเรื่องการครอบคลุมประกันสุขภาพแก่ประชาชน '}],\n",
       "  'published_year': '2009',\n",
       "  'keyword': 'ตัว,รัฐ,ระบบ,ข้อมูล,ฐาน,ต้น,สกัด,หลัก,รูปแบบ,รู้,ลักษณะ,ดํา,เรื่อง,ประเทศไทย,สําคัญ,ข้อ,ทุน,จํา,องค์,ปัจจัย,เตรียม,วัตถุประสงค์,แนวทาง,แนว,เหมาะสม,เสนอ,ศักยภาพ,ค้า,เนิน,บริการ,คู่,ชิ้น,สุขภาพ,เลือก,กระทบ,ส่งเสริม,เคส,เปรียบเทียบ,รายงาน,หน้า,นโยบาย,ดร.,จีน,รอบ,กฎหมาย,สถานการณ์,ปชช.,เอกสาร,ล้า,ตกลง,ข้าม,ร่าง,เขมร,แข่ง,โอกาส,ประกัน,ศูนย์กลาง,สาธารณสุข,ที่ปรึกษา,ญี่ปุ่น,จัดทํา,แนวโน้ม,บุคลากร,อินเดีย,พม่า',\n",
       "  'title': 'การทบทวนสถานการณ์และองค์ความรู้เพื่อพัฒนาชุดโครงการวิจัยเรื่องการค้าบริการที่เกี่ยวเนื่องกับสุขภาพ',\n",
       "  'content': 'บทคัดย่อความสําคัญของการวิจัยประเทศไทยมีนโยบายคู่ขนาน คือ ทางหนึ่งมีนโยบายส่งเสริมการส่งออกบริการทางการแพทย์และสาธารณสุข และมุ่งให้ไทยเป็นศูนย์กลางของการบริการสุขภาพระหว่างประเทศ โดยเฉพาะบริการที่ไทยมีศักยภาพในการแข่งขันเมื่อเปรียบเทียบกับประเทศอื่น ขณะเดียวกัน มีนโยบายในเรื่องการครอบคลุมประกันสุขภาพแก่ประชาชน นโยบายส่งเสริมการส่งออกบริการที่เกี่ยวเนื่องกับสุขภาพ ทําให้การค้าบริการด้านนี้มีแนวโน้มขยายตัวเพิ่มมากขึ้น ซึ่งอาจส่งผลกระทบต่อการให้บริการสุขภาพแก่คนไทยตามนโยบายการประกันสุขภาพได้ ประเทศไทยจึงจําเป็นต้องมีการเตรียมความพร้อม และหาองค์ความรู้เพื่อการพัฒนาศักยภาพ และปรับตัวให้เหมาะสมกับเงื่อนไขและรูปแบบการค้าใหม่ของเวทีโลก และการดําเนินนโยบายทั้งสองลักษณะไปพร้อมกัน เป็นความท้าทายในเชิงนโยบาย ที่จะทําอย่างไรให้เกิดผลกระทบด้านลบน้อยที่สุด การวิจัยชิ้นนี้ มีวัตถุประสงค์หลักคือการจัดทํากรอบการวิจัยระยะ 3 ปี 2547-2549 ด้านการค้าระหว่างประเทศที่เกี่ยวเนื่องกับบริการสุขภาพระเบียบวิธีวิจัยเป็นการวิจัยเชิงเอกสาร โดยสืบค้นข้อมูลงานศึกษาวิจัยและข้อมูลอื่นๆที่เกี่ยวข้องกับการค้าบริการที่เกี่ยวเนื่องกับสุขภาพทั้งในประเทศไทย และระหว่างประเทศ และตั้งกรรมการที่ปรึกษาโครงการเพื่อให้ความเห็นในกรอบแนวคิดและร่างรายงานผลการวิจัยข้อเสนอกรอบการวิจัยเรื่องการค้าบริการที่เกี่ยวเนื่องกับสุขภาพ มี4 ด้านคือ1. ศึกษาสถานการณ์และแนวโน้มการค้าบริการที่เกี่ยวเนื่องกับสุขภาพทั้ง 4 รูปแบบการค้าบริการ คือ Cross Border Supply Consumption Abroad Consumer Presence และ Presence of Natural Person2. ศึกษากฎหมาย ระเบียบ เงื่อนไข และนโยบายที่เกี่ยวกับการค้าบริการที่เกี่ยวเนื่องกับสุขภาพทั้ง 4 รูปแบบ3. ศึกษาผลกระทบของการค้าบริการโดยเฉพาะผลกระทบต่อระบบบริการสุขภาพของคนไทย และแนวทางในการลดผลกระทบ4. ศึกษาศักยภาพของไทยในการให้บริการ ความสามารถในการแข่งขัน และประเทศที่ไทยควรให้ความสําคัญในการส่งออกบริการจากกรอบการวิจัยข้างต้น ในช่วง 3 ปีข้างหน้านี้ งานวิจัยที่มีความสําคัญเร่งด่วนมี6 เรื่อง คือ1. การศึกษาเพื่อเตรียมการเจรจาข้อตกลงทวิภาคีกับประเทศคู่ค้าที่สําคัญ ได้แก่ สหรัฐอเมริกา อินเดีย จีน ออสเตรเลีย บาห์เรน และญี่ปุ่น2. ศึกษาการเข้ามารับบริการของชาวต่างชาติในประเทศไทย โดยศึกษาความสามารถในการแข่งขันของไทยในการให้บริการทางการแพทย์และสาธารณสุขเปรียบเทียบกับประเทศที่เป็นคู่แข่งเช่น สิงค์โปร์ มาเลเซีย เป็นต้น3. ศึกษาการลงทุนและแนวโน้มของชาวต่างชาติในประเทศไทย4. ศึกษาโอกาสและศักยภาพของไทยในการลงทุนในบริการที่เกี่ยวเนื่องกับสุขภาพในต่างประเทศ โดยเลือกประเทศที่ไทยมีศักยภาพในการแข่งขัน เช่น เวียดนาม กัมพูชา พม่า และจีน5. ศึกษาผลกระทบของการเปิดเสรีการเคลื่อนย้ายบุคลากรด้านการแพทย์และสาธารณสุข โดยมีกรณีศึกษาการมีข้อตกลง Mutual Recognition ระหว่างประเทศในสหภาพยุโรป6. ศึกษาศักยภาพของประเทศไทยในการให้บริการทางไกลข้ามพรมแดน โดยมุ่งตลาดสหรัฐอเมริกา และ ศึกษาเปรียบเทียบความสามารถในการแข่งขันกับประเทศที่เป็นคู่แข่งขันกับไทย เช่น อินเดีย ABSTRACTStatement of ProblemThailand has dual tracks policy to promote export of trade in health services and at the sametime to provide universal coverage for health insurance to Thai people. This results in expansion of tradein this area and subsequently may have impact on the provision of services to Thai population. It isnecessary that researches in the area of trade in health services have to be conducted to provideknowledge and recommendations to policymakers in responding to the expansion of health-related tradeliberalization and reduce the negative impact on heath of Thai population.Main objective of this study is to provide framework for researches in the area of trade in healthservices in the next 3 years 2004-2006.Research MethodologyDocumentary research was used to compile information data and researches at both nationaland international level. Steering committee was established to provide guidance and recommendations tothe research team.Results:Four research areas are proposed for each mode of trade in health services i.e cross bordersupply consumption abroad consumer presence and presence of natural person as follows:1. Situation and trend analysis of trade in health services in four modes of trade.2. Study on law regulation condition and policies related to 4 modes of trade in health services.3. Study on impact of trade in health services to health system in Thailand and ways to minimize thoseimpacts.4. Study health-related sectors that Thailand has potential to develop and has competitive advantages.Six research topics receive high priority as follows:1. Study to prepare for bilateral agreements between Thai and U.S China India Australia Bahrain andJapan.2. Study on situation of foreigners receives services in Thailand and the competitive advantages ofThailand compare to other countries such as Singapore and Malaysia.3. Study on situation on foreign direct investment in Thailand.4. Study on opportunities and potential for Thailand in investment in other countries such as VietnamCambodia Myanmar and China.5. Study on impact of liberalization of trade in presence of natural persons in health services and casestudy of impact on mutual recognition among EU member countries.6. Study on potential of Thailand to trade in mode 1 on cross border supply with main focus on tradewith U.S.A and competitive advantage study between Thai and India.',\n",
       "  'word': 'ตกลง,จัดทํา,ตลาดสหรัฐอเมริกา,ที่ปรึกษา,รู้,ท้า,หลัก,เตรียม,กระทบ,ญี่ปุ่น,แนว,สกัด,สถานการณ์,แข่ง,เรื่อง,วิธีวิจัย,เสนอ,เปรียบเทียบ,สาธารณสุข,วัตถุประสงค์,กรรม,ปัจจัย,องค์,วิจัยประเทศไทย,ประกัน,การพัฒนา,เนิน,ปรับตัว,บริการ,ชิ้น,ข้าม,สุขภาพระเบียบ,ส่งเสริม,คู่,ล้า,คู่แข่ง,ศูนย์กลาง,ทุน,อียู,ขนาน,เหมาะสม,ตัว,รูปแบบ,เสรี,เร่งด่วน,เลือก,เอกสาร,ประเทศไทย,ระบบ,รัฐ,ศักยภาพ,ครอบคลุม,จีน,เคส,สุขภาพ,นโยบาย,ศึกษาการ,เคลื่อนย้าย,ข้อมูล,ดร.,แนวโน้ม,หน้า,เขมร,ทวิภาคี,บาห์เรน,ข้อ,ดํา,พรมแดน,สําคัญ,พม่า,ฐาน,สหรัฐอเมริกา,ค้า,เวียดนาม,ลักษณะ,เจรจา,กฎหมาย,อินเดีย,รอบ,ปชช.,เวทีโลก,โอกาส,แนวทาง,ต้น,บุคลากร,ร่าง,จํา,รายงาน,สิงค์โปร์,สืบค้นข้อมูล'},\n",
       " {'project_id': 'RDG4730009',\n",
       "  'doc_id': '7',\n",
       "  'sentence_importance': [{'rank': 1,\n",
       "    'sentence': 'และการพัฒนาองค์ความรู้ภายใต้กรอบมาตรการสากลคําหลักการเจรจาทางการค้าประเด็นการวิจัยมาตรการที่มิใช่ภาษีอุตสาหกรรมส่งออก'},\n",
       "   {'rank': 2,\n",
       "    'sentence': 'และจัดระบบข้อมูลที่มีอยู่ในหน่วยงานราชการ กลุ่มธุรกิจเอกชน '},\n",
       "   {'rank': 3, 'sentence': 'ประเทศไทยยังมีข้อจํากัดเกี่ยวกับศักยภาพของสถาบัน'},\n",
       "   {'rank': 4,\n",
       "    'sentence': 'ซึ่งอาจส่งผลกระทบต่อความสามารถในการแข่งขันของประเทศไทย สํารวจความต้องการและแนวโน้มของการพัฒนาฐานความรู้'},\n",
       "   {'rank': 5,\n",
       "    'sentence': 'ตลอดจนทําการวิเคราะห์ในเบื้องต้น เกี่ยวกับประเด็นปัญหา'},\n",
       "   {'rank': 6,\n",
       "    'sentence': 'และความรู้ที่มีอยู่ในปัจจุบันที่เกี่ยวข้องกับมาตรการการค้าระหว่างประเทศ จากเอกสารทางวิชาการ '},\n",
       "   {'rank': 7,\n",
       "    'sentence': 'ปัญจภาคีนุกุลสถาบันนโยบายเพื่อการพัฒนาที่ยั่งยืนผู้ช่วยวิจัยEmail address:ampai@tei.or.thระยะเวลาโครงการ: 4 เดือน ตั้งแต่วันที่ 15 ตุลาคม 2546 ถึงวันที่ 14 กุมภาพันธ์ 2547'},\n",
       "   {'rank': 8, 'sentence': 'การกําหนดมาตรฐานต่างๆ ให้ชัดเจน '},\n",
       "   {'rank': 9,\n",
       "    'sentence': 'และบุคลากรที่จะทําหน้าที่ดําเนินการเจรจาร่วมกับต่างประเทศได้อย่างมั่นใจ'},\n",
       "   {'rank': 10,\n",
       "    'sentence': 'การศึกษาในครั้งนี้มีข้อเสนอแนะที่สําคัญ ได้แก่ การจัดระเบียบภายในระหว่างหน่วยราชการที่เกี่ยวข้อง '}],\n",
       "  'published_year': '2009',\n",
       "  'keyword': 'กาล,พัฒนา,รัฐ,ระบบ,วิธี,ข้อมูล,ฐาน,วิเคราะห์,ปัญหา,ต้น,สกัด,สถาบัน,หน่วย,รูปแบบ,รู้,ลักษณะ,ดํา,ประเทศไทย,สําคัญ,ทําการ,ข้อ,จํา,องค์,ประสิทธิภาพ,เตรียม,เดือน,วัตถุประสงค์,แนวทาง,กํา,องค์กร,ประโยชน์,สะสม,ศักยภาพ,ผู้นำ,ค้า,ประเมิน,อยาก,เนิน,คู่,หน้าที่,อุตสาหกรรม,มาตรฐาน,กระทบ,วิชาการ,สรุป,นโยบาย,สนใจ,หนด,คําหลัก,ประเด็น,ประชุม,ธุรกิจ,สถานการณ์,ยุทธศาสตร์,ยั่งยืน,เอกสาร,กัด,ล้า,ราชการ,สาธารณะ,ซักถาม,โฆษณา,ประมวล,แข่ง,เอกชน,เปลี่ยน,ทราบ,ภาษี,สอบถาม,ชัด,จํากัด,บทความ,มาตรการ,ที่ปรึกษา,แนวโน้ม,เบื้อง,บุคลากร,ออก,มั่นใจ,เสนอแนะ',\n",
       "  'title': 'กรอบยุทธศาสตร์การวิจัยกติกาและมาตรการสากลเพื่อพัฒนาการค้าระหว่างประเทศของไทย',\n",
       "  'content': 'บทคัดย่อรหัสโครงการ:RDG4730009ชื่อโครงการ:กรอบยุทธศาสตร์การวิจัยด้านกติกาและมาตรการสากลเพื่อพัฒนาการค้าระหว่างประเทศของไทยชื่อนักวิจัย:นายโฆสิต ปั้นเปียมรัษฎ์มูลนิธิส่งเสริมการพัฒนาที่ยั่งยืนที่ปรึกษาโครงการนางสาวอําไพ หรคุณารักษ์สถาบันนโยบายเพื่อการพัฒนาที่ยั่งยืนหัวหน้าโครงการนางสาววีนา พันธุรัตน์สถาบันนโยบายเพื่อการพัฒนาที่ยั่งยืนนักวิจัยร่วมนายเม็งราย ปัญจภาคีนุกุลสถาบันนโยบายเพื่อการพัฒนาที่ยั่งยืนผู้ช่วยวิจัยEmail address:ampai@tei.or.thระยะเวลาโครงการ: 4 เดือน ตั้งแต่วันที่ 15 ตุลาคม 2546 ถึงวันที่ 14 กุมภาพันธ์ 2547โครงการนี้มีวัตถุประสงค์เพื่อ 1 ศึกษาและประเมินสถานการณ์ ความรู้ ความเข้าใจและการตระหนักถึงผลกระทบของกติกาและมาตรการสากล ที่มีต่อความสามารถในการแข่งขันของประเทศ 2 รวบรวม ประมวล และจัดระบบข้อมูลที่มีอยู่ในหน่วยงานราชการ กลุ่มธุรกิจเอกชน และองค์กรระหว่างประเทศ ตลอดจนทําการวิเคราะห์ในเบื้องต้น เกี่ยวกับประเด็นปัญหาและข้อจํากัดของพันธกรณีทางการค้า ซึ่งอาจส่งผลกระทบต่อความสามารถในการแข่งขันของประเทศไทย สํารวจความต้องการและแนวโน้มของการพัฒนาฐานความรู้เพื่อเสริมสร้างศักยภาพในการเจรจาต่อรองทางการค้าในระยะยาว และ 3 จัดทําข้อเสนอแนะแนวทางและกรอบยุทธศาสตร์เพื่อพัฒนางานวิจัยที่สําคัญในระยะต่อไป โดยผู้วิจัยได้ใช้วิธีทบทวนข้อมูลและความรู้ที่มีอยู่ในปัจจุบันที่เกี่ยวข้องกับมาตรการการค้าระหว่างประเทศ จากเอกสารทางวิชาการ บทความเผยแพร่ทางอินเตอร์เน็ท และสิ่งตีพิมพ์สาธารณะ รวมทั้งได้สอบถามข้อมูลและความเห็นจากผู้ทรงคุณวุฒิทั้งภาครัฐ เอกชน และสถาบันวิชาการที่เกี่ยวข้องและสนใจ ทั้งในรูปแบบการสัมภาษณ์รายบุคคลและการประชุมกลุ่มใหญ่ ซึ่งผลการศึกษาสรุปได้ว่า การเจรจาทางการค้าไม่ว่าจะเป็นในรูปแบบของการจัดทําเขตการค้าเสรีระบบทวิภาคีFTA หรือระบบพหุภาคีWTOหรือแม้แต่การเจรจาเพื่อตอบโต้ข้อกล่าวหาของประเทศคู่ค้า มีลักษณะของการแลกเปลี่ยนผลประโยชน์ระหว่างประเทศทั้งสิ้น การเตรียมความพร้อมในการเจรจาการค้าจึงมีความสําคัญอย่างยิ่ง บทเรียนจากอดีตที่ผ่านมาทําให้ทราบว่า ประเทศไทยยังมีข้อจํากัดเกี่ยวกับศักยภาพของสถาบันและบุคลากรที่จะทําหน้าที่ดําเนินการเจรจาร่วมกับต่างประเทศได้อย่างมั่นใจและมีประสิทธิภาพสูงสุด การศึกษาในครั้งนี้มีข้อเสนอแนะที่สําคัญ ได้แก่ การจัดระเบียบภายในระหว่างหน่วยราชการที่เกี่ยวข้อง การให้ความสําคัญกับข้อเสนอแนะที่มาจากเอกชน การศึกษาวิจัยประเด็นที่เกี่ยวข้องทั้งก่อนและหลังการเจรจา การกําหนดมาตรฐานต่างๆ ให้ชัดเจน และการพัฒนาองค์ความรู้ภายใต้กรอบมาตรการสากลคําหลัก:การเจรจาทางการค้าประเด็นการวิจัยมาตรการที่มิใช่ภาษีอุตสาหกรรมส่งออก AbstractProject Code:RDG4730009Project Title:A Study on the Strategic Framework to Establish a Research Agendaon Trade Measures to Support Thailands Trade DevelopmentInvestigators:Mr. Kosit panpiemras Sustainable Development Promotion Foundation Project AdvisorMs. Ampai Harakunarak Sustainable Development Policy Institute – Project LeaderMs. Weena Panthurat Sustainable Development Policy Institute – Senior ResearcherMr. Mengrai Panchapakeenukul Sustainable Development Policy Institute – ResearcherEmail address:ampai@tei.or.thProject Duration:4 months 15 October 2003 – 14 February 2004The study aims to: 1 conduct situational analysis on trade measures and their impactson Thailands competitiveness; 2 analyze issues and constraints on trading regulationsand agreements facing Thai traders and negotiators focusing on the knowledgerequired for sustainable trade promotion; and 3 provide recommendations on strategicframework for research on Thailands trade negotiation and development. Data andinformation for the study were complied from a series of individual and groupconsultations with stakeholders in governmental academic and private sectors as wellas from a number of secondary sources. The results of the study reveal the fact thatsince all trade negotiations concern national interests and economic benefits it iscrucial that negotiators are fully aware of the overall situations and circumstances andare well-prepared for the negotiation andor confrontation. Lessons learned fromThailands trade negotiations in the past include the lack of institutional and individualcapacity to effectively cope with trade-related regulatory and compliance issues. Thestudy recommends a series of action to be undertaken by the concern agencies incooperation with private sector and academia. This includes institutional streamliningpaying more attention to advice from the private sector investigation on pre- and post-negotiation issues through policy research and in-depth case studies clear provision oftrade-related standards and development of knowledge platforms for trade measures.Keywords:trade negotiationresearch agendanon-tariff measuresexport industries',\n",
       "  'word': 'ทบทวน,ที่ปรึกษา,รู้,วิธี,เตรียม,บทเรียน,กระทบ,สํารวจความ,ยั่งยืน,หรคุณารักษ์สถาบัน,มาตรฐาน,สกัด,ประชุม,ประมวล,อําไพ,พหุภาคี,สนใจ,สถานการณ์,แข่ง,มั่นใจ,ประสิทธิภาพ,ปัญหา,วัตถุประสงค์,วิเคราะห์,ตอบโต้,ทราบ,วิชาการ,องค์,สรุป,เพื่อการพัฒนา,เนิน,กัด,เสนอแนะ,สถาบัน,นางสาววีนา,เดือน,เปียมรัษฎ์,ต่อรอง,มูลนิธิส่งเสริม,ล้า,คู่,พัฒนาการค้าระหว่าง,หนด,รูปแบบ,คุณวุฒิ,เสรี,ยุทธศาสตร์,ธุรกิจ,เอกสาร,ประเทศไทย,พัฒนา,เอกชน,มาตรการ,รัฐ,ระบบ,ศักยภาพ,เบื้อง,ต.ค.,สอบถาม,ภาษี,ประเด็น,ซักถาม,ทําการ,สาธารณะ,กติกา,ผู้นำ,นโยบาย,สากล,ก.พ.,หน่วย,ข้อมูล,แนวโน้ม,องค์กร,ข้อ,ดํา,ฐาน,สําคัญ,บทความ,ค้า,ออก,อินเตอร์เน็ท,โฆษณา,ชัด,อุตสาหกรรม,เปลี่ยน,ลักษณะ,หน้าที่,ราชการ,สาก,เจรจา,สะสม,แนวทาง,ต้น,หาว่า,บุคลากร,มาตรการการค้า,พันธุรัตน์,จํากัด,จํา,พันธกรณี,คําหลัก,เสริมสร้าง,จัดทําเขต,ตระหนัก,กาล,อยาก,ประโยชน์,กํา,นายเม็ง,ประเมิน'},\n",
       " {'project_id': 'RDG4730008',\n",
       "  'doc_id': '8',\n",
       "  'sentence_importance': [{'rank': 1,\n",
       "    'sentence': 'และจากการตรวจวัดแสงบริเวณหน้างาน 472 จุด พบว่าร้อยละ 48.3 ต่ำกว่ามาตรฐาน การเปรียบเทียบค่าเฉลี่ย CFF '},\n",
       "   {'rank': 2,\n",
       "    'sentence': 'และสุขภาพ อาทิการปรับปรุงแสงสว่างบริเวณหน้างาน การหยุดพักสายตาระหว่างการทํางาน '},\n",
       "   {'rank': 3,\n",
       "    'sentence': 'สํานักโรคจากการประกอบอาชีพและสิ่งแวดล้อมE- mail address wanpenp@health.moph.go.thระยะเวลาโครงการตุลาคม 2546 – มีนาคม 2548ในกระบวนการผลิตชิ้นส่วนอิเลคโทรนิคส์'},\n",
       "   {'rank': 4,\n",
       "    'sentence': 'พบว่ามีความแตกต่างกันอย่างมีนัยสําคัญ P-value = 0.000ผลของข้อมูลข้างต้นนํามาซึ่งการระดมสมองระหว่างลูกจ้าง เจ้าหน้าที่ความปลอดภัย ผู้วิจัย '},\n",
       "   {'rank': 5,\n",
       "    'sentence': 'สถิติที่ใช้ได้แก่ร้อยละChi-squareMann Whitney Test  Wilcoxon Signed Ranks Test.ผลการศึกษา พบว่า กลุ่มตัวอย่างส่วนใหญ่เป็นเพศหญิง อายุน้อยกว่า 25 ปี ใช้ตาเปล่า'},\n",
       "   {'rank': 6,\n",
       "    'sentence': 'ที่ก่อนเข้าทํางาน หลังทํางาน 1 และ 2 ชั่วโมงมีความแตกต่างกันอย่างมีนัยสําคัญ คP-value = 0.002 0.000 ตามลําดับ '},\n",
       "   {'rank': 7,\n",
       "    'sentence': 'การดําเนินงานมี2 ขั้นตอนคือ 1 ศึกษาสถานการณ์สุขภาพสายตา'},\n",
       "   {'rank': 8,\n",
       "    'sentence': 'การพัฒนารูปแบบการเฝ้าระวังสุขภาพสายตาในกลุ่มลูกจ้างที่ใช้สายตาทํางานระยะใกล้ของสถานประกอบการจังหวัดสมุทรปราการนักวิจัยนางวันเพ็ญ พัชรตระกูล '},\n",
       "   {'rank': 9,\n",
       "    'sentence': 'และอัตราชุกของการเกิดความล้าสายตาลดลงหลังดําเนินการผลการวิเคราะห์ข้างต้น แสดงให้เห็นว่าสิ่งแวดล้อม'},\n",
       "   {'rank': 10,\n",
       "    'sentence': 'และปัจจัยที่มีผลต่อความล้าสายตา ใช้กลุ่มตัวอย่าง 472 คนจาก 7 โรงงาน เก็บข้อมูลด้วยแบบสัมภาษณ์ '}],\n",
       "  'published_year': '2009',\n",
       "  'keyword': 'ค่า,ตัว,ชนิด,จำนวน,กาล,พัฒนา,รัฐ,ระบบ,สร้าง,โรค,ข้อมูล,ฐาน,วิเคราะห์,ต้น,โรง,ขนาด,สภาพ,เครื่อง,ร้อย,รูปแบบ,กระบวน,รู้,ลักษณะ,ดํา,วัด,ตัวอย่าง,แสง,ส่วน,ลํา,ภาวะ,เรต,ควบคุม,แรง,ทุน,จํา,คุณภาพ,ปัจจัย,เดือน,วัตถุประสงค์,แนวทาง,ต่ำ,ต่าง,องค์กร,เหมาะสม,สํา,ดับ,แวดล้อม,จุด,อายุ,ศักยภาพ,สนับสนุน,เสริม,เนิน,บริการ,อาชีพ,ชิ้น,สุขภาพ,ขั้นตอน,อุตสาหกรรม,มาตรฐาน,อยู่,ปรับปรุง,ก่อ,กระทบ,วิชาการ,เพศ,ส่งเสริม,เปรียบเทียบ,ทํางาน,หน้า,ชั่วโมง,นัยสําคัญ,กล้อง,ดูแล,จัดการ,รอบ,ภัย,ป้องกัน,ปฏิบัติการ,สถานการณ์,แก้,ทั่วไป,ทักษะ,กําลัง,พื้นฐาน,ผูก,ประสาน,สมอง,ปลอด,ล้า,วัย,หญิง,จนท.,ซักถาม,มีนาคม,สถาน,สํานัก,สถิติ,ร่าง,จับ,ซ้ำ,จัดทํา,หยุด,สว่าง,พัก,สายตา,นักงาน,เชี่ยวชาญ',\n",
       "  'title': 'การพัฒนารูปแบบการเฝ้าระวังสุขภาพสายตาในกลุ่มลูกจ้างที่ใช้สายตาทำงานระยะใกล้ของสถานประกอบการในจังหวัดสมุทรปราการ',\n",
       "  'content': 'ขบทคัดย่อรหัสโครงการ RDG 4730008ชื่อโครงการ การพัฒนารูปแบบการเฝ้าระวังสุขภาพสายตาในกลุ่มลูกจ้างที่ใช้สายตาทํางานระยะใกล้ของสถานประกอบการจังหวัดสมุทรปราการนักวิจัยนางวันเพ็ญ พัชรตระกูล สํานักโรคจากการประกอบอาชีพและสิ่งแวดล้อม นางสาวอรพันธ์ อันติมานนท์ สํานักโรคจากการประกอบอาชีพและสิ่งแวดล้อม นางสาวลัดดา ธรรมการัณย์ สํานักโรคจากการประกอบอาชีพและสิ่งแวดล้อม นายโกวิทย์ บุญมีพงศ์ สํานักโรคจากการประกอบอาชีพและสิ่งแวดล้อม นายณัฐพงศ์ แหละหมัน สํานักโรคจากการประกอบอาชีพและสิ่งแวดล้อมE- mail address wanpenp@health.moph.go.thระยะเวลาโครงการตุลาคม 2546 – มีนาคม 2548ในกระบวนการผลิตชิ้นส่วนอิเลคโทรนิคส์และอุตสาหกรรมอัญมณีนั้น ลูกจ้างต้องใช้ทักษะสายตาอย่างมากในการมองชิ้นงานขนาดเล็ก 1-3 ม.ม. ที่อาจก่อให้เกิดความล้าสายตาและนําไปสู่ภาวะสายตาเสื่อมของสายตาก่อนวัยอันควร ซึ่งยังไม่มีผู้ใดศึกษามาก่อน แม้ขณะนี้ภาครัฐได้พยายามส่งเสริมการขยายตัวของอุตสาหกรรมทั้ง 2 ประเภท การวิจัยครั้งนี้มีวัตถุประสงค์เพื่อ หาแนวทางการบริหารจัดการสิ่งแวดล้อมและสุขภาพ โดยอาศัยการมีส่วนร่วมของสถานประกอบการเพื่อความเป็นรูปธรรมในการเฝ้าระวังสุขภาพสายตา โดยทุนสนับสนุนการวิจัยจากสํานักงานกองทุนสนับสนุนการวิจัยและกองทุนสนับสนุนการสร้างเสริมสุขภาพ การศึกษาครั้งนี้เป็นการวิจัยเชิงปฏิบัติการโดยใช้กระบวนการมีส่วนร่วม การดําเนินงานมี2 ขั้นตอนคือ 1 ศึกษาสถานการณ์สุขภาพสายตาและปัจจัยที่มีผลต่อความล้าสายตา ใช้กลุ่มตัวอย่าง 472 คนจาก 7 โรงงาน เก็บข้อมูลด้วยแบบสัมภาษณ์ เครื่องตรวจสมรรถภาพสายตา เครื่องวัดความล้าสายตา เครื่องวัดแสง และจัดทําร่างแนวทางในการบริหารจัดการสิ่งแวดล้อมและสุขภาพ 2 ทดลองใช้ร่างแนวทางในการบริหารจัดการสิ่งแวดล้อมและสุขภาพ และเก็บข้อมูลซ้ำหลังทดลอง 6 เดือน เพื่อเปรียบเทียบผลกับข้อมูลซึ่งเก็บในขั้นตอนแรก สถิติที่ใช้ได้แก่ร้อยละChi-squareMann Whitney Test  Wilcoxon Signed Ranks Test.ผลการศึกษา พบว่า กลุ่มตัวอย่างส่วนใหญ่เป็นเพศหญิง อายุน้อยกว่า 25 ปี ใช้ตาเปล่าและใช้กล้องกําลังขยาย 3-10 เท่าในการมองชิ้นงาน สมรรถภาพสายตาไม่เหมาะสมกับลักษณะงานถึงร้อยละ52.1 และจากการตรวจวัดแสงบริเวณหน้างาน 472 จุด พบว่าร้อยละ 48.3 ต่ำกว่ามาตรฐาน การเปรียบเทียบค่าเฉลี่ย CFF ที่ก่อนเข้าทํางาน หลังทํางาน 1 และ 2 ชั่วโมงมีความแตกต่างกันอย่างมีนัยสําคัญ คP-value = 0.002 0.000 ตามลําดับ ส่วนการเปรียบเทียบค่าเฉลี่ย CFF ระหว่างกลุ่มที่ได้รับแสงตามมาตรฐานและไม่ได้รับแสงตามมาตรฐาน พบว่ามีความแตกต่างกันอย่างมีนัยสําคัญ P-value = 0.000ผลของข้อมูลข้างต้นนํามาซึ่งการระดมสมองระหว่างลูกจ้าง เจ้าหน้าที่ความปลอดภัย ผู้วิจัย และผู้เชี่ยวชาญ เพื่อสร้างแนวทางการบริหารจัดการสิ่งแวดล้อมและสุขภาพ ซึ่งอยู่บนพื้นฐานของวิชาการและความเป็นไปได้ในการปฏิบัติ และทดลองปฏิบัติ6 เดือน จึงเข้าเก็บข้อมูลรอบสองผลการศึกษาเมื่อเปรียบเทียบกับข้อมูลครั้งแรกพบว่ามีการเปลี่ยนแปลงทั้งในด้านสิ่งแวดล้อม และสุขภาพ อาทิการปรับปรุงแสงสว่างบริเวณหน้างาน การหยุดพักสายตาระหว่างการทํางาน การให้ความรู้ในด้านการดูแลสุขภาพตนเองในส่วนที่เกี่ยวข้องกับการทํางานนอกเหนือการดูแลสุขภาพทั่วไป ลูกจ้างได้รับการปรับแก้สายตาให้เหมาะกับการทํางานระยะใกล้  eye correct  ร้อยละ 12 และอัตราชุกของการเกิดความล้าสายตาลดลงหลังดําเนินการผลการวิเคราะห์ข้างต้น แสดงให้เห็นว่าสิ่งแวดล้อมและสภาวะการทํางานมีผลต่อความล้าสายตาการหยุดพักสายตาเป็นระยะระหว่างการทํางาน การตรวจสมรรถภาพสายตาลูกจ้างก่อนรับเข้าทํางานและปรับแก้ไขการมองเห็นให้เหมาะสมกับลักษณะงาน การบริหารจัดการด้านสิ่งแวดล้อม การให้ความรู้แก่ลูกจ้าง จําเป็นต้องดําเนินการให้เป็นรูปธรรม นอกจากนี้จะเห็นได้ว่าการพัฒนาการมีส่วนร่วมของลูกจ้าง การพัฒนาแกนนํา การประสานงานทั้งนอกและในองค์กร จะนํามาซึ่งศักยภาพของสถานประกอบการในการดําเนินงานเฝ้าระวังสุขภาพสายตา ทั้งนี้โดยมีองค์กรภาครัฐให้การสนับสนุนด้านวิชาการ การควบคุมคุณภาพการบริการจากผลการศึกษาพบว่าทุกกระบวนการผลิตจําเป็นต้องใช้สายตา จึงควรมีการศึกษาถึงผลกระทบต่อสายตาระยะยาวในการต้องสัมผัสแสงสว่างที่มีความเข้มมากกว่า1000 ลักซ์ ระยะเวลาที่เหมาะสมในการพักสายตาแต่ละครั้ง เพื่อลดความเมื่อยล้าและป้องกันภาวะสายตาเสื่อมก่อนวัยอันควร แนวทางการดูแลสุขภาพสายตาระยะใกล้ในกลุ่มแรงงานนอกระบบ รวมทั้งการศึกษาในเชิงเศรษฐศาสตร์เพื่อเชื่อมโยงให้เห็นความจําเป็นของการดูแลสุขภาพสายตาลูกจ้าง กับคุณภาพ และปริมาณของผลผลิตของสถานประกอบการKey word : การเฝ้าระวังสุขภาพสายตา สมรรถภาพสายตา ความล้าสายตา กระบวนการมีส่วนร่วมของสถานประกอบการ อิเลคโทรนิคส์ อัญมณี งAbstractIn the processes of electronics and jewelry factories workers are employed to use their skill intiny visual tasks 1-3 mm that cause visual strain leading to early visual deterioration. Nowadays thereis no study concerning health effect of workers especially vision even though government has tried tosupport these kinds of factory. This study is to develop practical guidelines for health andenvironment management through participation of factory personnel. For financial support the study issupported by Thai Health Promotion Foundation and Thailand Research Fund. The researchers usedparticipatory action process by implementing into 2 stages: 1 study of visual health situation ofthose workers and factors affecting their visual strain. Subjects were sampled to be 472 workers from 7factories. Data collection was carried out by using interview questionnaire Titmus vision tester digitalflicker value tester and lux meter. Then guidelines for health and environment management weredrafted. 2 The drafted guidelines were tried in the selected factories and data collection was repeatedto compare with the first collected data. Finally practical guidelines were completed. Data wereanalyzed by using statistics namely percentage Chi square Mann Whitney Test and Wilcoxon SignedRanks Test.Results: Most sampled workers were females aged less than 25 years. Workers have to use 10xmagnified lens to gaze at visual task. It was found out that 52% of workers had vision not appropriateto work. According to illumination measurement in 472 areas 48.3% of those areas were found lowerthan standard. The average of CFF was found to be significantly different after 1-hour work and 2-hour work compared to that of before work p-value = 0.002 0.000 . The study also showedsignificant difference of CFF among the workers who worked in standard and understandardillumination in workplaces p-value = 0.000. These results necessitate a workshop for brainstormingamong workers safety officer  researcher and experts in drafting practical guidelines for health andenvironment management. The guidelines were applied in the factories for 6 months until datacollection were repeated.After the guidelines were applied in the factories health and environmental conditions wereinvestigated to show their improvement. Interventions of the factories in the project were as follows:improvement of lighting condition at visual task taking a rest break after 2-hour work health educationrelevant to work and eye correction for a near visual task among 12% of workers. Prevalence of จvisual strain was found to decrease after the interventions. The results in the study show that workingenvironment and conditions could affect visual strain among the workers. Therefore taking a rest breakduring work implementing vision test together with eye correction appropriate to work andimprovement of working environment should be managed properly in factories. Participation ofworkers developing the peer leaders and coordination among them will be the capacitybuilding of the factories in visual surveillance. The government especially health sectors shouldsupport knowledge and control the quality of services.Due to the fact that all processes in factories require visual tasks this study recommends longterm visual impact assessment among workers who are exposed to illumination level higher than 1000lux. Moreover appropriate work duration and rest time in each working day should be studied toprevent visual strain and early visual deterioration. A study on improvement of quantity and quality ofperformance related to visual health cares of workers in the factories should be considered in a viewpoint of economics.Key word : visual surveillance visual strain  eye strain  visual discomfort asthenopia participatory action process visual ability  electronics  jewelry',\n",
       "  'word': 'จัดทํา,นัยสําคัญ,รู้,สนับสนุน,ขั้นตอน,สายตาการ,สถิติ,กระทบ,ตัวอย่าง,เสริม,มาตรฐาน,กําลัง,จำนวน,ทั่วไป,จัดการ,สถานการณ์,เสื่อม,กล้อง,เมื่อย,หมัน,ลักซ์,หญิง,ตรวจสมรรถภาพ,เปรียบเทียบ,โรง,วัตถุประสงค์,อัญมณี,ทํางาน,ต่าง,เฝ้า,วิเคราะห์,ปัจจัย,สถาน,วิชาการ,รูปธรรม,ภัย,สว่าง,ป้องกัน,เพศ,นักงาน,ทักษะ,มีนาคม,ภาวะ,สภาพ,อิเลคโทรนิคส์,เนิน,พัก,บริการ,ชิ้น,เรต,อยู่,ส่วน,แสง,ค่า,เดือน,ต้นนํา,ส่งเสริม,ล้า,อันติมานนท์,ทุน,ขนาด,เหมาะสม,รูปแบบ,ตัว,ระวังสุขภาพ,เงินทุน,ต่ำ,นางสาวลัดดา,อาทิการ,พัฒนา,ปฏิบัติการ,ก่อ,รัฐ,ระดม,ระบบ,ศักยภาพ,ต.ค.,คุณภาพ,หยุด,ซักถาม,อาชีพ,เชี่ยวชาญ,สมอง,สนับสนุนการวิจัย,สุขภาพ,ปรับปรุง,สร้าง,ร้อย,แก้,สมรรถภาพ,อายุ,แกนนํา,แรง,สํานัก,ข้อมูล,หน้า,โรค,องค์กร,วัย,ซ้ำ,กองทุนสนับสนุนการ,ดํา,ฐาน,เครื่อง,สายตา,จุด,ปลอด,พนง.,ชนิด,อุตสาหกรรม,เปล่า,กระบวน,ลักษณะ,ชั่วโมง,เศรษฐศาสตร์,ประสาน,วัด,ชุก,รอบ,จังหวัดสมุทรปราการ,ลํา,แวดล้อม,แนวทาง,ต้น,จนท.,ร่าง,พื้นฐาน,สํา,จํา,จับ,ดูแล,ควบคุม,กาล,ผูก,ดับ,เหมาะ'},\n",
       " {'project_id': 'RDG4720034',\n",
       "  'doc_id': '9',\n",
       "  'sentence_importance': [{'rank': 1,\n",
       "    'sentence': 'ข้อกําหนดมาตรฐานโรงงานแปรรูปสุกรปลอดโรคปาก'},\n",
       "   {'rank': 2,\n",
       "    'sentence': 'โดยนําเอาข้อกําหนดดังกล่าวไปประเมินในฟาร์มที่ศักยภาพในการส่งออกจํานวน 6 แห่ง โรงฆ่า'},\n",
       "   {'rank': 3,\n",
       "    'sentence': 'คําสําคัญ: โรคปากและเท้าเปื่อย ระบบประกันคุณภาพ การประเมิน โครงการการพัฒนาระบบการจัดการ'},\n",
       "   {'rank': 4, 'sentence': 'ข้อกําหนดมาตรฐานโรงชําแหละสุกรปลอดโรคปาก'},\n",
       "   {'rank': 5, 'sentence': 'คือ ข้อกําหนดมาตรฐานการจัดการฟาร์มปลอดโรคปาก'},\n",
       "   {'rank': 6,\n",
       "    'sentence': 'เพื่อทําการประเมินตนเองจํานวน 4 ข้อกําหนดและ 1 ระบบ '},\n",
       "   {'rank': 7, 'sentence': 'และประกันคุณภาพการปลอดเชื้อไวรัสโรคปาก'},\n",
       "   {'rank': 8,\n",
       "    'sentence': 'โดยกลุ่มบุคคลที่เกี่ยวข้อง ได้แก่ ฟาร์ม โรงฆ่าชําแหละ โรงงานแปรรูป '},\n",
       "   {'rank': 9, 'sentence': 'ข้อกําหนดมาตรฐานระบบขนส่ง '},\n",
       "   {'rank': 10,\n",
       "    'sentence': 'และการแปรรูปสุกรเพื่อเป็นการรับรองความปลอดภัยอาหารตลอดขั้นตอนการผลิตผลิตภัณฑ์สุกร '}],\n",
       "  'published_year': '2009',\n",
       "  'keyword': 'พัฒนา,ระบบ,เชื้อ,โรค,อาหาร,ต้น,โรง,สินค้า,สําคัญ,ทําการ,คํา,รูป,จํานวน,ข้อ,ไวรัส,คุณภาพ,วัตถุประสงค์,สัตว์,กํา,ศักยภาพ,ประเมิน,ขั้นตอน,อุตสาหกรรม,มาตรฐาน,แปร,ปรับปรุง,ดร.,หมู,หนด,ปาก,ภัย,ฟาร์ม,ขนส่ง,ปลอด,โฆษณา,ประกัน,ตีน,ชํา,ฆ่า',\n",
       "  'title': 'การพัฒนาระบบการจัดการและประกันคุณภาพการปลอดเชื้อไวรัสโรคปากและเท้าเปื่อยตลอดขั้นตอนการผลิตผลิตภัณฑ์สุกร',\n",
       "  'content': 'โครงการการพัฒนาระบบการจัดการและประกันคุณภาพการปลอดเชื้อไวรัสโรคปากและเท้าเปื่อยตลอด ขั้นตอนการผลิตผลิตภัณฑ์สุกร ก บทคัดย่อ วัตถุประสงค์ของการวิจัยนี้ เพื่อพัฒนาระบบการจัดการและประกันคุณภาพการปลอดเชี้อไวรัสโรคปากและเท้าเปื่อยตลอดขั้นตอนการผลิตผลิตภัณฑ์สุกร โดยได้ทําการเขียนข้อกําหนดเพื่อทําการประเมินตนเองจํานวน 4 ข้อกําหนดและ 1 ระบบ คือ ข้อกําหนดมาตรฐานการจัดการฟาร์มปลอดโรคปากและเท้าเปื่อยมาตรฐาน ข้อกําหนดมาตรฐานโรงชําแหละสุกรปลอดโรคปากและเท้าเปื่อย ข้อกําหนดมาตรฐานโรงงานแปรรูปสุกรปลอดโรคปากและเท้าเปื่อย ข้อกําหนดมาตรฐานระบบขนส่ง และระบบการสอบกลับตลอดทั้งอุตสาหกรรมการผลิตสุกรและการแปรรูปสุกรเพื่อเป็นการรับรองความปลอดภัยอาหารตลอดขั้นตอนการผลิตผลิตภัณฑ์สุกร โดยนําเอาข้อกําหนดดังกล่าวไปประเมินในฟาร์มที่ศักยภาพในการส่งออกจํานวน 6 แห่ง โรงฆ่าและโรงแปรรูปสุกรจํานวนอย่างละ 2 แห่ง จากนั้นได้นํามาแก้ไขและปรับปรุง และจัดทําประชาพิจารณ์ระบบต้นแบบ โดยกลุ่มบุคคลที่เกี่ยวข้อง ได้แก่ ฟาร์ม โรงฆ่าชําแหละ โรงงานแปรรูป รวมทั้งได้ทําการเผยแพร่และให้มีการทดลองนําไปใช้ในฟาร์มโดยสัตว์แพทย์ควบคุมฟาร์มด้วย คําสําคัญ: โรคปากและเท้าเปื่อย ระบบประกันคุณภาพ การประเมิน โครงการการพัฒนาระบบการจัดการและประกันคุณภาพการปลอดเชื้อไวรัสโรคปากและเท้าเปื่อยตลอด ขั้นตอนการผลิตผลิตภัณฑ์สุกร ข Abstract The objective of this research is to develop standard codes for pig production management system and quality assurance program in pork supply chain with respect to foot-and-mouth disease. To achieve the objective the free foot-and mouth disease standard requirement criteria of pig farm management pig abattoir pork processing plant and traceability on pork supply chain were developed. The pilot standard requirement criteria was administered on 6 pig farms and 2 pig abattoirs and 2 pork processing plants in order to test and refine the standard codes. In addition public hearing among stakeholders from pig farms pig abattoirs pork processing plants including veterinarians and government officers was held to improve and refine the standard codes. At present the free foot-and-mouth disease standard for pig farm management was distributed to swine practitioner for pretest and evaluation. Keywords: Foot and Mouth Disease Quality assurance program Evalutation',\n",
       "  'word': 'พัฒนา,สอบ,ระบบ,อุตสาหกรรม,คํา,ศักยภาพ,แปร,คุณภาพ,ปาก,ชํา,ภัย,จัดทําประชาพิจารณ์,ฟาร์ม,ขั้นตอน,ควบคุมฟาร์ม,ทําการ,เชื้อ,โดยนํา,รูป,มาตรฐาน,จํานวน,ประกัน,ปรับปรุง,ขนส่ง,ข้อกําหนด,เชี้อ,ไวรัส,ตีน,สัตว์,ฆ่า,ต้น,เปื่อย,ดร.,สินค้า,โรค,แหละสุกรปลอด,ข้อ,หนด,สําคัญ,หมู,ข้อกํา,อาหาร,โรง,วัตถุประสงค์,กํา,สุกรปลอด,ปลอด,โฆษณา,ประเมิน'}]"
      ]
     },
     "execution_count": 21,
     "metadata": {},
     "output_type": "execute_result"
    }
   ],
   "source": [
    "data[:10]"
   ]
  },
  {
   "cell_type": "code",
   "execution_count": 22,
   "metadata": {},
   "outputs": [
    {
     "data": {
      "application/vnd.jupyter.widget-view+json": {
       "model_id": "83f63bbba9cf46398017d09b9eadf7f1",
       "version_major": 2,
       "version_minor": 0
      },
      "text/plain": [
       "HBox(children=(FloatProgress(value=0.0, description='file', max=6.0, style=ProgressStyle(description_width='in…"
      ]
     },
     "metadata": {},
     "output_type": "display_data"
    },
    {
     "data": {
      "application/vnd.jupyter.widget-view+json": {
       "model_id": "66f77eafef0745d295a398b4a58d5c74",
       "version_major": 2,
       "version_minor": 0
      },
      "text/plain": [
       "HBox(children=(FloatProgress(value=0.0, description='sheet:0-10', max=10.0, style=ProgressStyle(description_wi…"
      ]
     },
     "metadata": {},
     "output_type": "display_data"
    },
    {
     "name": "stdout",
     "output_type": "stream",
     "text": [
      "\n"
     ]
    },
    {
     "data": {
      "application/vnd.jupyter.widget-view+json": {
       "model_id": "26cf5a17cebb4aaca4803f108031464e",
       "version_major": 2,
       "version_minor": 0
      },
      "text/plain": [
       "HBox(children=(FloatProgress(value=0.0, description='sheet:10-20', max=10.0, style=ProgressStyle(description_w…"
      ]
     },
     "metadata": {},
     "output_type": "display_data"
    },
    {
     "name": "stdout",
     "output_type": "stream",
     "text": [
      "\n"
     ]
    },
    {
     "data": {
      "application/vnd.jupyter.widget-view+json": {
       "model_id": "b20b5eff9ec84403b16a6e3bef7ca8e7",
       "version_major": 2,
       "version_minor": 0
      },
      "text/plain": [
       "HBox(children=(FloatProgress(value=0.0, description='sheet:20-30', max=10.0, style=ProgressStyle(description_w…"
      ]
     },
     "metadata": {},
     "output_type": "display_data"
    },
    {
     "name": "stdout",
     "output_type": "stream",
     "text": [
      "\n"
     ]
    },
    {
     "data": {
      "application/vnd.jupyter.widget-view+json": {
       "model_id": "495a04dfd5c74881af6045f740e3e46d",
       "version_major": 2,
       "version_minor": 0
      },
      "text/plain": [
       "HBox(children=(FloatProgress(value=0.0, description='sheet:30-40', max=10.0, style=ProgressStyle(description_w…"
      ]
     },
     "metadata": {},
     "output_type": "display_data"
    },
    {
     "name": "stdout",
     "output_type": "stream",
     "text": [
      "\n"
     ]
    },
    {
     "data": {
      "application/vnd.jupyter.widget-view+json": {
       "model_id": "4a346e0c47b94ffc82f49ce6cf2f2bfb",
       "version_major": 2,
       "version_minor": 0
      },
      "text/plain": [
       "HBox(children=(FloatProgress(value=0.0, description='sheet:40-50', max=10.0, style=ProgressStyle(description_w…"
      ]
     },
     "metadata": {},
     "output_type": "display_data"
    },
    {
     "name": "stdout",
     "output_type": "stream",
     "text": [
      "\n"
     ]
    },
    {
     "data": {
      "application/vnd.jupyter.widget-view+json": {
       "model_id": "05ceccbe65e348e7a850337bc094976d",
       "version_major": 2,
       "version_minor": 0
      },
      "text/plain": [
       "HBox(children=(FloatProgress(value=0.0, description='sheet:50-52', max=2.0, style=ProgressStyle(description_wi…"
      ]
     },
     "metadata": {},
     "output_type": "display_data"
    },
    {
     "name": "stdout",
     "output_type": "stream",
     "text": [
      "\n",
      "\n"
     ]
    }
   ],
   "source": [
    "import pandas as pd\n",
    "import math\n",
    "import time\n",
    "from tqdm.notebook import tqdm\n",
    "keys=['doc_id','project_id','title','published_year','content',]\n",
    "m=len(data)\n",
    "item_per_sheet=100\n",
    "sheet_per_file=10\n",
    "num_sheet=math.ceil(m/item_per_sheet)\n",
    "num_file=math.ceil(num_sheet/sheet_per_file)\n",
    "content = {}\n",
    "for k in tqdm(range(num_file),'file'):\n",
    "    file='content%02d.xlsx'%(k)\n",
    "    with pd.ExcelWriter(file, engine='openpyxl', encoding=encoding) as writer:\n",
    "        start_sheet=k*sheet_per_file\n",
    "        stop_sheet=min( (k+1)*sheet_per_file, num_sheet)\n",
    "        for j in tqdm(range(start_sheet,stop_sheet),'sheet:%d-%d'%(start_sheet,stop_sheet)):\n",
    "            start_item=j*item_per_sheet\n",
    "            stop_item=min((j+1)*item_per_sheet,m)\n",
    "            for i in keys:        \n",
    "                content[i]=list(map(lambda x: x[i],data[start_item:stop_item]))\n",
    "            df=pd.DataFrame(content)\n",
    "            df['eng_abstract']=''\n",
    "            df['thai_abstract']=''\n",
    "            df.to_excel(writer, sheet_name='Sheet1'+'%d'%(j))"
   ]
  },
  {
   "cell_type": "code",
   "execution_count": null,
   "metadata": {},
   "outputs": [],
   "source": []
  },
  {
   "cell_type": "code",
   "execution_count": null,
   "metadata": {},
   "outputs": [],
   "source": []
  }
 ],
 "metadata": {
  "kernelspec": {
   "display_name": "Python 3",
   "language": "python",
   "name": "python3"
  },
  "language_info": {
   "codemirror_mode": {
    "name": "ipython",
    "version": 3
   },
   "file_extension": ".py",
   "mimetype": "text/x-python",
   "name": "python",
   "nbconvert_exporter": "python",
   "pygments_lexer": "ipython3",
   "version": "3.6.7"
  }
 },
 "nbformat": 4,
 "nbformat_minor": 2
}
