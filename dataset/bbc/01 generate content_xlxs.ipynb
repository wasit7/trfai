{
 "cells": [
  {
   "cell_type": "markdown",
   "metadata": {},
   "source": [
    "dataset http://mlg.ucd.ie/datasets/bbc.html"
   ]
  },
  {
   "cell_type": "code",
   "execution_count": 1,
   "metadata": {},
   "outputs": [
    {
     "data": {
      "application/vnd.jupyter.widget-view+json": {
       "model_id": "ae10477435dd4fd78cd76ba780120235",
       "version_major": 2,
       "version_minor": 0
      },
      "text/plain": [
       "HBox(children=(FloatProgress(value=0.0, description='dirs', max=5.0, style=ProgressStyle(description_width='in…"
      ]
     },
     "metadata": {},
     "output_type": "display_data"
    },
    {
     "name": "stdout",
     "output_type": "stream",
     "text": [
      "sport\n",
      "couldn't read the file data/sport/199.txt\n",
      "business\n",
      "entertainment\n",
      "politics\n",
      "tech\n",
      "\n"
     ]
    }
   ],
   "source": [
    "import glob\n",
    "import pandas as pd\n",
    "from summa import summarizer\n",
    "from summa import keywords\n",
    "from tqdm.notebook import tqdm\n",
    "    \n",
    "path = 'data/'\n",
    "dirs = [f for f in glob.glob(path + \"*/\", recursive=True)]\n",
    "with pd.ExcelWriter('content.xlsx') as writer:  # doctest: +SKIP\n",
    "    for d in tqdm(dirs, desc=\"dirs\"):\n",
    "        files = [f for f in glob.glob(d + \"*.txt\", recursive=True)]\n",
    "        content=[]\n",
    "        sheetname=d.split(\"/\")[-2]\n",
    "        print(sheetname)\n",
    "        for file in files:\n",
    "            #print(file)\n",
    "            try:\n",
    "                with open(file) as f:\n",
    "                    title=f.readline()\n",
    "                    text=f.read()\n",
    "                    content.append({\n",
    "                        'doc_id':file,\n",
    "                        'tile':title[:-1],\n",
    "                        'text':text[1:]\n",
    "                    })\n",
    "            except:\n",
    "                print(\"couldn't read the file\", file)\n",
    "        df=pd.DataFrame(content)\n",
    "        df.to_excel(writer,sheet_name=sheetname)"
   ]
  },
  {
   "cell_type": "code",
   "execution_count": 2,
   "metadata": {},
   "outputs": [
    {
     "data": {
      "text/html": [
       "<div>\n",
       "<style scoped>\n",
       "    .dataframe tbody tr th:only-of-type {\n",
       "        vertical-align: middle;\n",
       "    }\n",
       "\n",
       "    .dataframe tbody tr th {\n",
       "        vertical-align: top;\n",
       "    }\n",
       "\n",
       "    .dataframe thead th {\n",
       "        text-align: right;\n",
       "    }\n",
       "</style>\n",
       "<table border=\"1\" class=\"dataframe\">\n",
       "  <thead>\n",
       "    <tr style=\"text-align: right;\">\n",
       "      <th></th>\n",
       "      <th>doc_id</th>\n",
       "      <th>tile</th>\n",
       "      <th>text</th>\n",
       "    </tr>\n",
       "  </thead>\n",
       "  <tbody>\n",
       "    <tr>\n",
       "      <th>0</th>\n",
       "      <td>data/tech/287.txt</td>\n",
       "      <td>Text message record smashed</td>\n",
       "      <td>UK mobile owners continue to break records wit...</td>\n",
       "    </tr>\n",
       "    <tr>\n",
       "      <th>1</th>\n",
       "      <td>data/tech/253.txt</td>\n",
       "      <td>Fast lifts rise into record books</td>\n",
       "      <td>Two high-speed lifts at the world's tallest bu...</td>\n",
       "    </tr>\n",
       "    <tr>\n",
       "      <th>2</th>\n",
       "      <td>data/tech/012.txt</td>\n",
       "      <td>IBM puts cash behind Linux push</td>\n",
       "      <td>IBM is spending $100m (£52m) over the next thr...</td>\n",
       "    </tr>\n",
       "    <tr>\n",
       "      <th>3</th>\n",
       "      <td>data/tech/232.txt</td>\n",
       "      <td>BBC web search aids odd queries</td>\n",
       "      <td>The BBC's online search engine was used a reco...</td>\n",
       "    </tr>\n",
       "    <tr>\n",
       "      <th>4</th>\n",
       "      <td>data/tech/202.txt</td>\n",
       "      <td>Remote control rifle range debuts</td>\n",
       "      <td>Soon you could go hunting via the net.\\n\\nA Te...</td>\n",
       "    </tr>\n",
       "    <tr>\n",
       "      <th>...</th>\n",
       "      <td>...</td>\n",
       "      <td>...</td>\n",
       "      <td>...</td>\n",
       "    </tr>\n",
       "    <tr>\n",
       "      <th>396</th>\n",
       "      <td>data/tech/091.txt</td>\n",
       "      <td>Movie body targets children's PCs</td>\n",
       "      <td>The body that represents the US movie industry...</td>\n",
       "    </tr>\n",
       "    <tr>\n",
       "      <th>397</th>\n",
       "      <td>data/tech/200.txt</td>\n",
       "      <td>Computer grid to help the world</td>\n",
       "      <td>Your computer can now help solve the world's m...</td>\n",
       "    </tr>\n",
       "    <tr>\n",
       "      <th>398</th>\n",
       "      <td>data/tech/173.txt</td>\n",
       "      <td>Supercomputer breaks speed record</td>\n",
       "      <td>The US is poised to push Japan off the top of ...</td>\n",
       "    </tr>\n",
       "    <tr>\n",
       "      <th>399</th>\n",
       "      <td>data/tech/393.txt</td>\n",
       "      <td>Savvy searchers fail to spot ads</td>\n",
       "      <td>Internet search engine users are an odd mix of...</td>\n",
       "    </tr>\n",
       "    <tr>\n",
       "      <th>400</th>\n",
       "      <td>data/tech/279.txt</td>\n",
       "      <td>Speak easy plan for media players</td>\n",
       "      <td>Music and film fans will be able to control th...</td>\n",
       "    </tr>\n",
       "  </tbody>\n",
       "</table>\n",
       "<p>401 rows × 3 columns</p>\n",
       "</div>"
      ],
      "text/plain": [
       "                doc_id                               tile  \\\n",
       "0    data/tech/287.txt        Text message record smashed   \n",
       "1    data/tech/253.txt  Fast lifts rise into record books   \n",
       "2    data/tech/012.txt    IBM puts cash behind Linux push   \n",
       "3    data/tech/232.txt    BBC web search aids odd queries   \n",
       "4    data/tech/202.txt  Remote control rifle range debuts   \n",
       "..                 ...                                ...   \n",
       "396  data/tech/091.txt  Movie body targets children's PCs   \n",
       "397  data/tech/200.txt    Computer grid to help the world   \n",
       "398  data/tech/173.txt  Supercomputer breaks speed record   \n",
       "399  data/tech/393.txt   Savvy searchers fail to spot ads   \n",
       "400  data/tech/279.txt  Speak easy plan for media players   \n",
       "\n",
       "                                                  text  \n",
       "0    UK mobile owners continue to break records wit...  \n",
       "1    Two high-speed lifts at the world's tallest bu...  \n",
       "2    IBM is spending $100m (£52m) over the next thr...  \n",
       "3    The BBC's online search engine was used a reco...  \n",
       "4    Soon you could go hunting via the net.\\n\\nA Te...  \n",
       "..                                                 ...  \n",
       "396  The body that represents the US movie industry...  \n",
       "397  Your computer can now help solve the world's m...  \n",
       "398  The US is poised to push Japan off the top of ...  \n",
       "399  Internet search engine users are an odd mix of...  \n",
       "400  Music and film fans will be able to control th...  \n",
       "\n",
       "[401 rows x 3 columns]"
      ]
     },
     "execution_count": 2,
     "metadata": {},
     "output_type": "execute_result"
    }
   ],
   "source": [
    "df"
   ]
  },
  {
   "cell_type": "code",
   "execution_count": null,
   "metadata": {},
   "outputs": [],
   "source": []
  },
  {
   "cell_type": "code",
   "execution_count": null,
   "metadata": {},
   "outputs": [],
   "source": []
  }
 ],
 "metadata": {
  "kernelspec": {
   "display_name": "Python 3",
   "language": "python",
   "name": "python3"
  },
  "language_info": {
   "codemirror_mode": {
    "name": "ipython",
    "version": 3
   },
   "file_extension": ".py",
   "mimetype": "text/x-python",
   "name": "python",
   "nbconvert_exporter": "python",
   "pygments_lexer": "ipython3",
   "version": "3.6.7"
  }
 },
 "nbformat": 4,
 "nbformat_minor": 2
}
