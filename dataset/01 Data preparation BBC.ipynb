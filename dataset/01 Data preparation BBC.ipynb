{
 "cells": [
  {
   "cell_type": "markdown",
   "metadata": {},
   "source": [
    "dataset http://mlg.ucd.ie/datasets/bbc.html"
   ]
  },
  {
   "cell_type": "code",
   "execution_count": 1,
   "metadata": {},
   "outputs": [
    {
     "data": {
      "application/vnd.jupyter.widget-view+json": {
       "model_id": "efc7b8c5177447778fb3a226114297c8",
       "version_major": 2,
       "version_minor": 0
      },
      "text/plain": [
       "HBox(children=(FloatProgress(value=0.0, description='files', max=2225.0, style=ProgressStyle(description_width…"
      ]
     },
     "metadata": {},
     "output_type": "display_data"
    },
    {
     "name": "stdout",
     "output_type": "stream",
     "text": [
      "couldn't read the file ./bbc/sport/199.txt\n",
      "\n"
     ]
    }
   ],
   "source": [
    "import glob\n",
    "path = './bbc/'\n",
    "files = [f for f in glob.glob(path + \"**/*.txt\", recursive=True)]\n",
    "\n",
    "from summa import summarizer\n",
    "from summa import keywords\n",
    "from tqdm.notebook import tqdm\n",
    "\n",
    "content=[]\n",
    "for file in tqdm(files, desc=\"files\"):\n",
    "    #print(file)\n",
    "    try:\n",
    "        with open(file) as f:\n",
    "            text=f.read()\n",
    "            content.append({\n",
    "                'content':text,\n",
    "                'keywords':keywords.keywords(text,words=20,split=True),\n",
    "                'summarization':summarizer.summarize(text)\n",
    "            })\n",
    "    except:\n",
    "        print(\"couldn't read the file\", file)\n",
    "        "
   ]
  },
  {
   "cell_type": "code",
   "execution_count": 2,
   "metadata": {},
   "outputs": [],
   "source": [
    "import json\n",
    "with open('content.json', 'w') as fp:\n",
    "    json.dump(content, fp)"
   ]
  },
  {
   "cell_type": "code",
   "execution_count": 3,
   "metadata": {},
   "outputs": [],
   "source": [
    "with open('content.json', 'r') as fp:\n",
    "    content = json.load(fp)"
   ]
  },
  {
   "cell_type": "code",
   "execution_count": 8,
   "metadata": {},
   "outputs": [
    {
     "data": {
      "text/plain": [
       "{'content': 'Savvy searchers fail to spot ads\\n\\nInternet search engine users are an odd mix of naive and sophisticated, suggests a report into search habits.\\n\\nThe report by the US Pew Research Center reveals that 87% of searchers usually find what they were looking for when using a search engine. It also shows that few can spot the difference between paid-for results and organic ones. The report reveals that 84% of net users say they regularly use Google, Ask Jeeves, MSN and Yahoo when online.\\n\\nAlmost 50% of those questioned said they would trust search engines much less, if they knew information about who paid for results was being hidden. According to figures gathered by the Pew researchers the average users spends about 43 minutes per month carrying out 34 separate searches and looks at 1.9 webpages for each hunt. A significant chunk of net users, 36%, carry out a search at least weekly and 29% of those asked only look every few weeks. For 44% of those questioned, the information they are looking for is critical to what they are doing and is information they simply have to find.\\n\\nSearch engine users also tend to be very loyal and once they have found a site they feel they can trust tend to stick with it. According to Pew Research 44% of searchers use just a single search engine, 48% use two or three and a small number, 7%, consult more than three sites. Tony Macklin, spokesman for Ask Jeeves, said the results reflected its own research which showed that people use different search engines because the way the sites gather information means they can provide different results for the same query. Despite this liking for search sites half of those questioned said they could get the same information via other routes. A small number, 17%, said they wouldn\\'t really miss search engines if they did not exist. The remaining 33% said they could not live without search sites. More than two-thirds of those questioned, 68%, said they thought that the results they were presented with were a fair and unbiased selection of the information on a topic that can be found on the net. Alongside the growing sophistication of net users is a lack of awareness about paid-for results that many search engines provide alongside lists of websites found by indexing the web. Of those asked, 62% were unaware that someone has paid for some of the results they see when they carry out a search. Only 18% of all searchers say they can tell which results are paid for and which are not. Said the Pew report: \"This finding is ironic, since nearly half of all users say they would stop using search engines if they thought engines were not being clear about how they presented paid results.\" Commenting Mr Macklin said sponsored results must be clearly marked and though they might help with some queries user testing showed that people need to be able to spot the difference.\\n',\n",
       " 'keywords': ['searches',\n",
       "  'user',\n",
       "  'search engine users',\n",
       "  'said',\n",
       "  'use',\n",
       "  'searchers',\n",
       "  'results',\n",
       "  'engines',\n",
       "  'site',\n",
       "  'sites',\n",
       "  'macklin',\n",
       "  'information',\n",
       "  'difference',\n",
       "  'different',\n",
       "  'number',\n",
       "  'sophisticated',\n",
       "  'sophistication',\n",
       "  'gathered',\n",
       "  'gather',\n",
       "  'jeeves',\n",
       "  'alongside',\n",
       "  'provide',\n",
       "  'ads',\n",
       "  'significant chunk'],\n",
       " 'summarization': 'Almost 50% of those questioned said they would trust search engines much less, if they knew information about who paid for results was being hidden.\\nTony Macklin, spokesman for Ask Jeeves, said the results reflected its own research which showed that people use different search engines because the way the sites gather information means they can provide different results for the same query.\\nAlongside the growing sophistication of net users is a lack of awareness about paid-for results that many search engines provide alongside lists of websites found by indexing the web.\\nSaid the Pew report: \"This finding is ironic, since nearly half of all users say they would stop using search engines if they thought engines were not being clear about how they presented paid results.\" Commenting Mr Macklin said sponsored results must be clearly marked and though they might help with some queries user testing showed that people need to be able to spot the difference.'}"
      ]
     },
     "execution_count": 8,
     "metadata": {},
     "output_type": "execute_result"
    }
   ],
   "source": [
    "content[-2]"
   ]
  },
  {
   "cell_type": "code",
   "execution_count": null,
   "metadata": {},
   "outputs": [],
   "source": []
  }
 ],
 "metadata": {
  "kernelspec": {
   "display_name": "Python 3",
   "language": "python",
   "name": "python3"
  },
  "language_info": {
   "codemirror_mode": {
    "name": "ipython",
    "version": 3
   },
   "file_extension": ".py",
   "mimetype": "text/x-python",
   "name": "python",
   "nbconvert_exporter": "python",
   "pygments_lexer": "ipython3",
   "version": "3.6.7"
  }
 },
 "nbformat": 4,
 "nbformat_minor": 2
}
