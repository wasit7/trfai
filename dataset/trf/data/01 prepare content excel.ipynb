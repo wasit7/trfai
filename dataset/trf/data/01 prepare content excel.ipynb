{
 "cells": [
  {
   "cell_type": "markdown",
   "metadata": {},
   "source": [
    "dataset http://mlg.ucd.ie/datasets/bbc.html"
   ]
  },
  {
   "cell_type": "code",
   "execution_count": 17,
   "metadata": {},
   "outputs": [
    {
     "data": {
      "application/vnd.jupyter.widget-view+json": {
       "model_id": "e7500e9c9e2648488b29dbc717b58913",
       "version_major": 2,
       "version_minor": 0
      },
      "text/plain": [
       "HBox(children=(FloatProgress(value=0.0, description='files', max=2225.0, style=ProgressStyle(description_width…"
      ]
     },
     "metadata": {},
     "output_type": "display_data"
    },
    {
     "name": "stdout",
     "output_type": "stream",
     "text": [
      "couldn't read the file sport/199.txt\n",
      "\n"
     ]
    }
   ],
   "source": [
    "import glob\n",
    "path = 'data/'\n",
    "files = [f for f in glob.glob(path + \"**/*.txt\", recursive=True)]\n",
    "\n",
    "from summa import summarizer\n",
    "from summa import keywords\n",
    "from tqdm.notebook import tqdm\n",
    "\n",
    "content=[]\n",
    "for file in tqdm(files, desc=\"files\"):\n",
    "    #print(file)\n",
    "    try:\n",
    "        with open(file) as f:\n",
    "            title=f.readline()\n",
    "            text=f.read()\n",
    "            content.append({\n",
    "                'doc_id':file,\n",
    "                'tile':title[:-1],\n",
    "                'text':text[1:]\n",
    "            })\n",
    "    except:\n",
    "        print(\"couldn't read the file\", file)\n",
    "        "
   ]
  },
  {
   "cell_type": "code",
   "execution_count": 18,
   "metadata": {},
   "outputs": [],
   "source": [
    "import json\n",
    "with open('content.json', 'w') as fp:\n",
    "    json.dump(content, fp)"
   ]
  },
  {
   "cell_type": "code",
   "execution_count": 19,
   "metadata": {},
   "outputs": [],
   "source": [
    "with open('content.json', 'r') as fp:\n",
    "    content = json.load(fp)"
   ]
  },
  {
   "cell_type": "code",
   "execution_count": 20,
   "metadata": {},
   "outputs": [
    {
     "data": {
      "text/plain": [
       "{'doc_id': 'tech/393.txt',\n",
       " 'tile': 'Savvy searchers fail to spot ads',\n",
       " 'text': 'Internet search engine users are an odd mix of naive and sophisticated, suggests a report into search habits.\\n\\nThe report by the US Pew Research Center reveals that 87% of searchers usually find what they were looking for when using a search engine. It also shows that few can spot the difference between paid-for results and organic ones. The report reveals that 84% of net users say they regularly use Google, Ask Jeeves, MSN and Yahoo when online.\\n\\nAlmost 50% of those questioned said they would trust search engines much less, if they knew information about who paid for results was being hidden. According to figures gathered by the Pew researchers the average users spends about 43 minutes per month carrying out 34 separate searches and looks at 1.9 webpages for each hunt. A significant chunk of net users, 36%, carry out a search at least weekly and 29% of those asked only look every few weeks. For 44% of those questioned, the information they are looking for is critical to what they are doing and is information they simply have to find.\\n\\nSearch engine users also tend to be very loyal and once they have found a site they feel they can trust tend to stick with it. According to Pew Research 44% of searchers use just a single search engine, 48% use two or three and a small number, 7%, consult more than three sites. Tony Macklin, spokesman for Ask Jeeves, said the results reflected its own research which showed that people use different search engines because the way the sites gather information means they can provide different results for the same query. Despite this liking for search sites half of those questioned said they could get the same information via other routes. A small number, 17%, said they wouldn\\'t really miss search engines if they did not exist. The remaining 33% said they could not live without search sites. More than two-thirds of those questioned, 68%, said they thought that the results they were presented with were a fair and unbiased selection of the information on a topic that can be found on the net. Alongside the growing sophistication of net users is a lack of awareness about paid-for results that many search engines provide alongside lists of websites found by indexing the web. Of those asked, 62% were unaware that someone has paid for some of the results they see when they carry out a search. Only 18% of all searchers say they can tell which results are paid for and which are not. Said the Pew report: \"This finding is ironic, since nearly half of all users say they would stop using search engines if they thought engines were not being clear about how they presented paid results.\" Commenting Mr Macklin said sponsored results must be clearly marked and though they might help with some queries user testing showed that people need to be able to spot the difference.\\n'}"
      ]
     },
     "execution_count": 20,
     "metadata": {},
     "output_type": "execute_result"
    }
   ],
   "source": [
    "content[-2]"
   ]
  },
  {
   "cell_type": "code",
   "execution_count": 21,
   "metadata": {},
   "outputs": [],
   "source": [
    "import pandas as pd"
   ]
  },
  {
   "cell_type": "code",
   "execution_count": 22,
   "metadata": {},
   "outputs": [],
   "source": [
    "df=pd.DataFrame(content)"
   ]
  },
  {
   "cell_type": "code",
   "execution_count": 23,
   "metadata": {},
   "outputs": [],
   "source": [
    "df.to_excel('content.xlsx')"
   ]
  },
  {
   "cell_type": "code",
   "execution_count": 24,
   "metadata": {},
   "outputs": [
    {
     "data": {
      "text/html": [
       "<div>\n",
       "<style scoped>\n",
       "    .dataframe tbody tr th:only-of-type {\n",
       "        vertical-align: middle;\n",
       "    }\n",
       "\n",
       "    .dataframe tbody tr th {\n",
       "        vertical-align: top;\n",
       "    }\n",
       "\n",
       "    .dataframe thead th {\n",
       "        text-align: right;\n",
       "    }\n",
       "</style>\n",
       "<table border=\"1\" class=\"dataframe\">\n",
       "  <thead>\n",
       "    <tr style=\"text-align: right;\">\n",
       "      <th></th>\n",
       "      <th>doc_id</th>\n",
       "      <th>tile</th>\n",
       "      <th>text</th>\n",
       "    </tr>\n",
       "  </thead>\n",
       "  <tbody>\n",
       "    <tr>\n",
       "      <th>0</th>\n",
       "      <td>sport/287.txt</td>\n",
       "      <td>Laporte tinkers with team</td>\n",
       "      <td>France coach Bernard Laporte has made four cha...</td>\n",
       "    </tr>\n",
       "    <tr>\n",
       "      <th>1</th>\n",
       "      <td>sport/253.txt</td>\n",
       "      <td>Old Firm pair handed suspensions</td>\n",
       "      <td>Celtic's Henri Camara and Nacho Novo of Ranger...</td>\n",
       "    </tr>\n",
       "    <tr>\n",
       "      <th>2</th>\n",
       "      <td>sport/012.txt</td>\n",
       "      <td>Edwards tips Idowu for Euro gold</td>\n",
       "      <td>World outdoor triple jump record holder and BB...</td>\n",
       "    </tr>\n",
       "    <tr>\n",
       "      <th>3</th>\n",
       "      <td>sport/232.txt</td>\n",
       "      <td>Wolves appoint Hoddle as manager</td>\n",
       "      <td>Glenn Hoddle has been unveiled as the new Wolv...</td>\n",
       "    </tr>\n",
       "    <tr>\n",
       "      <th>4</th>\n",
       "      <td>sport/202.txt</td>\n",
       "      <td>Santini resigns as Spurs manager</td>\n",
       "      <td>Tottenham manager Jacques Santini has resigned...</td>\n",
       "    </tr>\n",
       "    <tr>\n",
       "      <th>...</th>\n",
       "      <td>...</td>\n",
       "      <td>...</td>\n",
       "      <td>...</td>\n",
       "    </tr>\n",
       "    <tr>\n",
       "      <th>2219</th>\n",
       "      <td>tech/091.txt</td>\n",
       "      <td>Movie body targets children's PCs</td>\n",
       "      <td>The body that represents the US movie industry...</td>\n",
       "    </tr>\n",
       "    <tr>\n",
       "      <th>2220</th>\n",
       "      <td>tech/200.txt</td>\n",
       "      <td>Computer grid to help the world</td>\n",
       "      <td>Your computer can now help solve the world's m...</td>\n",
       "    </tr>\n",
       "    <tr>\n",
       "      <th>2221</th>\n",
       "      <td>tech/173.txt</td>\n",
       "      <td>Supercomputer breaks speed record</td>\n",
       "      <td>The US is poised to push Japan off the top of ...</td>\n",
       "    </tr>\n",
       "    <tr>\n",
       "      <th>2222</th>\n",
       "      <td>tech/393.txt</td>\n",
       "      <td>Savvy searchers fail to spot ads</td>\n",
       "      <td>Internet search engine users are an odd mix of...</td>\n",
       "    </tr>\n",
       "    <tr>\n",
       "      <th>2223</th>\n",
       "      <td>tech/279.txt</td>\n",
       "      <td>Speak easy plan for media players</td>\n",
       "      <td>Music and film fans will be able to control th...</td>\n",
       "    </tr>\n",
       "  </tbody>\n",
       "</table>\n",
       "<p>2224 rows × 3 columns</p>\n",
       "</div>"
      ],
      "text/plain": [
       "             doc_id                               tile  \\\n",
       "0     sport/287.txt          Laporte tinkers with team   \n",
       "1     sport/253.txt   Old Firm pair handed suspensions   \n",
       "2     sport/012.txt   Edwards tips Idowu for Euro gold   \n",
       "3     sport/232.txt   Wolves appoint Hoddle as manager   \n",
       "4     sport/202.txt   Santini resigns as Spurs manager   \n",
       "...             ...                                ...   \n",
       "2219   tech/091.txt  Movie body targets children's PCs   \n",
       "2220   tech/200.txt    Computer grid to help the world   \n",
       "2221   tech/173.txt  Supercomputer breaks speed record   \n",
       "2222   tech/393.txt   Savvy searchers fail to spot ads   \n",
       "2223   tech/279.txt  Speak easy plan for media players   \n",
       "\n",
       "                                                   text  \n",
       "0     France coach Bernard Laporte has made four cha...  \n",
       "1     Celtic's Henri Camara and Nacho Novo of Ranger...  \n",
       "2     World outdoor triple jump record holder and BB...  \n",
       "3     Glenn Hoddle has been unveiled as the new Wolv...  \n",
       "4     Tottenham manager Jacques Santini has resigned...  \n",
       "...                                                 ...  \n",
       "2219  The body that represents the US movie industry...  \n",
       "2220  Your computer can now help solve the world's m...  \n",
       "2221  The US is poised to push Japan off the top of ...  \n",
       "2222  Internet search engine users are an odd mix of...  \n",
       "2223  Music and film fans will be able to control th...  \n",
       "\n",
       "[2224 rows x 3 columns]"
      ]
     },
     "execution_count": 24,
     "metadata": {},
     "output_type": "execute_result"
    }
   ],
   "source": [
    "df"
   ]
  },
  {
   "cell_type": "code",
   "execution_count": null,
   "metadata": {},
   "outputs": [],
   "source": []
  }
 ],
 "metadata": {
  "kernelspec": {
   "display_name": "Python 3",
   "language": "python",
   "name": "python3"
  },
  "language_info": {
   "codemirror_mode": {
    "name": "ipython",
    "version": 3
   },
   "file_extension": ".py",
   "mimetype": "text/x-python",
   "name": "python",
   "nbconvert_exporter": "python",
   "pygments_lexer": "ipython3",
   "version": "3.6.7"
  }
 },
 "nbformat": 4,
 "nbformat_minor": 2
}
