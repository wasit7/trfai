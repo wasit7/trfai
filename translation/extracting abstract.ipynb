{
 "cells": [
  {
   "cell_type": "code",
   "execution_count": 1,
   "metadata": {},
   "outputs": [],
   "source": [
    "import json\n",
    "with open('documents_5grams.json') as document_file:\n",
    "    data = json.load(document_file)    "
   ]
  },
  {
   "cell_type": "code",
   "execution_count": 2,
   "metadata": {},
   "outputs": [
    {
     "data": {
      "text/plain": [
       "{'project_id': 'BGJ4380009',\n",
       " 'doc_id': '0',\n",
       " 'sentence_importance': [{'rank': 1,\n",
       "   'sentence': 'ภายใต้สภาวะของการผลิตตามปกติการเลือกเกิดปฏิกิริยาอีพอกซิเดชันค่อนข้างต่ำอันเนื่องจากมีออกซิเจนปกคลุมบนพื้นผิวตัวเร่งปฏิกิริยาน้อย '},\n",
       "  {'rank': 2,\n",
       "   'sentence': 'และปิโตรเคมีจุฬาลงกรณ์มหาวิทยาลัยE-mail Address : siriphong@rocketmail.comระยะเวลาโครงการ : 2 ปี 1 กันยายน 2543 - 31 สิงหาคม 2545 ในปัจจุบันตัวเร่งปฏิกิริยาโลหะเงินถูกใช้สําหรับการผลิตเอธิลีนออกไซด์ '},\n",
       "  {'rank': 3,\n",
       "   'sentence': 'ว่าโลหะเงินบนฐานรองรับไทเทเนียในการเป็นตัวเร่งปฏิกิริยาที่ไม่ดีสําหรับปฏิกิริยาอีพอกซิเดชัน '},\n",
       "  {'rank': 4,\n",
       "   'sentence': 'การเติมโลหะทองบนตัวเร่งปฏิกิริยาโลหะเงิน พบว่า 0.54% ของทองบน 13.18% AgAl2O3 สามารถให้เกิดการเลือกเกิดปฏิกิริยาสูงสุดได้ถึง 90% '},\n",
       "  {'rank': 5,\n",
       "   'sentence': 'คือการศึกษาผลของการใช้ทองเป็นตัวส่งเสริมบนตัวเร่งปฏิกิริยาโลหะเงินบนฐานรองรับ อลูมินา Degussa C Al2O3 '},\n",
       "  {'rank': 6,\n",
       "   'sentence': 'เป็นตัวเร่งปฏิกิริยาที่ดีที่สุดสําหรับปฏิกิริยาอีพอกซิเดชันคําหลัก : เอธิลีนออกไซด์ '},\n",
       "  {'rank': 7,\n",
       "   'sentence': 'และศึกษาผลของการเปลี่ยนฐานรองรับอื่นๆ เช่น ไททาเนีย TiO2 ในงานวิจัยนี้ได้ทําการทดลองศึกษาความสามารถของตัวเร่งปฏิกิริยาสําหรับเอธิลีนอีพอกซิเดชัน '},\n",
       "  {'rank': 8,\n",
       "   'sentence': 'นี้สําหรับตัวเร่งปฏิกิริยาที่เตรียมได้ พบว่า Au-AgAl2O3 '},\n",
       "  {'rank': 9,\n",
       "   'sentence': '-0009ชื่อโครงการ : การเลือกเกิดปฏิกิริยาออกซิเดชันของเอธิลีนบนฐานรองรับที่มีตัวเร่งปฏิกิริยา '},\n",
       "  {'rank': 10,\n",
       "   'sentence': 'สําหรับผลการทดลองของ AgDegussa C Al2O3 พบว่าปริมาณโลหะเงินที่เหมาะสมที่สุดคือ 13.18% '}],\n",
       " 'published_year': '2009',\n",
       " 'keyword': 'สาร,ตัว,จำนวน,กาล,ฐาน,ปฏิกิริยา,สภาพ,หลัก,ผสม,ทําการ,คํา,เงิน,ยับยั้ง,ผิว,จํา,เตรียม,วัตถุประสงค์,ต่ำ,โลหะ,เหมาะสม,สํา,จุฬาลงกรณ์มหาวิทยาลัย,น.น.,เติม,เร่ง,เนื่อง,เผา,พิษ,พื้น,หรับ,เลือก,ทอง,สรุป,ส่งเสริม,ปกติ,ปฏิบัติการ,เตา,ค้ำ,ทดแทน,ออกซิเจน,ส.ค.,แนวโน้ม,ออกซิเดชัน,กันยายน,ดิฟ',\n",
       " 'title': 'การเลือกเกิดปฏิกิริยาออกซิเดชันของเอทิลีนบนฐานรองรับที่มีตัวเร่งปฏิกิริยาเป็นโลหะเงินและโลหะผสมเงิน-ทอง',\n",
       " 'content': 'AbstractProject Code : BGJ43-8-0009Project Title : Selective Oxidation of Ethylene over Supported Ag and Bimetallic Au-Ag CatalystsInvestigator : Mr. Siriphong Roatluechai The Petroleum and Petrochemical College Chulalongkorn UniversityE-mail Address : siriphong@rocketmail.comProject Period : 2 Years 1 September 2000 - 31 August 2002Silver-based catalyst is currently used for production of ethylene oxide since itprovides both adequate activity and selectivity. Under the normal productionconditions the selectivity of epoxidation reaction is relatively low resulted from the lowoxygen surface coverage. In practice a small amount of halogenated hydrocarbon isadded to the gas stream for inhibiting deep oxidation. Therefore it is desirable to findan alternative to replace this toxic compound. The objectives of this research were tostudy the effect of gold as promoter on silver catalyst over Degussa C Al2O3 and alsoto investigate the effect of supports which was TiO2. Catalyst activity experiments forethylene epoxidation were carried out by using a differential reactor. For 13.18% Ag onDegussa C Al2O3 gave the optimum ethylene epoxidation. An addition of 0.54% goldon 13.18% AgAl2O3 maximized the activity with the ethylene oxide selectivity up to90%. In contrast Ag on TiO2 was poor catalysts for ethylene epoxdation. As expectedAuTiO2 gave a good trend for ethylene epoxidation but still obtained a lower yield thanAgAl2O3. Among the prepared catalysts in this research Au-Ag on Al2O3 is the bestcatalyst for ethylene epoxidation.Keywords : Ethylene oxideEthylene oxidationsilvergoldAl2O3 TiO2  CeO2 บทคัดย่อรหัสโครงการ : BGJ43-8-0009ชื่อโครงการ : การเลือกเกิดปฏิกิริยาออกซิเดชันของเอธิลีนบนฐานรองรับที่มีตัวเร่งปฏิกิริยา เป็นโลหะเงินและโลหะผสมเงิน-ทองชื่อนักวิจัย : นายศิริพงษ์ โรจน์ลือชัย วิทยาลัยปิโตรเลียมและปิโตรเคมีจุฬาลงกรณ์มหาวิทยาลัยE-mail Address : siriphong@rocketmail.comระยะเวลาโครงการ : 2 ปี 1 กันยายน 2543 - 31 สิงหาคม 2545 ในปัจจุบันตัวเร่งปฏิกิริยาโลหะเงินถูกใช้สําหรับการผลิตเอธิลีนออกไซด์ เพราะให้ทั้งความสามารถเกิดปฏิกิริยาและการเลือกเกิดปฏิกิริยาที่สูงเพียงพอ ภายใต้สภาวะของการผลิตตามปกติการเลือกเกิดปฏิกิริยาอีพอกซิเดชันค่อนข้างต่ำอันเนื่องจากมีออกซิเจนปกคลุมบนพื้นผิวตัวเร่งปฏิกิริยาน้อย ในทางปฏิบัติการเติมสารฮาโลจิเนทไฮโดรคาร์บอนจํานวนเล็กน้อยในสารตั้งต้นเพื่อยับยั้งปฏิกิริยาการเผาไหม้ ดังนั้นจึงเป็นสิ่งจําเป็นในการหาทางเลือกอื่นเพื่อทดแทนสารประกอบที่เป็นพิษนี้ วัตถุประสงค์ของการวิจัยนี้ คือการศึกษาผลของการใช้ทองเป็นตัวส่งเสริมบนตัวเร่งปฏิกิริยาโลหะเงินบนฐานรองรับ อลูมินา Degussa C Al2O3 และศึกษาผลของการเปลี่ยนฐานรองรับอื่นๆ เช่น ไททาเนีย TiO2 ในงานวิจัยนี้ได้ทําการทดลองศึกษาความสามารถของตัวเร่งปฏิกิริยาสําหรับเอธิลีนอีพอกซิเดชัน โดยใช้เตาปฏิกรแบบดิฟเฟอเรลเชียล สําหรับผลการทดลองของ AgDegussa C Al2O3 พบว่าปริมาณโลหะเงินที่เหมาะสมที่สุดคือ 13.18% โดยน้ำหนัก สําหรับปฏิกิริยาอีพอกซิเดชันของเอธิลีน การเติมโลหะทองบนตัวเร่งปฏิกิริยาโลหะเงิน พบว่า 0.54% ของทองบน 13.18% AgAl2O3 สามารถให้เกิดการเลือกเกิดปฏิกิริยาสูงสุดได้ถึง 90% ในทางกลับกันผลของการศึกษาแสดงให้เห็นว่าโลหะเงินบนฐานรองรับไทเทเนียในการเป็นตัวเร่งปฏิกิริยาที่ไม่ดีสําหรับปฏิกิริยาอีพอกซิเดชัน แต่ พบว่า AuTiO2 ให้แนวโน้มที่ดีในการเป็นตัวเร่งปฏิกิริยาของปฏิกิริยาเอธีลีนอีพอกซิเดชัน โดยสรุปจากผลการทดลองทั้งหมดในงานวิจัยนี้สําหรับตัวเร่งปฏิกิริยาที่เตรียมได้ พบว่า Au-AgAl2O3 เป็นตัวเร่งปฏิกิริยาที่ดีที่สุดสําหรับปฏิกิริยาอีพอกซิเดชันคําหลัก : เอธิลีนออกไซด์ เอธิลีน ออกซิเดชัน เงิน ทอง อลูมินา ไทเทเนีย',\n",
       " 'word': 'เนื่อง,ออกซิเจน,ปฏิบัติการ,ไททาเนีย,พื้น,ตั้งต้น,โลหะ,ปฏิกร,ลีน,คํา,น.น.,อลูมินา,ค้ำ,พอก,ผิว,หรับ,พอกซิเดชัน,ทดแทน,ผสม,หลัก,ทําการ,เตรียม,ปกติ,สรุป,เอธิลีนออกไซด์,สารฮาโลจิเนทไฮโดรคาร์บอน,เตา,สภาพ,ปิโตรเลียม,จุฬาลงกรณ์มหาวิทยาลัย,เติม,เผา,พิษ,จำนวน,ไทเทเนีย,ดิฟ,สาร,ออกซิเดชัน,ซิเดชัน,เอธี,สํา,กันยายน,เร่ง,จํา,ส่งเสริม,แนวโน้ม,เงิน,เฟอเรลเชียล,เอธิลีน,อีพอกซิเดชัน,ทอง,เหมาะสม,ฐาน,กาล,ปฏิกิริยา,ตัว,ปิโตรเคมี,ที่สุดสําหรับ,ส.ค.,ปกคลุม,วัตถุประสงค์,ต่ำ,เลือก,ยับยั้ง'}"
      ]
     },
     "execution_count": 2,
     "metadata": {},
     "output_type": "execute_result"
    }
   ],
   "source": [
    "data[0]"
   ]
  },
  {
   "cell_type": "code",
   "execution_count": 3,
   "metadata": {},
   "outputs": [],
   "source": [
    "content = list(map(lambda x: {'doc_id':int(x['doc_id']),'project_id':x['project_id'],'content':x['content']}, data))"
   ]
  },
  {
   "cell_type": "code",
   "execution_count": 5,
   "metadata": {},
   "outputs": [
    {
     "ename": "ModuleNotFoundError",
     "evalue": "No module named 'pandas'",
     "output_type": "error",
     "traceback": [
      "\u001b[0;31m---------------------------------------------------------------------------\u001b[0m",
      "\u001b[0;31mModuleNotFoundError\u001b[0m                       Traceback (most recent call last)",
      "\u001b[0;32m<ipython-input-5-7dd3504c366f>\u001b[0m in \u001b[0;36m<module>\u001b[0;34m\u001b[0m\n\u001b[0;32m----> 1\u001b[0;31m \u001b[0;32mimport\u001b[0m \u001b[0mpandas\u001b[0m \u001b[0;32mas\u001b[0m \u001b[0mpd\u001b[0m\u001b[0;34m\u001b[0m\u001b[0;34m\u001b[0m\u001b[0m\n\u001b[0m",
      "\u001b[0;31mModuleNotFoundError\u001b[0m: No module named 'pandas'"
     ]
    }
   ],
   "source": [
    "import pandas as pd"
   ]
  },
  {
   "cell_type": "code",
   "execution_count": null,
   "metadata": {},
   "outputs": [],
   "source": []
  }
 ],
 "metadata": {
  "kernelspec": {
   "display_name": "Python 3",
   "language": "python",
   "name": "python3"
  },
  "language_info": {
   "codemirror_mode": {
    "name": "ipython",
    "version": 3
   },
   "file_extension": ".py",
   "mimetype": "text/x-python",
   "name": "python",
   "nbconvert_exporter": "python",
   "pygments_lexer": "ipython3",
   "version": "3.6.7"
  }
 },
 "nbformat": 4,
 "nbformat_minor": 2
}
