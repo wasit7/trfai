{
 "cells": [
  {
   "cell_type": "code",
   "execution_count": 1,
   "metadata": {},
   "outputs": [
    {
     "data": {
      "text/plain": [
       "['natural language', 'machine', 'frequently']"
      ]
     },
     "execution_count": 1,
     "metadata": {},
     "output_type": "execute_result"
    }
   ],
   "source": [
    "#https://radimrehurek.com/gensim/summarization/keywords.html\n",
    "\n",
    "from gensim.summarization import keywords\n",
    "text = '''Challenges in natural language processing frequently involve\n",
    "speech recognition, natural language understanding, natural language\n",
    "generation (frequently from formal, machine-readable logical forms),\n",
    "connecting language and machine perception, dialog systems, or some\n",
    "combination thereof.'''\n",
    "keywords(text).split('\\n')"
   ]
  },
  {
   "cell_type": "code",
   "execution_count": 2,
   "metadata": {},
   "outputs": [],
   "source": [
    "import json\n",
    "with open('content.json', 'r') as fp:\n",
    "    content = json.load(fp)"
   ]
  },
  {
   "cell_type": "code",
   "execution_count": 27,
   "metadata": {},
   "outputs": [
    {
     "name": "stdout",
     "output_type": "stream",
     "text": [
      "['music', 'songs', 'song', 'technology', 'technologies', 'voice', 'devices', 'device', 'firms', 'firm', 'libraries', 'library', 'said', 'media players', 'player', 'people', 'easy', 'vice', 'control', 'digital', 'entertainment', 'scansoft', 'experience allowing', 'finding']\n",
      "['music', 'song', 'technologies', 'voice', 'device', 'firm', 'library', 'said', 'media', 'player', 'people', 'easy', 'vice', 'control', 'digital', 'entertainment', 'scansoft', 'experience allowing', 'single']\n"
     ]
    }
   ],
   "source": [
    "text=content[-1]['content']\n",
    "print(content[-1]['keywords'])\n",
    "print(keywords(text,ratio=0.2, words=20, split=True, scores=False, pos_filter=('NN'), lemmatize=True, deacc=True))"
   ]
  },
  {
   "cell_type": "code",
   "execution_count": 32,
   "metadata": {},
   "outputs": [
    {
     "data": {
      "text/plain": [
       "['catalysts',\n",
       " 'ethylene',\n",
       " 'oxidation',\n",
       " 'epoxidation',\n",
       " 'low',\n",
       " 'surface',\n",
       " 'production',\n",
       " 'yield',\n",
       " 'hydrocarbon',\n",
       " 'activity',\n",
       " 'deep',\n",
       " 'gas stream',\n",
       " 'findan alternative',\n",
       " 'reactor',\n",
       " 'differential',\n",
       " 'compound',\n",
       " 'good trend',\n",
       " 'gave',\n",
       " 'toxic',\n",
       " 'goldon',\n",
       " 'alsoto investigate',\n",
       " 'agal',\n",
       " 'expectedautio',\n",
       " 'experiments forethylene',\n",
       " 'silver']"
      ]
     },
     "execution_count": 32,
     "metadata": {},
     "output_type": "execute_result"
    }
   ],
   "source": [
    "#trf data need to be clean by https://github.com/wolfgarbe/symspell\n",
    "text=\"\"\"\n",
    "Silver-based catalyst is currently used for production of ethylene oxide since itprovides both adequate activity and selectivity. Under the normal production conditions the selectivity of epoxidation reaction is relatively low resulted from the lowoxygen surface coverage. In practice a small amount of halogenated hydrocarbon isadded to the gas stream for inhibiting deep oxidation. Therefore it is desirable to findan alternative to replace this toxic compound. The objectives of this research were tostudy the effect of gold as promoter on silver catalyst over Degussa C Al2O3 and alsoto investigate the effect of supports which was TiO2. Catalyst activity experiments forethylene epoxidation were carried out by using a differential reactor. For 13.18% Ag onDegussa C Al2O3 gave the optimum ethylene epoxidation. An addition of 0.54% goldon 13.18% AgAl2O3 maximized the activity with the ethylene oxide selectivity up to90%. In contrast Ag on TiO2 was poor catalysts for ethylene epoxdation. As expectedAuTiO2 gave a good trend for ethylene epoxidation but still obtained a lower yield thanAgAl2O3. Among the prepared catalysts in this research Au-Ag on Al2O3 is the bestcatalyst for ethylene epoxidation\n",
    "\"\"\"\n",
    "keywords(text,ratio=0.2, words=30, split=True, scores=False, pos_filter=('NN'), lemmatize=True, deacc=True)"
   ]
  }
 ],
 "metadata": {
  "kernelspec": {
   "display_name": "Python 3",
   "language": "python",
   "name": "python3"
  },
  "language_info": {
   "codemirror_mode": {
    "name": "ipython",
    "version": 3
   },
   "file_extension": ".py",
   "mimetype": "text/x-python",
   "name": "python",
   "nbconvert_exporter": "python",
   "pygments_lexer": "ipython3",
   "version": "3.6.9"
  }
 },
 "nbformat": 4,
 "nbformat_minor": 2
}
