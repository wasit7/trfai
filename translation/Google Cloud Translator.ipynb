{
 "cells": [
  {
   "cell_type": "markdown",
   "metadata": {},
   "source": [
    "# Initialize\n",
    "#### SET GOOGLE_APPLICATION_CREDENTIALS=\"credentials file\" // full path"
   ]
  },
  {
   "cell_type": "code",
   "execution_count": 1,
   "metadata": {},
   "outputs": [
    {
     "name": "stdout",
     "output_type": "stream",
     "text": [
      "/home/wasit/github/trfai/translation/credentials.json\n"
     ]
    }
   ],
   "source": [
    "%%bash\n",
    "export GOOGLE_APPLICATION_CREDENTIALS=\"/home/wasit/github/trfai/translation/credentials.json\"\n",
    "echo ${GOOGLE_APPLICATION_CREDENTIALS}"
   ]
  },
  {
   "cell_type": "code",
   "execution_count": 2,
   "metadata": {},
   "outputs": [],
   "source": [
    "from google.cloud import translate_v2 as translate\n",
    "import json"
   ]
  },
  {
   "cell_type": "code",
   "execution_count": 3,
   "metadata": {},
   "outputs": [],
   "source": [
    "translate_client = translate.Client()"
   ]
  },
  {
   "cell_type": "code",
   "execution_count": 5,
   "metadata": {},
   "outputs": [],
   "source": [
    "data = list()\n",
    "\n",
    "with open('documents_5grams.json') as document_file:\n",
    "    data = json.load(document_file)    \n",
    "    data = map(lambda x: x['content'], data)\n",
    "    data = list(data)[:3]"
   ]
  },
  {
   "cell_type": "code",
   "execution_count": 12,
   "metadata": {},
   "outputs": [
    {
     "data": {
      "text/plain": [
       "['AbstractProject Code : BGJ43-8-0009Project Title : Selective Oxidation of Ethylene over Supported Ag and Bimetallic Au-Ag CatalystsInvestigator : Mr. Siriphong Roatluechai The Petroleum and Petrochemical College Chulalongkorn UniversityE-mail Address : siriphong@rocketmail.comProject Period : 2 Years 1 September 2000 - 31 August 2002Silver-based catalyst is currently used for production of ethylene oxide since itprovides both adequate activity and selectivity. Under the normal productionconditions the selectivity of epoxidation reaction is relatively low resulted from the lowoxygen surface coverage. In practice a small amount of halogenated hydrocarbon isadded to the gas stream for inhibiting deep oxidation. Therefore it is desirable to findan alternative to replace this toxic compound. The objectives of this research were tostudy the effect of gold as promoter on silver catalyst over Degussa C Al2O3 and alsoto investigate the effect of supports which was TiO2. Catalyst activity experiments forethylene epoxidation were carried out by using a differential reactor. For 13.18% Ag onDegussa C Al2O3 gave the optimum ethylene epoxidation. An addition of 0.54% goldon 13.18% AgAl2O3 maximized the activity with the ethylene oxide selectivity up to90%. In contrast Ag on TiO2 was poor catalysts for ethylene epoxdation. As expectedAuTiO2 gave a good trend for ethylene epoxidation but still obtained a lower yield thanAgAl2O3. Among the prepared catalysts in this research Au-Ag on Al2O3 is the bestcatalyst for ethylene epoxidation.Keywords : Ethylene oxideEthylene oxidationsilvergoldAl2O3 TiO2  CeO2 บทคัดย่อรหัสโครงการ : BGJ43-8-0009ชื่อโครงการ : การเลือกเกิดปฏิกิริยาออกซิเดชันของเอธิลีนบนฐานรองรับที่มีตัวเร่งปฏิกิริยา เป็นโลหะเงินและโลหะผสมเงิน-ทองชื่อนักวิจัย : นายศิริพงษ์ โรจน์ลือชัย วิทยาลัยปิโตรเลียมและปิโตรเคมีจุฬาลงกรณ์มหาวิทยาลัยE-mail Address : siriphong@rocketmail.comระยะเวลาโครงการ : 2 ปี 1 กันยายน 2543 - 31 สิงหาคม 2545 ในปัจจุบันตัวเร่งปฏิกิริยาโลหะเงินถูกใช้สําหรับการผลิตเอธิลีนออกไซด์ เพราะให้ทั้งความสามารถเกิดปฏิกิริยาและการเลือกเกิดปฏิกิริยาที่สูงเพียงพอ ภายใต้สภาวะของการผลิตตามปกติการเลือกเกิดปฏิกิริยาอีพอกซิเดชันค่อนข้างต่ำอันเนื่องจากมีออกซิเจนปกคลุมบนพื้นผิวตัวเร่งปฏิกิริยาน้อย ในทางปฏิบัติการเติมสารฮาโลจิเนทไฮโดรคาร์บอนจํานวนเล็กน้อยในสารตั้งต้นเพื่อยับยั้งปฏิกิริยาการเผาไหม้ ดังนั้นจึงเป็นสิ่งจําเป็นในการหาทางเลือกอื่นเพื่อทดแทนสารประกอบที่เป็นพิษนี้ วัตถุประสงค์ของการวิจัยนี้ คือการศึกษาผลของการใช้ทองเป็นตัวส่งเสริมบนตัวเร่งปฏิกิริยาโลหะเงินบนฐานรองรับ อลูมินา Degussa C Al2O3 และศึกษาผลของการเปลี่ยนฐานรองรับอื่นๆ เช่น ไททาเนีย TiO2 ในงานวิจัยนี้ได้ทําการทดลองศึกษาความสามารถของตัวเร่งปฏิกิริยาสําหรับเอธิลีนอีพอกซิเดชัน โดยใช้เตาปฏิกรแบบดิฟเฟอเรลเชียล สําหรับผลการทดลองของ AgDegussa C Al2O3 พบว่าปริมาณโลหะเงินที่เหมาะสมที่สุดคือ 13.18% โดยน้ำหนัก สําหรับปฏิกิริยาอีพอกซิเดชันของเอธิลีน การเติมโลหะทองบนตัวเร่งปฏิกิริยาโลหะเงิน พบว่า 0.54% ของทองบน 13.18% AgAl2O3 สามารถให้เกิดการเลือกเกิดปฏิกิริยาสูงสุดได้ถึง 90% ในทางกลับกันผลของการศึกษาแสดงให้เห็นว่าโลหะเงินบนฐานรองรับไทเทเนียในการเป็นตัวเร่งปฏิกิริยาที่ไม่ดีสําหรับปฏิกิริยาอีพอกซิเดชัน แต่ พบว่า AuTiO2 ให้แนวโน้มที่ดีในการเป็นตัวเร่งปฏิกิริยาของปฏิกิริยาเอธีลีนอีพอกซิเดชัน โดยสรุปจากผลการทดลองทั้งหมดในงานวิจัยนี้สําหรับตัวเร่งปฏิกิริยาที่เตรียมได้ พบว่า Au-AgAl2O3 เป็นตัวเร่งปฏิกิริยาที่ดีที่สุดสําหรับปฏิกิริยาอีพอกซิเดชันคําหลัก : เอธิลีนออกไซด์ เอธิลีน ออกซิเดชัน เงิน ทอง อลูมินา ไทเทเนีย',\n",
       " '2บทคัดย่อรหัสโครงการ : RDG4730023ชื่อโครงการ : การเรียนรู้อย่างนักวิทยาศาสตร์กับสถานีตรวจอากาศอัตโนมัติชื่อนักวิจัย : ฐากูร เกิดแก้ว1 ศรีดา ตันทะอธิพานิช1 ธีรศักดิ์ ท่าหลวง1 อดิเรก พิทักษ์1ฤาชา รักราชการ1 บุษบา คราเมอร์2 พันธุ์ทิพย์ ทิมสุกใส3; 1หอดูดาวเกิดแก้ว 2ศูนย์ทดสอบผลิตภัณฑ์ไฟฟ้าและอิเล็กทรอนิกส์ 3มหาวิทยาลัยราชภัฏนครราชสีมาEmail address :thagoon@kirdkao.orgระยะเวลาโครงการ :มีนาคม 2547 – กุมภาพันธ์ 2548เพื่อฝึกทักษะกระบวนการทางวิทยาศาสตร์อย่างครบวงจรให้แก่ครูและนักเรียน โดยการศึกษาข้อมูลอากาศจากสถานีตรวจอากาศ 8 แห่ง ที่ติดตั้งไว้ทั่วประเทศได้แก่ กรุงเทพฯ นนทบุรี กาญจนบุรี สระบุรี นครราชสีมา เชียงใหม่ ทุ่งสง และนครศรีธรรมราช ข้อมูลทั้งหมดถูกรวบรวมให้บริการบนเว็บไซต์www.lesaproject.com และจัดให้มีค่ายวิทยาศาสตร์จํานวน 3 ครั้งๆ ละ 4 วัน 3 คืน ในระหว่างปีการศึกษา 2547 โดยจําลองสถานะการณ์ของนักวิทยาศาสตร์จริง ฝึกฝนทักษะในการเก็บข้อมูล วิเคราะห์ข้อมูลด้วยซอฟต์แวร์ ตลอดจนการนําเสนอผลงานทางวิชาการในรูปเอกสารวิจัยและโปสเตอร์ รวมทั้งการตีพิมพ์ผลงานในรูปเอกสารวิชาการอิเล็กทรอนิกส์ Electronic Journal ผลสําเร็จของโครงการทําให้เกิดนักวิจัยรุ่นเยาว์จํานวน 62 คน ครูที่ปรึกษา 33 คน จาก 19 โรงเรียน มีผลงานวิจัยของนักเรียนจํานวน 26 ฉบับเนื่องจาก LESA WS เป็นโครงการที่เกิดจากความร่วมมือของครูและนักเรียนจากทั่วประเทศในการทํางานวิจัยโดยใช้ข้อมูลอากาศจริง จึงเป็นการเปิดมิติใหม่ในวงการศึกษาไทย ครูและนักเรียนต่างโรงเรียนช่วยเหลือเกื้อกูลแลกเปลี่ยนข้อมูลและมิตรภาพ ทําให้เกิดองค์ความรู้ทางด้านภูมิอากาศในท้องถิ่นและระหว่างภูมิภาค อีกทั้งเป็นจุดเริ่มต้นของโครงการความร่วมมือกับต่างประเทศ เช่น โครงการแลกเปลี่ยนนักเรียนไทย – นิวซีแลนด์ และ NASA CloudSat Education Networkคําหลัก :สถานีตรวจอากาศอัตโนมัติลมฟ้าอากาศภูมิอากาศ 3AbstractProject Code : RDG4730023Project Title : Learning to be a Scientist with Automatic Weather Station LESA WSInvestigators : Kirdkao T.1 Tanta-atipanit S.1 Thaluang T.1 Pitak A.1 Rakrachakarn R.1 KramerB.2 Timsuksai P.3; 1Kirdkao Observatory 2PTEC 3Nakhon Rachasima Rajabhat UniversityEmail Address :thagoon@kirdkao.orgProject Duration :March 2004 – February 2005The main purpose is to increase the ability of the participants to complete a circle of scientificprocedure by studying weather data which can be acquired from eight weather stations aroundthe country. All the data is gathered and is placed on the LESA website www.lesaproject.com. In2004 three scientific camps were set up. The participants students and teachers were trainedto collect data analyze them by using computer software and present their academic reportson posters and research documents as well as on electronic journals. At the end of the projectsixty-two young scientists thirty-three teachers from nineteen schools had been trained andtwenty-six research documents were written. Moreover since the application of the data camefrom different parts of the country the participants understood not only their own climatebut also that of others. This creates a cooperation among the students and teachers around thecountry which is the new educational dimension in Thai society. Above all it is the beginningof an international cooperation namely: The Thai – New Zealand exchange students programand the NASA CloudSat Education Network.Keywords :Automated weather stationWeatherClimate',\n",
       " 'iiiชื่อโครงการวิจัยภาษาไทย การศึกษาเรื่องการทรงตัวและหกล้มในผู้สูงอายุไทยภาษาอังกฤษ A study in fall and balance in Thai elderly populationชื่อสกุลผู้วิจัย อาจารย์ แดนเนาวรัตน์ จามรจันทร์ ผู้ช่วยศาสตราจารย์ ดร. จิตอนงค์ ก้าวกสิกรรม อาจารย์ สุจิตรา บุญหยงบทคัดย่อบทนํา การหกล้มเป็นปัญหาที่พบบ่อยในผู้สูงอายุ สาเหตุที่ทําให้หกล้มนั้นส่วนใหญ่เกิดจากการลดลงหรือสูญเสียการทรงตัว การสูญเสียการทรงตัวพบมากในผู้สูงอายุที่กลัวการหกล้มและกล้ามเนื้ออ่อนแรงซึ่งภาวะความกลัวการหกล้มเป็นปัจจัยที่มีอิทธิพลต่อการทรงตัว การศึกษาครั้งนี้เป็นการศึกษาเปรียบเทียบการทรงตัว และความแตกต่างของการทํางานของกล้ามเนื้อขาเพื่อรักษาสมดุลการทรงตัวของร่างกายเมื่อเสียสมดุลทางด้านหน้าขณะยืนในผู้สูงอายุไทยที่มีภาวะความกลัวการหกล้มและไม่มีภาวะความกลัวการหกล้มวัตถุประสงค์ ศึกษาระดับการทรงตัวในผู้สูงอายุ ความสัมพันธ์ระหว่างความกลัวการหกล้มกับการทรงตัวในผู้สูงอายุ และอิทธิพลความแข็งแรงของกล้ามเนื้อที่ควบคุมข้อเข่าและข้อเท้ากับการทรงตัววิธีการศึกษา ประชากรผู้สูงอายุไทยทั้งเพศชายและหญิง อายุระหว่าง 65-80 ปี เพศละ 30 คน แต่ละเพศแบ่งเป็น 2 กลุ่ม คือ กลุ่มที่กลัวการหกล้มและกลุ่มที่ไม่กลัวการหกล้ม กลุ่มละ 15 คน ทําการทดสอบการทรงตัวขณะยืน โดยวัดค่าของจุดศูนย์กลางแรงกดที่เท้าที่เปลี่ยนไป ระยะจํากัดการทรงตัว ขณะโน้มตัวไปด้านหน้าและเอนตัวมาทางด้านหลัง และวัดเวลาเริ่มต้นของการเปลี่ยนแปลงสัญญาณไฟฟ้าที่กล้ามเนื้อtibailis anterior rectus femoris biceps femoris และ gastrocnemius medial head ของขาขวา เมื่อถูกรบกวนให้เสียสมดุลไปด้านหน้าผลการศึกษา กลุ่มที่ไม่กลัวการหกล้มเพศชายมีความสามารถในการโน้มตัวมาด้านหน้าได้ระยะทางที่เคลื่อนไปได้มากที่สุดมากกว่าทุกกลุ่มทั้งระหว่างเพศและในเพศเดียวกัน โดยมีค่าความแตกต่างอย่างมีนัยสําคัญทางสถิติที่ p<0.05 และกลุ่มที่ไม่กลัวการหกล้มทั้ง 2 เพศ สามารถเอนตัวมาด้านหลังได้ระยะทางที่เคลื่อนไปได้มากที่สุดและความสามารถในการควบคุมทิศทางมากกว่ากลุ่มที่กลัวการหกล้ม โดยมีค่าความแตกต่างอย่างมีนัยสําคัญทางสถิติที่ p<0.05 และเมื่อถูกรบกวนสมดุลการทรงตัวขณะยืนพบว่าทุกกลุ่มมีการทํางานของกล้ามเนื้อ tibialis anterior ก่อนกล้ามเนื้อขามัดอื่น โดยที่กลุ่มที่ไม่กลัวการหกล้ม ivกล้ามเนื้อจะทํางานก่อนกลุ่มที่กลัวการหกล้มโดยมีค่าความแตกต่างทางสถิติที่ p<0.05 และกลุ่มที่ไม่กลัวการหกล้มทั้ง 2 เพศไม่มีความแตกต่างกันสรุปผลการศึกษา ภาวะความกลัวการหกล้มเป็นปัจจัยหนึ่งที่ทําให้การเคลื่อนไหวลดลง ประสิทธิภาพทางกายลดลงส่งผลให้เกิดภาวะกล้ามเนื้ออ่อนแรง อันเป็นสาเหตุให้การทรงตัวลดลง และเกิดการหกล้มได้ง่ายขึ้น วิธีหนึ่งในการแก้ไขหรือป้องกันการหกล้มคือการออกกําลังกายเพื่อเพิ่มความแข็งแรงของกล้ามเนื้อที่ควบคุมข้อเข่าและข้อเท้า และเพิ่มประสิทธิภาพในการทรงตัว vProject TitleA study in fall and balance in Thai elderly populationNames of the Investigator Dannaovarat ChamonchantAsst. Prof. Dr. Chitanongk GaogasigamSujitra BoonyongAbstractIntroduction: Fall is a common problem in the elderly. Fall mostly results from impairment or lossof balance. Loss of balance in the elderly is usually accompanied with fear of falling andweakness of lower limb muscles. Fear of falling is a factor influenced on the balance ability.This study investigated the balance ability in Thai elderly with and without fear of falling. Thestudy also compared the activity of lower limb muscles during anterior perturbation.Objectives: To investigate the balance ability in the elderly and the relationship between fear offalling and balance including the influence of the knee and ankle musculatures on balance.Methods: Sixty males and females Thai elderly aged 65-80 years volunteered in this study.They were classified into two main groups; one having a fear of falling FF 15 males and 15females and another without the fear NFF 15 males and 15 females. Balance ability wasevaluated by mean of the measurement of change in center of pressure in term of limit ofstability during postural change to maximal forward and backward leaning on the force platformon which they were standing. The onset time of of the right lower limb muscle activity such astibialis anterior rectus femoris biceps femoris and gastrocnemius medial head was alsodetected during anterior perturbation.Results: There was a statistically significant difference p<0.05 in the value of limit of stabilitymaximum excursion during forward leaning in the male –non fear group comparing with othergroups. The male-non fear group had the greater value of limit of stability. In comparison withthe fear of falling group the non fear group had the greater value of limit of stability maximumexcursion and direction control in backward leaning which was statistically significant differentp<0.05. The tibialis anterior firstly responded to anterior perturbation in order to keep thebalance. The onset time of the tibialis anterior in non fear group was statistically different fromthat of the fear of falling group p<0.05. However there was no difference of the onset time oftibialis anterior between male and female viConclusion: Fear of falling is a factor that diminishes the quality of movement decreases thephysical capability which consequently results in weakening muscles. Fear of falling cancause impairment of balance and therefore can increase the frequency of fall. Strengtheningexercise of knee and ankle musculatures accompanied with balancing exercise can be the wayto alleviate and prevent this problem.']"
      ]
     },
     "execution_count": 12,
     "metadata": {},
     "output_type": "execute_result"
    }
   ],
   "source": [
    "data[:]"
   ]
  },
  {
   "cell_type": "code",
   "execution_count": null,
   "metadata": {},
   "outputs": [],
   "source": [
    "output = list()\n",
    "for item in data:\n",
    "    result = translate_client.translate(item, target_language='en')\n",
    "    output.append({\n",
    "        'input': result['input'],\n",
    "        'translatedText': result['translatedText'],\n",
    "        'detectedSourceLanguage': result['detectedSourceLanguage']\n",
    "    })\n"
   ]
  },
  {
   "cell_type": "code",
   "execution_count": null,
   "metadata": {},
   "outputs": [],
   "source": [
    "with open('example_google_cloud_translator.json', 'w', encoding='utf8') as outfile:\n",
    "    json.dump(output, outfile, ensure_ascii=False, indent=4)"
   ]
  }
 ],
 "metadata": {
  "kernelspec": {
   "display_name": "Python 3",
   "language": "python",
   "name": "python3"
  },
  "language_info": {
   "codemirror_mode": {
    "name": "ipython",
    "version": 3
   },
   "file_extension": ".py",
   "mimetype": "text/x-python",
   "name": "python",
   "nbconvert_exporter": "python",
   "pygments_lexer": "ipython3",
   "version": "3.6.7"
  }
 },
 "nbformat": 4,
 "nbformat_minor": 2
}
